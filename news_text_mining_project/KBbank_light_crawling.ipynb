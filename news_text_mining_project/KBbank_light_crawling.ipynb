{
 "cells": [
  {
   "cell_type": "code",
   "execution_count": 6,
   "metadata": {
    "collapsed": true
   },
   "outputs": [],
   "source": [
    "from korean_crawling_bundles import *"
   ]
  },
  {
   "cell_type": "code",
   "execution_count": 7,
   "metadata": {
    "collapsed": false
   },
   "outputs": [],
   "source": [
    "def chungchungmaru(PageNum = 3):\n",
    "    url = 'https://search.naver.com/search.naver?&where=news&query=kb%EA%B5%AD%EB%AF%BC%EC%9D%80%ED%96%89&sm=tab_pge&sort=0&photo=0&field=0&reporter_article=&pd=3&ds=2018.08.01&de=2018.09.20&docid=&nso=so:r,p:from20180801to20180920,a:all&mynews=0&cluster_rank=38&start=1&refresh_start=2'\n",
    "    driver = webdriver.Chrome()\n",
    "    driver.get(url)\n",
    "\n",
    "    title_ls = []\n",
    "    link_ls = []\n",
    "    for _ in range(1,PageNum):\n",
    "        for i in range(1,11):\n",
    "            try : \n",
    "                driver.execute_script('window.scrollTo(100,{});'.format(i*100))\n",
    "#                 time.sleep(1)\n",
    "                title_ls.append(driver.find_element_by_css_selector('ul.type01 > li:nth-child({})  dt > a'.format(i)).get_attribute('title'))\n",
    "                link_ls.append(driver.find_element_by_css_selector('ul.type01 > li:nth-child({})  dt > a'.format(i)).get_attribute('href'))\n",
    "            except : pass\n",
    "        driver.execute_script('window.scrollTo(100,{});'.format(1000))\n",
    "        driver.find_element_by_css_selector('#main_pack > div.news.mynews.section._prs_nws > div.paging > a.next').click()\n",
    "    driver.close()\n",
    "    if len(title_ls) == len(link_ls) : display(Markdown('### No problem'))\n",
    "    return title_ls , link_ls"
   ]
  },
  {
   "cell_type": "code",
   "execution_count": null,
   "metadata": {
    "collapsed": false,
    "scrolled": false
   },
   "outputs": [],
   "source": [
    "title_ls , link_ls = chungchungmaru(1000)"
   ]
  },
  {
   "cell_type": "code",
   "execution_count": null,
   "metadata": {
    "collapsed": false,
    "scrolled": true
   },
   "outputs": [],
   "source": [
    "report_dict = dict(zip(title_ls,link_ls))\n",
    "len(report_dict)"
   ]
  },
  {
   "cell_type": "code",
   "execution_count": null,
   "metadata": {
    "collapsed": false
   },
   "outputs": [],
   "source": [
    "chungchun_detect_title = []\n",
    "chungchun_detect_link = []\n",
    "for title,link in report_dict.items():\n",
    "    if '청춘' in title or '마루' in title : \n",
    "        chungchun_detect_title.append(title)\n",
    "        chungchun_detect_link.append(link)\n",
    "len(chungchun_detect_title) , len(chungchun_detect_link)"
   ]
  },
  {
   "cell_type": "code",
   "execution_count": null,
   "metadata": {
    "collapsed": true
   },
   "outputs": [],
   "source": [
    "print()'ratio of chungchungmaru: {}%'.format(100*(len(chungchun_detect_title) / len(report_dict))))"
   ]
  },
  {
   "cell_type": "code",
   "execution_count": null,
   "metadata": {
    "collapsed": false
   },
   "outputs": [],
   "source": [
    "chungchun_detect_title"
   ]
  },
  {
   "cell_type": "code",
   "execution_count": null,
   "metadata": {
    "collapsed": false
   },
   "outputs": [],
   "source": [
    "chungchun_detect_link"
   ]
  }
 ],
 "metadata": {
  "kernelspec": {
   "display_name": "Python 3",
   "language": "python",
   "name": "python3"
  },
  "language_info": {
   "codemirror_mode": {
    "name": "ipython",
    "version": 3
   },
   "file_extension": ".py",
   "mimetype": "text/x-python",
   "name": "python",
   "nbconvert_exporter": "python",
   "pygments_lexer": "ipython3",
   "version": "3.6.0"
  }
 },
 "nbformat": 4,
 "nbformat_minor": 2
}
