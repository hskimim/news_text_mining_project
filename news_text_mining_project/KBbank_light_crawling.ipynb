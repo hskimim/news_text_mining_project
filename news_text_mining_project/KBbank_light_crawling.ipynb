{
 "cells": [
  {
   "cell_type": "code",
   "execution_count": 1,
   "metadata": {
    "collapsed": true
   },
   "outputs": [],
   "source": [
    "from korean_crawling_bundles import *"
   ]
  },
  {
   "cell_type": "code",
   "execution_count": 4,
   "metadata": {
    "collapsed": false
   },
   "outputs": [],
   "source": [
    "def chungchungmaru(PageNum = 3):\n",
    "    url = 'https://search.naver.com/search.naver?&where=news&query=kb%EA%B5%AD%EB%AF%BC%EC%9D%80%ED%96%89&sm=tab_pge&sort=0&photo=0&field=0&reporter_article=&pd=3&ds=2018.08.01&de=2018.09.20&docid=&nso=so:r,p:from20180801to20180920,a:all&mynews=0&cluster_rank=38&start=1&refresh_start=2'\n",
    "    driver = webdriver.Chrome()\n",
    "    driver.get(url)\n",
    "\n",
    "    title_ls = []\n",
    "    link_ls = []\n",
    "    for _ in range(1,PageNum):\n",
    "        for i in range(1,11):\n",
    "            try : \n",
    "                driver.execute_script('window.scrollTo(100,{});'.format(i*100))\n",
    "#                 time.sleep(1)\n",
    "                title_ls.append(driver.find_element_by_css_selector('ul.type01 > li:nth-child({})  dt > a'.format(i)).get_attribute('title'))\n",
    "                link_ls.append(driver.find_element_by_css_selector('ul.type01 > li:nth-child({})  dt > a'.format(i)).get_attribute('href'))\n",
    "            except : pass\n",
    "        driver.execute_script('window.scrollTo(100,{});'.format(1000))\n",
    "        try : driver.find_element_by_css_selector('#main_pack > div.news.mynews.section._prs_nws > div.paging > a.next').click()\n",
    "        except : break\n",
    "    driver.close()\n",
    "    if len(title_ls) == len(link_ls) : display(Markdown('### No problem'))\n",
    "    return title_ls , link_ls"
   ]
  },
  {
   "cell_type": "code",
   "execution_count": 5,
   "metadata": {
    "collapsed": false,
    "scrolled": true
   },
   "outputs": [
    {
     "data": {
      "text/markdown": [
       "### No problem"
      ],
      "text/plain": [
       "<IPython.core.display.Markdown object>"
      ]
     },
     "metadata": {},
     "output_type": "display_data"
    }
   ],
   "source": [
    "title_ls , link_ls = chungchungmaru(1000)"
   ]
  },
  {
   "cell_type": "code",
   "execution_count": 7,
   "metadata": {
    "collapsed": false,
    "scrolled": true
   },
   "outputs": [
    {
     "data": {
      "text/plain": [
       "2788"
      ]
     },
     "execution_count": 7,
     "metadata": {},
     "output_type": "execute_result"
    }
   ],
   "source": [
    "report_dict = dict(zip(title_ls,link_ls))\n",
    "len(report_dict)"
   ]
  },
  {
   "cell_type": "code",
   "execution_count": 12,
   "metadata": {
    "collapsed": false
   },
   "outputs": [
    {
     "data": {
      "text/plain": [
       "(52, 52)"
      ]
     },
     "execution_count": 12,
     "metadata": {},
     "output_type": "execute_result"
    }
   ],
   "source": [
    "chungchun_detect_title = []\n",
    "chungchun_detect_link = []\n",
    "for title,link in report_dict.items():\n",
    "    if '청춘' in title or '마루' in title or '청춘마루' in title or '청춘 마루' in title: \n",
    "        chungchun_detect_title.append(title)\n",
    "        chungchun_detect_link.append(link)\n",
    "len(chungchun_detect_title) , len(chungchun_detect_link)"
   ]
  },
  {
   "cell_type": "code",
   "execution_count": 13,
   "metadata": {
    "collapsed": false
   },
   "outputs": [
    {
     "name": "stdout",
     "output_type": "stream",
     "text": [
      "ratio of chungchungmaru: 1.8651362984218076 %\n"
     ]
    }
   ],
   "source": [
    "print('ratio of chungchungmaru: {} %'.format(100*(len(chungchun_detect_title) / len(report_dict))))"
   ]
  },
  {
   "cell_type": "code",
   "execution_count": 18,
   "metadata": {
    "collapsed": false,
    "scrolled": true
   },
   "outputs": [
    {
     "data": {
      "text/plain": [
       "[\"KB국민은행, 'KB락스타 청춘마루'서 수능 마무리 특강 개최\",\n",
       " \"KB국민은행, 'KB락스타 청춘마루' 수능생 초청 이벤트\",\n",
       " 'KB국민은행 청춘마루, 수능 D-60 수능생 초청 이벤트 개최',\n",
       " \"KB국민은행, 수능생 초청 'KB락스타 청춘마루' 이벤트\",\n",
       " \"국민은행, 'KB락스타 청춘마루' 수능 시험생 초청 이벤트 개최\",\n",
       " \"KB국민은행, 'KB락스타 청춘마루'수능 D-60 수능생 초청 이벤트\",\n",
       " 'KB국민은행, KB락스타 청춘마루 수능생 초청 이벤트',\n",
       " 'KB국민은행, 락스타 청춘마루서 수능생 초청 특강',\n",
       " 'KB국민은행, ‘KB락스타 청춘마루’ D-60 수능생 초청 이벤트',\n",
       " \"KB국민은행, 'KB락스타 청춘마루' 수능 D-60 수능생 초청 이벤트 개최\",\n",
       " \"'KB락스타 청춘마루' 수능생 초청 특강 성황리 마무리\",\n",
       " \"KB국민은행, '청춘마루' 공간문화대상 장관상 수상\",\n",
       " '수능 마무리도, 청춘의 시작도 함께하는 공간',\n",
       " '국민은행 ‘KB락스타 청춘마루’ 공간문화대상 장관상 수상',\n",
       " \"KB국민은행 'KB락스타 청춘마루', 대한민국 공간문화대상 장관상 수상\",\n",
       " 'KB국민은행, ‘KB락스타 청춘마루’ 공간문화대상 장관상 수상',\n",
       " \"KB국민은행, 'KB락스타 청춘마루' 2018 대한민국 공간문화대상 장관상 수상\",\n",
       " '\"청년의 공간으로 오세요\" KB국민은행, \\'KB락스타 청춘마루\\' 멤버십 운영',\n",
       " \"KB국민은행 'KB락스타 청춘마루' 대한민국 공간문화대상 장관상 수상\",\n",
       " 'KB락스타 청춘마루, 공간문화대상 장관상 수상',\n",
       " \"KB락스타 청춘마루 '대한민국 공간문화대상'\",\n",
       " \"'KB락스타 청춘마루', '대한민국 공간문화대상' 장관상 수상\",\n",
       " \"[포토기사] 문체부 장관상 수상한 'KB락스타 청춘마루'\",\n",
       " \"KB국민은행, 'KB락스타 청춘마루' 멤버십 운영\",\n",
       " \"국민은행, 'KB락스타 청춘마루' 멤버십 공간으로 운영\",\n",
       " 'KB국민은행, 홍대 `KB락스타 청춘마루` 멤버십 공간으로 운영',\n",
       " '국민은행, KB락스타 청춘마루 멤버십 공간으로 운영',\n",
       " 'KB국민은행, ‘KB락스타 청춘마루’ 멤버십 운영',\n",
       " \"국민은행, 'KB락스타 청춘마루' 멤버십 운영\",\n",
       " \"국민은행, 홍대 'KB락스타 청춘마루' 멤버십 운영 나선다\",\n",
       " 'KB국민은행, 청춘들 희망 후원..‘KB락스타 청춘마루’ 멤버십 운영',\n",
       " '[게시판] KB국민은행, 홍대 청춘마루 멤버십 공간으로 개편',\n",
       " \"KB국민은행, 'KB락스타 청춘마루' 멤버십으로 운영\",\n",
       " \"KB국민銀, 홍대 'KB락스타 청춘마루' 멤버십제로 운영\",\n",
       " \"KB국민은행 'KB락스타 청춘마루' 멤버십 운영\",\n",
       " '[HK영상] 은행 영업점의 변화, 청춘을 위한 문화공간 ‘KB락스타 청춘마루’',\n",
       " \"新홍대 랜드마크 'KB락스타 청춘마루', 멤버십 공간 전환\",\n",
       " '[#신상이요-금융] 신한은행 삼성페이, 국민은행 청춘마루, 하나저축은행 모바일 브랜치',\n",
       " '생활맥주, KB락스타 청춘마루와 비어 테이스팅 클래스 및 청춘 옥상 영화제 콜라보 행사 개최',\n",
       " \"KB국민은행, 'KB락스타 청춘마루' 개관 100일 기념 건축스토리북 발간\",\n",
       " 'KB국민은행, ‘KB락스타 청춘마루’ 건축스토리북 발간',\n",
       " '[뉴스투데이 E] KB국민은행, 100일 된 ‘KB락스타 청춘마루’ 건축스토리북 발간',\n",
       " 'KB국민은행, KB락스타 청춘마루 개관 100일 기념 건축스토리북 발간',\n",
       " '국민은행, ‘KB락스타 청춘마루’ 개관 100일 기념 건축스토리북 발간',\n",
       " 'KB국민은행, 참신한 청춘열정 모은다..대학생 홍보대사 ‘KB캠퍼스스타’ 출범',\n",
       " 'KB국민은행, ‘KB락스타 청춘마루’ 100일 기념 스토리북 발간',\n",
       " 'KB국민은행, ‘청춘마루’ 100일 기념 건축스토리북 발간',\n",
       " 'KB국민은행, KB락스타 청춘마루 100일 기념 건축스토리북 발간',\n",
       " \"KB국민은행 'KB락스타 청춘마루' 개관 100일 기념 건축스토리북 발간\",\n",
       " '젊은 도시, 건축을 만난다..KB국민은행, ‘KB락스타 청춘마루’ 스토리북 발간',\n",
       " \"KB국민은행,'KB락스타 청춘마루'개관 100일 기념 건축스토리북 발간\",\n",
       " '● 멋진 세상 속 건축디자인북_ KB락스타 청춘마루의 사업 추진 기록을 담은 건축스토리북']"
      ]
     },
     "execution_count": 18,
     "metadata": {},
     "output_type": "execute_result"
    }
   ],
   "source": [
    "chungchun_detect_title"
   ]
  },
  {
   "cell_type": "code",
   "execution_count": 15,
   "metadata": {
    "collapsed": false,
    "scrolled": true
   },
   "outputs": [
    {
     "data": {
      "text/plain": [
       "['http://www.nbnnews.co.kr/news/articleView.html?idxno=178836',\n",
       " 'http://www.kns.tv/news/articleView.html?idxno=471287',\n",
       " 'http://www.g-enews.com/ko-kr/news/article/news_all/2018091808024511208848a88cdc_1/article.html',\n",
       " 'http://moneys.mt.co.kr/news/mwView.php?no=2018091709318075755',\n",
       " 'http://www.dailian.co.kr/news/view/739846/?sc=naver',\n",
       " 'http://www.greened.kr/news/articleView.html?idxno=75734',\n",
       " 'http://www.kbanker.co.kr/news/articleView.html?idxno=75220',\n",
       " 'http://www.newsworks.co.kr/news/articleView.html?idxno=215904',\n",
       " 'http://biztribune.co.kr/news/view.php?no=74402',\n",
       " 'http://www.nextdaily.co.kr/news/article.html?id=20180917800020',\n",
       " 'http://www.m-i.kr/news/articleView.html?idxno=453673',\n",
       " 'http://www.kbanker.co.kr/news/articleView.html?idxno=75148',\n",
       " 'http://www.hkbs.co.kr/news/articleView.html?idxno=484204',\n",
       " 'http://www.tfnews.co.kr/news/article.html?no=52987',\n",
       " 'http://www.joongdo.co.kr/main/view.php?key=20180911010005093',\n",
       " 'http://www.g-enews.com/ko-kr/news/article/news_all/2018091117482979828848a88cdc_1/article.html',\n",
       " 'http://www.nextdaily.co.kr/news/article.html?id=20180912800026',\n",
       " 'http://www.insight.co.kr/news/177237',\n",
       " 'http://www.economytalk.kr/news/articleView.html?idxno=169007',\n",
       " 'http://news1.kr/articles/?3423695',\n",
       " 'http://www.sedaily.com/NewsView/1S4LGOIGNP',\n",
       " 'http://www.inews24.com/php/news_view.php?g_serial=1125009&g_menu=022400&rrf=nv',\n",
       " 'http://www.newsworks.co.kr/news/articleView.html?idxno=214620',\n",
       " 'http://www.joongdo.co.kr/main/view.php?key=20180904010001185',\n",
       " 'http://www.enewstoday.co.kr/news/articleView.html?idxno=1227503',\n",
       " 'http://www.dt.co.kr/contents.html?article_no=2018090302109958033005&ref=naver',\n",
       " 'http://news.mt.co.kr/mtview.php?no=2018090314314201990',\n",
       " 'http://biztribune.co.kr/news/view.php?no=72192',\n",
       " 'http://www.asiatime.co.kr/news/articleView.html?idxno=197367',\n",
       " 'http://www.inews24.com/php/news_view.php?g_serial=1122689&g_menu=022400&rrf=nv',\n",
       " 'http://kpenews.com/Board.aspx?BoardNo=18450',\n",
       " 'http://app.yonhapnews.co.kr/YNA/Basic/SNS/r.aspx?c=AKR20180903072700002&did=1195m',\n",
       " 'http://www.newsworks.co.kr/news/articleView.html?idxno=212391',\n",
       " 'http://biz.chosun.com/site/data/html_dir/2018/09/03/2018090302358.html',\n",
       " 'http://www.economytalk.kr/news/articleView.html?idxno=168248',\n",
       " 'http://news.hankyung.com/article/201808317369g',\n",
       " 'http://www.seoulwire.com/news/articleView.html?idxno=24948',\n",
       " 'http://www.newscj.com/news/articleView.html?idxno=551812',\n",
       " 'http://www.sommeliertimes.com/news/articleView.html?idxno=10137',\n",
       " 'http://www.nextdaily.co.kr/news/article.html?id=20180803800015',\n",
       " 'http://www.cstimes.com/?mod=news&act=articleView&idxno=282437',\n",
       " 'http://www.news2day.co.kr/108353',\n",
       " 'http://www.seconomy.kr/view.php?ud=2018080312153015248743e084e1_2',\n",
       " 'http://www.enewstoday.co.kr/news/articleView.html?idxno=1218511',\n",
       " 'http://kpenews.com/Board.aspx?BoardNo=17168',\n",
       " 'http://www.kyeonggi.com/?mod=news&act=articleView&idxno=1505234',\n",
       " 'http://www.fetv.co.kr/news/article.html?no=10469',\n",
       " 'http://www.incheonnews.com/news/articleView.html?idxno=108237',\n",
       " 'http://www.lawissue.co.kr/view.php?ud=201808031100551467204ead0791_12',\n",
       " 'http://kpenews.com/Board.aspx?BoardNo=17123',\n",
       " 'http://www.viva100.com/main/view.php?key=20180803010000925',\n",
       " 'http://www.ytn.co.kr/_ln/0128_201808170905019041']"
      ]
     },
     "execution_count": 15,
     "metadata": {},
     "output_type": "execute_result"
    }
   ],
   "source": [
    "chungchun_detect_link"
   ]
  }
 ],
 "metadata": {
  "kernelspec": {
   "display_name": "Python 3",
   "language": "python",
   "name": "python3"
  },
  "language_info": {
   "codemirror_mode": {
    "name": "ipython",
    "version": 3
   },
   "file_extension": ".py",
   "mimetype": "text/x-python",
   "name": "python",
   "nbconvert_exporter": "python",
   "pygments_lexer": "ipython3",
   "version": "3.6.0"
  }
 },
 "nbformat": 4,
 "nbformat_minor": 2
}
