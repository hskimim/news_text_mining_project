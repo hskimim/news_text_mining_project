{
 "cells": [
  {
   "cell_type": "code",
   "execution_count": 1,
   "metadata": {
    "collapsed": true
   },
   "outputs": [],
   "source": [
    "import pandas as pd\n",
    "from scrapy.http import TextResponse\n",
    "import requests\n",
    "import datetime"
   ]
  },
  {
   "cell_type": "code",
   "execution_count": 2,
   "metadata": {
    "collapsed": true
   },
   "outputs": [],
   "source": [
    "title_ls,link_ls = [],[]\n",
    "content_str = 0\n",
    "for page in range(1,30+1):\n",
    "    url = 'https://m.news.naver.com/newsflash.nhn?mode=LS2D&sid1=101&sid2=259&page={}'.format(page)\n",
    "    req = requests.get(url)\n",
    "    response = TextResponse(req.url , body=req.text , encoding='utf-8')\n",
    "    for content in range(1,20+1):\n",
    "        try: \n",
    "            content_str += 1\n",
    "            title_ls.append(response.xpath('//*[@id=\"newsflash{}\"]/a/div/span[1]/strong/text()'.format(content_str)).extract()[0])\n",
    "            link_ls.append(response.xpath('//*[@id=\"newsflash{}\"]/a/@href'.format(content_str)).extract()[0])\n",
    "        except : print(page,content)"
   ]
  },
  {
   "cell_type": "code",
   "execution_count": 3,
   "metadata": {},
   "outputs": [
    {
     "data": {
      "text/plain": [
       "True"
      ]
     },
     "execution_count": 3,
     "metadata": {},
     "output_type": "execute_result"
    }
   ],
   "source": [
    "len(title_ls) == len(link_ls)"
   ]
  },
  {
   "cell_type": "code",
   "execution_count": 4,
   "metadata": {},
   "outputs": [
    {
     "data": {
      "text/html": [
       "<div>\n",
       "<style>\n",
       "    .dataframe thead tr:only-child th {\n",
       "        text-align: right;\n",
       "    }\n",
       "\n",
       "    .dataframe thead th {\n",
       "        text-align: left;\n",
       "    }\n",
       "\n",
       "    .dataframe tbody tr th {\n",
       "        vertical-align: top;\n",
       "    }\n",
       "</style>\n",
       "<table border=\"1\" class=\"dataframe\">\n",
       "  <thead>\n",
       "    <tr style=\"text-align: right;\">\n",
       "      <th></th>\n",
       "      <th>title</th>\n",
       "      <th>link</th>\n",
       "    </tr>\n",
       "  </thead>\n",
       "  <tbody>\n",
       "    <tr>\n",
       "      <th>595</th>\n",
       "      <td>내년 초 車 보험료 3% 오른다</td>\n",
       "      <td>https://m.news.naver.com/read.nhn?oid=015&amp;aid=...</td>\n",
       "    </tr>\n",
       "    <tr>\n",
       "      <th>596</th>\n",
       "      <td>우체국, 포스트페이 실적 따라 금리 더 주는 예금 내놓는다</td>\n",
       "      <td>https://m.news.naver.com/read.nhn?oid=015&amp;aid=...</td>\n",
       "    </tr>\n",
       "    <tr>\n",
       "      <th>597</th>\n",
       "      <td>적격대출도 집값만큼만 상환</td>\n",
       "      <td>https://m.news.naver.com/read.nhn?oid=015&amp;aid=...</td>\n",
       "    </tr>\n",
       "    <tr>\n",
       "      <th>598</th>\n",
       "      <td>외국인은 사용할 수 없는 한국형 QR코드</td>\n",
       "      <td>https://m.news.naver.com/read.nhn?oid=015&amp;aid=...</td>\n",
       "    </tr>\n",
       "    <tr>\n",
       "      <th>599</th>\n",
       "      <td>농협금융, 베트남 최대은행과 협력 논의</td>\n",
       "      <td>https://m.news.naver.com/read.nhn?oid=015&amp;aid=...</td>\n",
       "    </tr>\n",
       "  </tbody>\n",
       "</table>\n",
       "</div>"
      ],
      "text/plain": [
       "                                title  \\\n",
       "595                 내년 초 車 보험료 3% 오른다   \n",
       "596  우체국, 포스트페이 실적 따라 금리 더 주는 예금 내놓는다   \n",
       "597                    적격대출도 집값만큼만 상환   \n",
       "598            외국인은 사용할 수 없는 한국형 QR코드   \n",
       "599             농협금융, 베트남 최대은행과 협력 논의   \n",
       "\n",
       "                                                  link  \n",
       "595  https://m.news.naver.com/read.nhn?oid=015&aid=...  \n",
       "596  https://m.news.naver.com/read.nhn?oid=015&aid=...  \n",
       "597  https://m.news.naver.com/read.nhn?oid=015&aid=...  \n",
       "598  https://m.news.naver.com/read.nhn?oid=015&aid=...  \n",
       "599  https://m.news.naver.com/read.nhn?oid=015&aid=...  "
      ]
     },
     "execution_count": 4,
     "metadata": {},
     "output_type": "execute_result"
    }
   ],
   "source": [
    "df = pd.DataFrame()\n",
    "df['title'] = title_ls\n",
    "df['link'] = link_ls\n",
    "df['link'] = ['https://m.news.naver.com' + i for i in df['link']]\n",
    "df.tail()"
   ]
  },
  {
   "cell_type": "code",
   "execution_count": 6,
   "metadata": {
    "collapsed": true
   },
   "outputs": [],
   "source": [
    "content_ls = []\n",
    "\n",
    "for i in df['link'].values:\n",
    "    req = requests.get(i)\n",
    "    response = TextResponse(req.url , body=req.text , encoding='utf-8')\n",
    "    content_ls.append(','.join(response.xpath('//*[@id=\"dic_area\"]/text()').extract()).replace(',',''))"
   ]
  },
  {
   "cell_type": "code",
   "execution_count": 7,
   "metadata": {},
   "outputs": [
    {
     "data": {
      "text/plain": [
       "True"
      ]
     },
     "execution_count": 7,
     "metadata": {},
     "output_type": "execute_result"
    }
   ],
   "source": [
    "len(title_ls) == len(link_ls) == len(content_ls)"
   ]
  },
  {
   "cell_type": "code",
   "execution_count": 8,
   "metadata": {},
   "outputs": [
    {
     "data": {
      "text/html": [
       "<div>\n",
       "<style>\n",
       "    .dataframe thead tr:only-child th {\n",
       "        text-align: right;\n",
       "    }\n",
       "\n",
       "    .dataframe thead th {\n",
       "        text-align: left;\n",
       "    }\n",
       "\n",
       "    .dataframe tbody tr th {\n",
       "        vertical-align: top;\n",
       "    }\n",
       "</style>\n",
       "<table border=\"1\" class=\"dataframe\">\n",
       "  <thead>\n",
       "    <tr style=\"text-align: right;\">\n",
       "      <th></th>\n",
       "      <th>title</th>\n",
       "      <th>link</th>\n",
       "      <th>content</th>\n",
       "    </tr>\n",
       "  </thead>\n",
       "  <tbody>\n",
       "    <tr>\n",
       "      <th>595</th>\n",
       "      <td>내년 초 車 보험료 3% 오른다</td>\n",
       "      <td>https://m.news.naver.com/read.nhn?oid=015&amp;aid=...</td>\n",
       "      <td>[ 서정환 기자  ] 메리츠화재를 시작으로 주요 손해보험사들이 연내 자동차 보험료를...</td>\n",
       "    </tr>\n",
       "    <tr>\n",
       "      <th>596</th>\n",
       "      <td>우체국, 포스트페이 실적 따라 금리 더 주는 예금 내놓는다</td>\n",
       "      <td>https://m.news.naver.com/read.nhn?oid=015&amp;aid=...</td>\n",
       "      <td>[ 송형석 기자  ] 우정사업본부가 스마트폰으로 결제하는 포스트페이 서비스 이용실적...</td>\n",
       "    </tr>\n",
       "    <tr>\n",
       "      <th>597</th>\n",
       "      <td>적격대출도 집값만큼만 상환</td>\n",
       "      <td>https://m.news.naver.com/read.nhn?oid=015&amp;aid=...</td>\n",
       "      <td>[ 박신영 기자  ] 주택금융공사의 적격대출에도 집값만큼만 빚을 책임지는 유한책임(...</td>\n",
       "    </tr>\n",
       "    <tr>\n",
       "      <th>598</th>\n",
       "      <td>외국인은 사용할 수 없는 한국형 QR코드</td>\n",
       "      <td>https://m.news.naver.com/read.nhn?oid=015&amp;aid=...</td>\n",
       "      <td>[ 김순신 기자  ] 정부가 발표한 QR코드 표준으로 인해 ‘한국형 QR코드’는 외...</td>\n",
       "    </tr>\n",
       "    <tr>\n",
       "      <th>599</th>\n",
       "      <td>농협금융, 베트남 최대은행과 협력 논의</td>\n",
       "      <td>https://m.news.naver.com/read.nhn?oid=015&amp;aid=...</td>\n",
       "      <td>농협금융은 지난 9일 서울 서대문 본사에서 베트남 최대 은행인 아그리뱅크와 협력사업...</td>\n",
       "    </tr>\n",
       "  </tbody>\n",
       "</table>\n",
       "</div>"
      ],
      "text/plain": [
       "                                title  \\\n",
       "595                 내년 초 車 보험료 3% 오른다   \n",
       "596  우체국, 포스트페이 실적 따라 금리 더 주는 예금 내놓는다   \n",
       "597                    적격대출도 집값만큼만 상환   \n",
       "598            외국인은 사용할 수 없는 한국형 QR코드   \n",
       "599             농협금융, 베트남 최대은행과 협력 논의   \n",
       "\n",
       "                                                  link  \\\n",
       "595  https://m.news.naver.com/read.nhn?oid=015&aid=...   \n",
       "596  https://m.news.naver.com/read.nhn?oid=015&aid=...   \n",
       "597  https://m.news.naver.com/read.nhn?oid=015&aid=...   \n",
       "598  https://m.news.naver.com/read.nhn?oid=015&aid=...   \n",
       "599  https://m.news.naver.com/read.nhn?oid=015&aid=...   \n",
       "\n",
       "                                               content  \n",
       "595  [ 서정환 기자  ] 메리츠화재를 시작으로 주요 손해보험사들이 연내 자동차 보험료를...  \n",
       "596  [ 송형석 기자  ] 우정사업본부가 스마트폰으로 결제하는 포스트페이 서비스 이용실적...  \n",
       "597  [ 박신영 기자  ] 주택금융공사의 적격대출에도 집값만큼만 빚을 책임지는 유한책임(...  \n",
       "598  [ 김순신 기자  ] 정부가 발표한 QR코드 표준으로 인해 ‘한국형 QR코드’는 외...  \n",
       "599  농협금융은 지난 9일 서울 서대문 본사에서 베트남 최대 은행인 아그리뱅크와 협력사업...  "
      ]
     },
     "execution_count": 8,
     "metadata": {},
     "output_type": "execute_result"
    }
   ],
   "source": [
    "df['content'] = content_ls\n",
    "df['content'] = [i.replace(\"\\t\",'').replace('\\n','') for i in df['content'].values]\n",
    "df.tail()"
   ]
  },
  {
   "cell_type": "code",
   "execution_count": 9,
   "metadata": {
    "collapsed": true
   },
   "outputs": [],
   "source": [
    "df.to_csv('{}_with_link_naver.csv'.format(str(datetime.datetime.now().month) + str(datetime.datetime.now().day),index=False),index=False)"
   ]
  }
 ],
 "metadata": {
  "kernelspec": {
   "display_name": "Python 3",
   "language": "python",
   "name": "python3"
  },
  "language_info": {
   "codemirror_mode": {
    "name": "ipython",
    "version": 3
   },
   "file_extension": ".py",
   "mimetype": "text/x-python",
   "name": "python",
   "nbconvert_exporter": "python",
   "pygments_lexer": "ipython3",
   "version": "3.6.3"
  }
 },
 "nbformat": 4,
 "nbformat_minor": 2
}
