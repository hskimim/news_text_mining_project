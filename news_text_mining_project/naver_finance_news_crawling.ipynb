{
 "cells": [
  {
   "cell_type": "code",
   "execution_count": 17,
   "metadata": {
    "collapsed": true
   },
   "outputs": [],
   "source": [
    "from selenium import webdriver\n",
    "import pandas as pd\n",
    "import re\n",
    "import requests\n",
    "import time\n",
    "import datetime"
   ]
  },
  {
   "cell_type": "code",
   "execution_count": 26,
   "metadata": {},
   "outputs": [],
   "source": [
    "def naver_crawling():\n",
    "    driver = webdriver.Chrome()\n",
    "    title_ls,link_ls,time_ls = [],[],[]\n",
    "    content_str = 0\n",
    "    for page in range(1,30+1):\n",
    "        try : \n",
    "            url = 'https://m.news.naver.com/newsflash.nhn?mode=LS2D&sid1=101&sid2=259&page={}'.format(page)\n",
    "            driver.get(url)\n",
    "            time.sleep(1)\n",
    "            for content in range(1,20+1):\n",
    "                content_str += 1\n",
    "                time.sleep(1)\n",
    "                driver.execute_script('window.scrollTo(10,{});'.format(content*100))\n",
    "                title_ls.append(driver.find_element_by_css_selector(\\\n",
    "                '#newsflash{} > a'.format(content_str)).text)\n",
    "\n",
    "                link_ls.append(driver.find_element_by_css_selector(\\\n",
    "                '#newsflash{} > a'\\\n",
    "                .format(content_str)).get_attribute('href'))\n",
    "\n",
    "        except Exception as e : \n",
    "            if len(title_ls) > len(link_ls):\n",
    "                title_ls.pop()\n",
    "            else : link_ls.pop()\n",
    "            print(e)\n",
    "    driver.close()\n",
    "    \n",
    "    df = pd.DataFrame()\n",
    "    df['title'] = title_ls\n",
    "    df['link'] = link_ls\n",
    "    \n",
    "    return df"
   ]
  },
  {
   "cell_type": "code",
   "execution_count": null,
   "metadata": {
    "collapsed": true
   },
   "outputs": [],
   "source": [
    "df = naver_crawling()"
   ]
  },
  {
   "cell_type": "code",
   "execution_count": null,
   "metadata": {
    "collapsed": true,
    "scrolled": false
   },
   "outputs": [],
   "source": [
    "def content_append_naver(df):\n",
    "    driver = webdriver.Chrome()\n",
    "    content_ls = []\n",
    "    for i in range(len(df)):\n",
    "        url = df['link'][i]\n",
    "        driver.get(url)\n",
    "        time.sleep(1)\n",
    "        content_ls.append(driver.find_element_by_css_selector('#dic_area').text)\n",
    "    return content_ls"
   ]
  },
  {
   "cell_type": "code",
   "execution_count": null,
   "metadata": {},
   "outputs": [],
   "source": [
    "content_ls = content_append_naver(df)"
   ]
  },
  {
   "cell_type": "code",
   "execution_count": null,
   "metadata": {
    "collapsed": true
   },
   "outputs": [],
   "source": [
    "df['content'] = content_ls"
   ]
  },
  {
   "cell_type": "code",
   "execution_count": null,
   "metadata": {
    "collapsed": true
   },
   "outputs": [],
   "source": [
    "df.tail()"
   ]
  },
  {
   "cell_type": "code",
   "execution_count": null,
   "metadata": {
    "collapsed": true
   },
   "outputs": [],
   "source": [
    "df.to_csv('{}_with_link_naver.csv'.format(str(datetime.datetime.now().month) + str(datetime.datetime.now().day),index=False),index=False)"
   ]
  },
  {
   "cell_type": "code",
   "execution_count": null,
   "metadata": {
    "collapsed": true
   },
   "outputs": [],
   "source": []
  },
  {
   "cell_type": "markdown",
   "metadata": {},
   "source": [
    "_______"
   ]
  },
  {
   "cell_type": "markdown",
   "metadata": {},
   "source": [
    "# Not fit for Mobile"
   ]
  },
  {
   "cell_type": "code",
   "execution_count": 15,
   "metadata": {
    "collapsed": true,
    "scrolled": false
   },
   "outputs": [],
   "source": [
    "def naver_crawling():\n",
    "    driver = webdriver.Chrome()\n",
    "    title_ls,link_ls,time_ls = [],[],[]\n",
    "\n",
    "    for page in range(1,30+1):\n",
    "        try : \n",
    "            url = 'https://news.naver.com/main/main.nhn?mode=LSD&mid=shm&sid1=101#&date=%2000:00:00&page={}'.format(page)\n",
    "            driver.get(url)\n",
    "            time.sleep(1)\n",
    "            for content in range(1,20+1):\n",
    "                time.sleep(1)\n",
    "                driver.execute_script('window.scrollTo(10,{});'.format(2500 + (content-1)*150))\n",
    "                if content < 6 : \n",
    "                    title_ls.append(driver.find_element_by_css_selector(\\\n",
    "                '#section_body > ul.type06_headline > li:nth-child({}) > dl > dt:nth-child(2) > a'\\\n",
    "                .format(content)).text)\n",
    "\n",
    "                    link_ls.append(driver.find_element_by_css_selector(\\\n",
    "                '#section_body > ul.type06_headline > li:nth-child({}) > dl > dt:nth-child(2) > a'\\\n",
    "                .format(content)).get_attribute('href'))\n",
    "\n",
    "                elif content < 11 : \n",
    "                    title_ls.append(driver.find_element_by_css_selector(\\\n",
    "                '#section_body > ul:nth-child(2) > li:nth-child({}) > dl > dt:nth-child(2) > a'\\\n",
    "                .format(content-5)).text)\n",
    "\n",
    "                    link_ls.append(driver.find_element_by_css_selector(\\\n",
    "                '#section_body > ul:nth-child(4) > li:nth-child({}) > dl > dt:nth-child(2) > a'\\\n",
    "                .format(content-5)).get_attribute('href'))\n",
    "\n",
    "                elif content < 16 : \n",
    "                    title_ls.append(driver.find_element_by_css_selector(\\\n",
    "                '#section_body > ul:nth-child(2) > li:nth-child({}) > dl > dt:nth-child(2) > a'\\\n",
    "                .format(content-10)).text)\n",
    "\n",
    "                    link_ls.append(driver.find_element_by_css_selector(\\\n",
    "                '#section_body > ul:nth-child(4) > li:nth-child({}) > dl > dt:nth-child(2) > a'\\\n",
    "                .format(content-10)).get_attribute('href'))\n",
    "\n",
    "                else : \n",
    "                    title_ls.append(driver.find_element_by_css_selector(\\\n",
    "                '#section_body > ul:nth-child(2) > li:nth-child({}) > dl > dt:nth-child(2) > a'\\\n",
    "                .format(content-15)).text)\n",
    "\n",
    "                    link_ls.append(driver.find_element_by_css_selector(\\\n",
    "                '#section_body > ul:nth-child(4) > li:nth-child({}) > dl > dt:nth-child(2) > a'\\\n",
    "                .format(content-15)).get_attribute('href'))\n",
    "\n",
    "        except Exception as e : \n",
    "            if len(title_ls) > len(link_ls):\n",
    "                title_ls.pop()\n",
    "            else : link_ls.pop()\n",
    "            print(e)\n",
    "    driver.close()\n",
    "    \n",
    "    df = pd.DataFrame()\n",
    "    df['title'] = title_ls\n",
    "    df['link'] = link_ls\n",
    "    \n",
    "    return df"
   ]
  },
  {
   "cell_type": "code",
   "execution_count": 16,
   "metadata": {
    "scrolled": true
   },
   "outputs": [
    {
     "name": "stdout",
     "output_type": "stream",
     "text": [
      "Message: no such element: Unable to locate element: {\"method\":\"css selector\",\"selector\":\"#section_body > ul.type06_headline > li:nth-child(4) > dl > dt:nth-child(2) > a\"}\n",
      "  (Session info: chrome=70.0.3538.77)\n",
      "  (Driver info: chromedriver=2.42.591071 (0b695ff80972cc1a65a5cd643186d2ae582cd4ac),platform=Linux 4.15.0-38-generic x86_64)\n",
      "\n",
      "Message: no such element: Unable to locate element: {\"method\":\"css selector\",\"selector\":\"#section_body > ul:nth-child(4) > li:nth-child(4) > dl > dt:nth-child(2) > a\"}\n",
      "  (Session info: chrome=70.0.3538.77)\n",
      "  (Driver info: chromedriver=2.42.591071 (0b695ff80972cc1a65a5cd643186d2ae582cd4ac),platform=Linux 4.15.0-38-generic x86_64)\n",
      "\n",
      "Message: no such element: Unable to locate element: {\"method\":\"css selector\",\"selector\":\"#section_body > ul.type06_headline > li:nth-child(3) > dl > dt:nth-child(2) > a\"}\n",
      "  (Session info: chrome=70.0.3538.77)\n",
      "  (Driver info: chromedriver=2.42.591071 (0b695ff80972cc1a65a5cd643186d2ae582cd4ac),platform=Linux 4.15.0-38-generic x86_64)\n",
      "\n",
      "Message: no such element: Unable to locate element: {\"method\":\"css selector\",\"selector\":\"#section_body > ul.type06_headline > li:nth-child(3) > dl > dt:nth-child(2) > a\"}\n",
      "  (Session info: chrome=70.0.3538.77)\n",
      "  (Driver info: chromedriver=2.42.591071 (0b695ff80972cc1a65a5cd643186d2ae582cd4ac),platform=Linux 4.15.0-38-generic x86_64)\n",
      "\n",
      "Message: no such element: Unable to locate element: {\"method\":\"css selector\",\"selector\":\"#section_body > ul.type06_headline > li:nth-child(2) > dl > dt:nth-child(2) > a\"}\n",
      "  (Session info: chrome=70.0.3538.77)\n",
      "  (Driver info: chromedriver=2.42.591071 (0b695ff80972cc1a65a5cd643186d2ae582cd4ac),platform=Linux 4.15.0-38-generic x86_64)\n",
      "\n",
      "Message: no such element: Unable to locate element: {\"method\":\"css selector\",\"selector\":\"#section_body > ul:nth-child(4) > li:nth-child(1) > dl > dt:nth-child(2) > a\"}\n",
      "  (Session info: chrome=70.0.3538.77)\n",
      "  (Driver info: chromedriver=2.42.591071 (0b695ff80972cc1a65a5cd643186d2ae582cd4ac),platform=Linux 4.15.0-38-generic x86_64)\n",
      "\n",
      "Message: no such element: Unable to locate element: {\"method\":\"css selector\",\"selector\":\"#section_body > ul.type06_headline > li:nth-child(1) > dl > dt:nth-child(2) > a\"}\n",
      "  (Session info: chrome=70.0.3538.77)\n",
      "  (Driver info: chromedriver=2.42.591071 (0b695ff80972cc1a65a5cd643186d2ae582cd4ac),platform=Linux 4.15.0-38-generic x86_64)\n",
      "\n",
      "Message: no such element: Unable to locate element: {\"method\":\"css selector\",\"selector\":\"#section_body > ul.type06_headline > li:nth-child(1) > dl > dt:nth-child(2) > a\"}\n",
      "  (Session info: chrome=70.0.3538.77)\n",
      "  (Driver info: chromedriver=2.42.591071 (0b695ff80972cc1a65a5cd643186d2ae582cd4ac),platform=Linux 4.15.0-38-generic x86_64)\n",
      "\n",
      "Message: no such element: Unable to locate element: {\"method\":\"css selector\",\"selector\":\"#section_body > ul:nth-child(4) > li:nth-child(2) > dl > dt:nth-child(2) > a\"}\n",
      "  (Session info: chrome=70.0.3538.77)\n",
      "  (Driver info: chromedriver=2.42.591071 (0b695ff80972cc1a65a5cd643186d2ae582cd4ac),platform=Linux 4.15.0-38-generic x86_64)\n",
      "\n",
      "Message: no such element: Unable to locate element: {\"method\":\"css selector\",\"selector\":\"#section_body > ul.type06_headline > li:nth-child(3) > dl > dt:nth-child(2) > a\"}\n",
      "  (Session info: chrome=70.0.3538.77)\n",
      "  (Driver info: chromedriver=2.42.591071 (0b695ff80972cc1a65a5cd643186d2ae582cd4ac),platform=Linux 4.15.0-38-generic x86_64)\n",
      "\n",
      "Message: no such element: Unable to locate element: {\"method\":\"css selector\",\"selector\":\"#section_body > ul:nth-child(4) > li:nth-child(2) > dl > dt:nth-child(2) > a\"}\n",
      "  (Session info: chrome=70.0.3538.77)\n",
      "  (Driver info: chromedriver=2.42.591071 (0b695ff80972cc1a65a5cd643186d2ae582cd4ac),platform=Linux 4.15.0-38-generic x86_64)\n",
      "\n",
      "Message: no such element: Unable to locate element: {\"method\":\"css selector\",\"selector\":\"#section_body > ul:nth-child(2) > li:nth-child(4) > dl > dt:nth-child(2) > a\"}\n",
      "  (Session info: chrome=70.0.3538.77)\n",
      "  (Driver info: chromedriver=2.42.591071 (0b695ff80972cc1a65a5cd643186d2ae582cd4ac),platform=Linux 4.15.0-38-generic x86_64)\n",
      "\n",
      "Message: no such element: Unable to locate element: {\"method\":\"css selector\",\"selector\":\"#section_body > ul:nth-child(4) > li:nth-child(2) > dl > dt:nth-child(2) > a\"}\n",
      "  (Session info: chrome=70.0.3538.77)\n",
      "  (Driver info: chromedriver=2.42.591071 (0b695ff80972cc1a65a5cd643186d2ae582cd4ac),platform=Linux 4.15.0-38-generic x86_64)\n",
      "\n",
      "Message: no such element: Unable to locate element: {\"method\":\"css selector\",\"selector\":\"#section_body > ul.type06_headline > li:nth-child(2) > dl > dt:nth-child(2) > a\"}\n",
      "  (Session info: chrome=70.0.3538.77)\n",
      "  (Driver info: chromedriver=2.42.591071 (0b695ff80972cc1a65a5cd643186d2ae582cd4ac),platform=Linux 4.15.0-38-generic x86_64)\n",
      "\n",
      "Message: no such element: Unable to locate element: {\"method\":\"css selector\",\"selector\":\"#section_body > ul.type06_headline > li:nth-child(1) > dl > dt:nth-child(2) > a\"}\n",
      "  (Session info: chrome=70.0.3538.77)\n",
      "  (Driver info: chromedriver=2.42.591071 (0b695ff80972cc1a65a5cd643186d2ae582cd4ac),platform=Linux 4.15.0-38-generic x86_64)\n",
      "\n",
      "Message: no such element: Unable to locate element: {\"method\":\"css selector\",\"selector\":\"#section_body > ul:nth-child(2) > li:nth-child(4) > dl > dt:nth-child(2) > a\"}\n",
      "  (Session info: chrome=70.0.3538.77)\n",
      "  (Driver info: chromedriver=2.42.591071 (0b695ff80972cc1a65a5cd643186d2ae582cd4ac),platform=Linux 4.15.0-38-generic x86_64)\n",
      "\n"
     ]
    },
    {
     "ename": "KeyboardInterrupt",
     "evalue": "",
     "output_type": "error",
     "traceback": [
      "\u001b[0;31m---------------------------------------------------------------------------\u001b[0m",
      "\u001b[0;31mKeyboardInterrupt\u001b[0m                         Traceback (most recent call last)",
      "\u001b[0;32m<ipython-input-16-6c8150571a2f>\u001b[0m in \u001b[0;36m<module>\u001b[0;34m()\u001b[0m\n\u001b[0;32m----> 1\u001b[0;31m \u001b[0mdf\u001b[0m \u001b[0;34m=\u001b[0m \u001b[0mnaver_crawling\u001b[0m\u001b[0;34m(\u001b[0m\u001b[0;34m)\u001b[0m\u001b[0;34m\u001b[0m\u001b[0m\n\u001b[0m",
      "\u001b[0;32m<ipython-input-15-20c927f492a4>\u001b[0m in \u001b[0;36mnaver_crawling\u001b[0;34m()\u001b[0m\n\u001b[1;32m     12\u001b[0m         \u001b[0;31m#             if time_ls != str(datetime.datetime.now().month) + str(datetime.datetime.now().day):\u001b[0m\u001b[0;34m\u001b[0m\u001b[0;34m\u001b[0m\u001b[0m\n\u001b[1;32m     13\u001b[0m         \u001b[0;31m#                 break\u001b[0m\u001b[0;34m\u001b[0m\u001b[0;34m\u001b[0m\u001b[0m\n\u001b[0;32m---> 14\u001b[0;31m                 \u001b[0mtime\u001b[0m\u001b[0;34m.\u001b[0m\u001b[0msleep\u001b[0m\u001b[0;34m(\u001b[0m\u001b[0;36m1\u001b[0m\u001b[0;34m)\u001b[0m\u001b[0;34m\u001b[0m\u001b[0m\n\u001b[0m\u001b[1;32m     15\u001b[0m                 \u001b[0mdriver\u001b[0m\u001b[0;34m.\u001b[0m\u001b[0mexecute_script\u001b[0m\u001b[0;34m(\u001b[0m\u001b[0;34m'window.scrollTo(10,{});'\u001b[0m\u001b[0;34m.\u001b[0m\u001b[0mformat\u001b[0m\u001b[0;34m(\u001b[0m\u001b[0;36m2500\u001b[0m \u001b[0;34m+\u001b[0m \u001b[0;34m(\u001b[0m\u001b[0mcontent\u001b[0m\u001b[0;34m-\u001b[0m\u001b[0;36m1\u001b[0m\u001b[0;34m)\u001b[0m\u001b[0;34m*\u001b[0m\u001b[0;36m150\u001b[0m\u001b[0;34m)\u001b[0m\u001b[0;34m)\u001b[0m\u001b[0;34m\u001b[0m\u001b[0m\n\u001b[1;32m     16\u001b[0m                 \u001b[0;32mif\u001b[0m \u001b[0mcontent\u001b[0m \u001b[0;34m<\u001b[0m \u001b[0;36m6\u001b[0m \u001b[0;34m:\u001b[0m\u001b[0;34m\u001b[0m\u001b[0m\n",
      "\u001b[0;31mKeyboardInterrupt\u001b[0m: "
     ]
    }
   ],
   "source": [
    "df = naver_crawling()"
   ]
  },
  {
   "cell_type": "code",
   "execution_count": 6,
   "metadata": {
    "collapsed": true,
    "scrolled": false
   },
   "outputs": [],
   "source": [
    "def content_append_naver(df):\n",
    "    driver = webdriver.Chrome()\n",
    "    content_ls = []\n",
    "    for i in range(len(df)):\n",
    "        url = df['link'][i]\n",
    "        driver.get(url)\n",
    "        time.sleep(1)\n",
    "        content_ls.append(driver.find_element_by_css_selector('#articleBodyContents').text)\n",
    "    return content_ls"
   ]
  },
  {
   "cell_type": "code",
   "execution_count": 7,
   "metadata": {},
   "outputs": [
    {
     "ename": "NameError",
     "evalue": "name 'df' is not defined",
     "output_type": "error",
     "traceback": [
      "\u001b[0;31m---------------------------------------------------------------------------\u001b[0m",
      "\u001b[0;31mNameError\u001b[0m                                 Traceback (most recent call last)",
      "\u001b[0;32m<ipython-input-7-74a297d84bc9>\u001b[0m in \u001b[0;36m<module>\u001b[0;34m()\u001b[0m\n\u001b[0;32m----> 1\u001b[0;31m \u001b[0mcontent_ls\u001b[0m \u001b[0;34m=\u001b[0m \u001b[0mcontent_append_naver\u001b[0m\u001b[0;34m(\u001b[0m\u001b[0mdf\u001b[0m\u001b[0;34m)\u001b[0m\u001b[0;34m\u001b[0m\u001b[0m\n\u001b[0m",
      "\u001b[0;31mNameError\u001b[0m: name 'df' is not defined"
     ]
    }
   ],
   "source": [
    "content_ls = content_append_naver(df)"
   ]
  },
  {
   "cell_type": "code",
   "execution_count": null,
   "metadata": {
    "collapsed": true
   },
   "outputs": [],
   "source": [
    "df['content'] = content_ls"
   ]
  },
  {
   "cell_type": "code",
   "execution_count": null,
   "metadata": {},
   "outputs": [],
   "source": [
    "df.tail()"
   ]
  },
  {
   "cell_type": "code",
   "execution_count": null,
   "metadata": {
    "collapsed": true
   },
   "outputs": [],
   "source": [
    "df.to_csv('{}_with_link_naver.csv'.format(str(datetime.datetime.now().month) + str(datetime.datetime.now().day),index=False),index=False)"
   ]
  }
 ],
 "metadata": {
  "kernelspec": {
   "display_name": "Python 3",
   "language": "python",
   "name": "python3"
  },
  "language_info": {
   "codemirror_mode": {
    "name": "ipython",
    "version": 3
   },
   "file_extension": ".py",
   "mimetype": "text/x-python",
   "name": "python",
   "nbconvert_exporter": "python",
   "pygments_lexer": "ipython3",
   "version": "3.6.3"
  }
 },
 "nbformat": 4,
 "nbformat_minor": 2
}
