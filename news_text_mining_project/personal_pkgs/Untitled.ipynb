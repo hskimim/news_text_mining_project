{
 "cells": [
  {
   "cell_type": "code",
   "execution_count": 1,
   "metadata": {
    "collapsed": true
   },
   "outputs": [],
   "source": [
    "import sys"
   ]
  },
  {
   "cell_type": "code",
   "execution_count": 2,
   "metadata": {},
   "outputs": [
    {
     "data": {
      "text/plain": [
       "['',\n",
       " '/home/hskimim/anaconda3/lib/python36.zip',\n",
       " '/home/hskimim/anaconda3/lib/python3.6',\n",
       " '/home/hskimim/anaconda3/lib/python3.6/lib-dynload',\n",
       " '/home/hskimim/.local/lib/python3.6/site-packages',\n",
       " '/home/hskimim/anaconda3/lib/python3.6/site-packages',\n",
       " '/home/hskimim/anaconda3/lib/python3.6/site-packages/UNKNOWN-0.1.0-py3.6.egg',\n",
       " '/home/hskimim/anaconda3/lib/python3.6/site-packages/ner-0.1-py3.6.egg',\n",
       " '/home/hskimim/anaconda3/lib/python3.6/site-packages/IPython/extensions',\n",
       " '/home/hskimim/.ipython']"
      ]
     },
     "execution_count": 2,
     "metadata": {},
     "output_type": "execute_result"
    }
   ],
   "source": [
    "sys.path"
   ]
  }
 ],
 "metadata": {
  "kernelspec": {
   "display_name": "Python 3",
   "language": "python",
   "name": "python3"
  },
  "language_info": {
   "codemirror_mode": {
    "name": "ipython",
    "version": 3
   },
   "file_extension": ".py",
   "mimetype": "text/x-python",
   "name": "python",
   "nbconvert_exporter": "python",
   "pygments_lexer": "ipython3",
   "version": "3.6.3"
  }
 },
 "nbformat": 4,
 "nbformat_minor": 2
}
