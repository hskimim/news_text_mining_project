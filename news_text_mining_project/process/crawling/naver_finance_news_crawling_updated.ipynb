{
 "cells": [
  {
   "cell_type": "code",
   "execution_count": 1,
   "metadata": {
    "collapsed": true
   },
   "outputs": [],
   "source": [
    "import pandas as pd\n",
    "from scrapy.http import TextResponse\n",
    "import requests\n",
    "import datetime"
   ]
  },
  {
   "cell_type": "code",
   "execution_count": 2,
   "metadata": {
    "collapsed": true
   },
   "outputs": [],
   "source": [
    "title_ls,link_ls = [],[]\n",
    "content_str = 0\n",
    "for page in range(1,30+1):\n",
    "    url = 'https://m.news.naver.com/newsflash.nhn?mode=LS2D&sid1=101&sid2=259&page={}'.format(page)\n",
    "    req = requests.get(url)\n",
    "    response = TextResponse(req.url , body=req.text , encoding='utf-8')\n",
    "    for content in range(1,20+1):\n",
    "        try: \n",
    "            content_str += 1\n",
    "            title_ls.append(response.xpath('//*[@id=\"newsflash{}\"]/a/div/span[1]/strong/text()'.format(content_str)).extract()[0])\n",
    "            link_ls.append(response.xpath('//*[@id=\"newsflash{}\"]/a/@href'.format(content_str)).extract()[0])\n",
    "        except : print(page,content)"
   ]
  },
  {
   "cell_type": "code",
   "execution_count": 3,
   "metadata": {},
   "outputs": [
    {
     "data": {
      "text/plain": [
       "True"
      ]
     },
     "execution_count": 3,
     "metadata": {},
     "output_type": "execute_result"
    }
   ],
   "source": [
    "len(title_ls) == len(link_ls)"
   ]
  },
  {
   "cell_type": "code",
   "execution_count": 4,
   "metadata": {},
   "outputs": [
    {
     "data": {
      "text/html": [
       "<div>\n",
       "<style>\n",
       "    .dataframe thead tr:only-child th {\n",
       "        text-align: right;\n",
       "    }\n",
       "\n",
       "    .dataframe thead th {\n",
       "        text-align: left;\n",
       "    }\n",
       "\n",
       "    .dataframe tbody tr th {\n",
       "        vertical-align: top;\n",
       "    }\n",
       "</style>\n",
       "<table border=\"1\" class=\"dataframe\">\n",
       "  <thead>\n",
       "    <tr style=\"text-align: right;\">\n",
       "      <th></th>\n",
       "      <th>title</th>\n",
       "      <th>link</th>\n",
       "    </tr>\n",
       "  </thead>\n",
       "  <tbody>\n",
       "    <tr>\n",
       "      <th>595</th>\n",
       "      <td>이주열 韓銀총재, BIS 신임이사 선출</td>\n",
       "      <td>https://m.news.naver.com/read.nhn?oid=016&amp;aid=...</td>\n",
       "    </tr>\n",
       "    <tr>\n",
       "      <th>596</th>\n",
       "      <td>은행대출, 각종 우대금리까지 ‘깨알공개’</td>\n",
       "      <td>https://m.news.naver.com/read.nhn?oid=016&amp;aid=...</td>\n",
       "    </tr>\n",
       "    <tr>\n",
       "      <th>597</th>\n",
       "      <td>농협금융, 16일 자회사 CEO 임추위 개최</td>\n",
       "      <td>https://m.news.naver.com/read.nhn?oid=277&amp;aid=...</td>\n",
       "    </tr>\n",
       "    <tr>\n",
       "      <th>598</th>\n",
       "      <td>한은, 통화금융대책반 회의 개최…美 주가 급락 영향 점검</td>\n",
       "      <td>https://m.news.naver.com/read.nhn?oid=119&amp;aid=...</td>\n",
       "    </tr>\n",
       "    <tr>\n",
       "      <th>599</th>\n",
       "      <td>한-아세안 청년사업가, 한화생명 ‘드림플러스 강남’ 방문</td>\n",
       "      <td>https://m.news.naver.com/read.nhn?oid=018&amp;aid=...</td>\n",
       "    </tr>\n",
       "  </tbody>\n",
       "</table>\n",
       "</div>"
      ],
      "text/plain": [
       "                               title  \\\n",
       "595            이주열 韓銀총재, BIS 신임이사 선출   \n",
       "596           은행대출, 각종 우대금리까지 ‘깨알공개’   \n",
       "597         농협금융, 16일 자회사 CEO 임추위 개최   \n",
       "598  한은, 통화금융대책반 회의 개최…美 주가 급락 영향 점검   \n",
       "599  한-아세안 청년사업가, 한화생명 ‘드림플러스 강남’ 방문   \n",
       "\n",
       "                                                  link  \n",
       "595  https://m.news.naver.com/read.nhn?oid=016&aid=...  \n",
       "596  https://m.news.naver.com/read.nhn?oid=016&aid=...  \n",
       "597  https://m.news.naver.com/read.nhn?oid=277&aid=...  \n",
       "598  https://m.news.naver.com/read.nhn?oid=119&aid=...  \n",
       "599  https://m.news.naver.com/read.nhn?oid=018&aid=...  "
      ]
     },
     "execution_count": 4,
     "metadata": {},
     "output_type": "execute_result"
    }
   ],
   "source": [
    "df = pd.DataFrame()\n",
    "df['title'] = title_ls\n",
    "df['link'] = link_ls\n",
    "df['link'] = ['https://m.news.naver.com' + i for i in df['link']]\n",
    "df.tail()"
   ]
  },
  {
   "cell_type": "code",
   "execution_count": 5,
   "metadata": {
    "collapsed": true
   },
   "outputs": [],
   "source": [
    "content_ls = []\n",
    "\n",
    "for i in df['link'].values:\n",
    "    req = requests.get(i)\n",
    "    response = TextResponse(req.url , body=req.text , encoding='utf-8')\n",
    "    content_ls.append(','.join(response.xpath('//*[@id=\"dic_area\"]/text()').extract()).replace(',',''))"
   ]
  },
  {
   "cell_type": "code",
   "execution_count": 6,
   "metadata": {},
   "outputs": [
    {
     "data": {
      "text/plain": [
       "True"
      ]
     },
     "execution_count": 6,
     "metadata": {},
     "output_type": "execute_result"
    }
   ],
   "source": [
    "len(title_ls) == len(link_ls) == len(content_ls)"
   ]
  },
  {
   "cell_type": "code",
   "execution_count": 7,
   "metadata": {},
   "outputs": [
    {
     "data": {
      "text/html": [
       "<div>\n",
       "<style>\n",
       "    .dataframe thead tr:only-child th {\n",
       "        text-align: right;\n",
       "    }\n",
       "\n",
       "    .dataframe thead th {\n",
       "        text-align: left;\n",
       "    }\n",
       "\n",
       "    .dataframe tbody tr th {\n",
       "        vertical-align: top;\n",
       "    }\n",
       "</style>\n",
       "<table border=\"1\" class=\"dataframe\">\n",
       "  <thead>\n",
       "    <tr style=\"text-align: right;\">\n",
       "      <th></th>\n",
       "      <th>title</th>\n",
       "      <th>link</th>\n",
       "      <th>content</th>\n",
       "    </tr>\n",
       "  </thead>\n",
       "  <tbody>\n",
       "    <tr>\n",
       "      <th>595</th>\n",
       "      <td>이주열 韓銀총재, BIS 신임이사 선출</td>\n",
       "      <td>https://m.news.naver.com/read.nhn?oid=016&amp;aid=...</td>\n",
       "      <td>이주열&lt;&gt; 한국은행 총재가 11일(현지시간) 스위스 바젤 국제결제은행(BIS) 본부...</td>\n",
       "    </tr>\n",
       "    <tr>\n",
       "      <th>596</th>\n",
       "      <td>은행대출, 각종 우대금리까지 ‘깨알공개’</td>\n",
       "      <td>https://m.news.naver.com/read.nhn?oid=016&amp;aid=...</td>\n",
       "      <td>은행이 가계에 돈을 빌려줄 때 지점장 전결이나 본부 차원에서 적용하는 우대금리가 공...</td>\n",
       "    </tr>\n",
       "    <tr>\n",
       "      <th>597</th>\n",
       "      <td>농협금융, 16일 자회사 CEO 임추위 개최</td>\n",
       "      <td>https://m.news.naver.com/read.nhn?oid=277&amp;aid=...</td>\n",
       "      <td>[아시아경제 박소연 기자] 김광수 NH농협금융지주 회장이 연말 자회사 최고경영자(C...</td>\n",
       "    </tr>\n",
       "    <tr>\n",
       "      <th>598</th>\n",
       "      <td>한은, 통화금융대책반 회의 개최…美 주가 급락 영향 점검</td>\n",
       "      <td>https://m.news.naver.com/read.nhn?oid=119&amp;aid=...</td>\n",
       "      <td>한국은행은 13일 윤면식 부총재 주관으로 통화금융대책반 회의를 열고 미국 주가 하락...</td>\n",
       "    </tr>\n",
       "    <tr>\n",
       "      <th>599</th>\n",
       "      <td>한-아세안 청년사업가, 한화생명 ‘드림플러스 강남’ 방문</td>\n",
       "      <td>https://m.news.naver.com/read.nhn?oid=018&amp;aid=...</td>\n",
       "      <td>[이데일리 유재희 기자] 한화생명 ‘드림플러스 강남’에 아세안 국가의 청년 사업가들...</td>\n",
       "    </tr>\n",
       "  </tbody>\n",
       "</table>\n",
       "</div>"
      ],
      "text/plain": [
       "                               title  \\\n",
       "595            이주열 韓銀총재, BIS 신임이사 선출   \n",
       "596           은행대출, 각종 우대금리까지 ‘깨알공개’   \n",
       "597         농협금융, 16일 자회사 CEO 임추위 개최   \n",
       "598  한은, 통화금융대책반 회의 개최…美 주가 급락 영향 점검   \n",
       "599  한-아세안 청년사업가, 한화생명 ‘드림플러스 강남’ 방문   \n",
       "\n",
       "                                                  link  \\\n",
       "595  https://m.news.naver.com/read.nhn?oid=016&aid=...   \n",
       "596  https://m.news.naver.com/read.nhn?oid=016&aid=...   \n",
       "597  https://m.news.naver.com/read.nhn?oid=277&aid=...   \n",
       "598  https://m.news.naver.com/read.nhn?oid=119&aid=...   \n",
       "599  https://m.news.naver.com/read.nhn?oid=018&aid=...   \n",
       "\n",
       "                                               content  \n",
       "595  이주열<> 한국은행 총재가 11일(현지시간) 스위스 바젤 국제결제은행(BIS) 본부...  \n",
       "596  은행이 가계에 돈을 빌려줄 때 지점장 전결이나 본부 차원에서 적용하는 우대금리가 공...  \n",
       "597  [아시아경제 박소연 기자] 김광수 NH농협금융지주 회장이 연말 자회사 최고경영자(C...  \n",
       "598  한국은행은 13일 윤면식 부총재 주관으로 통화금융대책반 회의를 열고 미국 주가 하락...  \n",
       "599  [이데일리 유재희 기자] 한화생명 ‘드림플러스 강남’에 아세안 국가의 청년 사업가들...  "
      ]
     },
     "execution_count": 7,
     "metadata": {},
     "output_type": "execute_result"
    }
   ],
   "source": [
    "df['content'] = content_ls\n",
    "df['content'] = [i.replace(\"\\t\",'').replace('\\n','') for i in df['content'].values]\n",
    "df.tail()"
   ]
  },
  {
   "cell_type": "code",
   "execution_count": 8,
   "metadata": {
    "collapsed": true
   },
   "outputs": [],
   "source": [
    "df.to_csv('{}_with_link_naver.csv'.format(str(datetime.datetime.now().month) + str(datetime.datetime.now().day),index=False),index=False)"
   ]
  }
 ],
 "metadata": {
  "kernelspec": {
   "display_name": "Python 3",
   "language": "python",
   "name": "python3"
  },
  "language_info": {
   "codemirror_mode": {
    "name": "ipython",
    "version": 3
   },
   "file_extension": ".py",
   "mimetype": "text/x-python",
   "name": "python",
   "nbconvert_exporter": "python",
   "pygments_lexer": "ipython3",
   "version": "3.6.3"
  }
 },
 "nbformat": 4,
 "nbformat_minor": 2
}
