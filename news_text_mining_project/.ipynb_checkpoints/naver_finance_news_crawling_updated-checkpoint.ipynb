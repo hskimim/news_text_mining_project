{
 "cells": [
  {
   "cell_type": "code",
   "execution_count": 49,
   "metadata": {
    "collapsed": true
   },
   "outputs": [],
   "source": [
    "import pandas as pd\n",
    "from scrapy.http import TextResponse\n",
    "import requests\n",
    "import datetime"
   ]
  },
  {
   "cell_type": "code",
   "execution_count": 18,
   "metadata": {},
   "outputs": [],
   "source": [
    "title_ls,link_ls = [],[]\n",
    "content_str = 0\n",
    "for page in range(1,30+1):\n",
    "    url = 'https://m.news.naver.com/newsflash.nhn?mode=LS2D&sid1=101&sid2=259&page={}'.format(page)\n",
    "    req = requests.get(url)\n",
    "    response = TextResponse(req.url , body=req.text , encoding='utf-8')\n",
    "    for content in range(1,20+1):\n",
    "        try: \n",
    "            content_str += 1\n",
    "            title_ls.append(response.xpath('//*[@id=\"newsflash{}\"]/a/div/span[1]/strong/text()'.format(content_str)).extract()[0])\n",
    "            link_ls.append(response.xpath('//*[@id=\"newsflash{}\"]/a/@href'.format(content_str)).extract()[0])\n",
    "        except : print(page,content)"
   ]
  },
  {
   "cell_type": "code",
   "execution_count": 21,
   "metadata": {},
   "outputs": [
    {
     "data": {
      "text/plain": [
       "True"
      ]
     },
     "execution_count": 21,
     "metadata": {},
     "output_type": "execute_result"
    }
   ],
   "source": [
    "len(title_ls) == len(link_ls)"
   ]
  },
  {
   "cell_type": "code",
   "execution_count": 26,
   "metadata": {},
   "outputs": [
    {
     "data": {
      "text/html": [
       "<div>\n",
       "<style>\n",
       "    .dataframe thead tr:only-child th {\n",
       "        text-align: right;\n",
       "    }\n",
       "\n",
       "    .dataframe thead th {\n",
       "        text-align: left;\n",
       "    }\n",
       "\n",
       "    .dataframe tbody tr th {\n",
       "        vertical-align: top;\n",
       "    }\n",
       "</style>\n",
       "<table border=\"1\" class=\"dataframe\">\n",
       "  <thead>\n",
       "    <tr style=\"text-align: right;\">\n",
       "      <th></th>\n",
       "      <th>title</th>\n",
       "      <th>link</th>\n",
       "    </tr>\n",
       "  </thead>\n",
       "  <tbody>\n",
       "    <tr>\n",
       "      <th>595</th>\n",
       "      <td>[새마을금고 실태①]여전한 권력 중앙회장…박차훈 회장 기소배경엔 '과열 선거'</td>\n",
       "      <td>/read.nhn?oid=003&amp;aid=0008905269&amp;sid1=101&amp;sid2...</td>\n",
       "    </tr>\n",
       "    <tr>\n",
       "      <th>596</th>\n",
       "      <td>&lt;주간증시전망&gt; 빅 이벤트 마무리로 반등 모색…파월 발언은 변수</td>\n",
       "      <td>/read.nhn?oid=029&amp;aid=0002491504&amp;sid1=101&amp;sid2...</td>\n",
       "    </tr>\n",
       "    <tr>\n",
       "      <th>597</th>\n",
       "      <td>금감원-ADB, 핀테크·보안 주제로 공동연수 실시</td>\n",
       "      <td>/read.nhn?oid=366&amp;aid=0000419710&amp;sid1=101&amp;sid2...</td>\n",
       "    </tr>\n",
       "    <tr>\n",
       "      <th>598</th>\n",
       "      <td>금감원-ADB, 12~15일 아태지역 금융감독기관 직원대상 연수실시</td>\n",
       "      <td>/read.nhn?oid=014&amp;aid=0004124202&amp;sid1=101&amp;sid2...</td>\n",
       "    </tr>\n",
       "    <tr>\n",
       "      <th>599</th>\n",
       "      <td>집 넘기면 남은 빚 추징안해…적격대출에도 ‘책임 한정 방식’ 도입</td>\n",
       "      <td>/read.nhn?oid=018&amp;aid=0004248374&amp;sid1=101&amp;sid2...</td>\n",
       "    </tr>\n",
       "  </tbody>\n",
       "</table>\n",
       "</div>"
      ],
      "text/plain": [
       "                                           title  \\\n",
       "595  [새마을금고 실태①]여전한 권력 중앙회장…박차훈 회장 기소배경엔 '과열 선거'   \n",
       "596          <주간증시전망> 빅 이벤트 마무리로 반등 모색…파월 발언은 변수   \n",
       "597                  금감원-ADB, 핀테크·보안 주제로 공동연수 실시   \n",
       "598        금감원-ADB, 12~15일 아태지역 금융감독기관 직원대상 연수실시   \n",
       "599         집 넘기면 남은 빚 추징안해…적격대출에도 ‘책임 한정 방식’ 도입   \n",
       "\n",
       "                                                  link  \n",
       "595  /read.nhn?oid=003&aid=0008905269&sid1=101&sid2...  \n",
       "596  /read.nhn?oid=029&aid=0002491504&sid1=101&sid2...  \n",
       "597  /read.nhn?oid=366&aid=0000419710&sid1=101&sid2...  \n",
       "598  /read.nhn?oid=014&aid=0004124202&sid1=101&sid2...  \n",
       "599  /read.nhn?oid=018&aid=0004248374&sid1=101&sid2...  "
      ]
     },
     "execution_count": 26,
     "metadata": {},
     "output_type": "execute_result"
    }
   ],
   "source": [
    "df = pd.DataFrame()\n",
    "df['title'] = title_ls\n",
    "df['link'] = link_ls\n",
    "df['link'] = ['https://m.news.naver.com' + i for i in df['link']]\n",
    "df.tail()"
   ]
  },
  {
   "cell_type": "code",
   "execution_count": 30,
   "metadata": {},
   "outputs": [
    {
     "data": {
      "text/html": [
       "<div>\n",
       "<style>\n",
       "    .dataframe thead tr:only-child th {\n",
       "        text-align: right;\n",
       "    }\n",
       "\n",
       "    .dataframe thead th {\n",
       "        text-align: left;\n",
       "    }\n",
       "\n",
       "    .dataframe tbody tr th {\n",
       "        vertical-align: top;\n",
       "    }\n",
       "</style>\n",
       "<table border=\"1\" class=\"dataframe\">\n",
       "  <thead>\n",
       "    <tr style=\"text-align: right;\">\n",
       "      <th></th>\n",
       "      <th>title</th>\n",
       "      <th>link</th>\n",
       "    </tr>\n",
       "  </thead>\n",
       "  <tbody>\n",
       "    <tr>\n",
       "      <th>595</th>\n",
       "      <td>[새마을금고 실태①]여전한 권력 중앙회장…박차훈 회장 기소배경엔 '과열 선거'</td>\n",
       "      <td>https://m.news.naver.com/read.nhn?oid=003&amp;aid=...</td>\n",
       "    </tr>\n",
       "    <tr>\n",
       "      <th>596</th>\n",
       "      <td>&lt;주간증시전망&gt; 빅 이벤트 마무리로 반등 모색…파월 발언은 변수</td>\n",
       "      <td>https://m.news.naver.com/read.nhn?oid=029&amp;aid=...</td>\n",
       "    </tr>\n",
       "    <tr>\n",
       "      <th>597</th>\n",
       "      <td>금감원-ADB, 핀테크·보안 주제로 공동연수 실시</td>\n",
       "      <td>https://m.news.naver.com/read.nhn?oid=366&amp;aid=...</td>\n",
       "    </tr>\n",
       "    <tr>\n",
       "      <th>598</th>\n",
       "      <td>금감원-ADB, 12~15일 아태지역 금융감독기관 직원대상 연수실시</td>\n",
       "      <td>https://m.news.naver.com/read.nhn?oid=014&amp;aid=...</td>\n",
       "    </tr>\n",
       "    <tr>\n",
       "      <th>599</th>\n",
       "      <td>집 넘기면 남은 빚 추징안해…적격대출에도 ‘책임 한정 방식’ 도입</td>\n",
       "      <td>https://m.news.naver.com/read.nhn?oid=018&amp;aid=...</td>\n",
       "    </tr>\n",
       "  </tbody>\n",
       "</table>\n",
       "</div>"
      ],
      "text/plain": [
       "                                           title  \\\n",
       "595  [새마을금고 실태①]여전한 권력 중앙회장…박차훈 회장 기소배경엔 '과열 선거'   \n",
       "596          <주간증시전망> 빅 이벤트 마무리로 반등 모색…파월 발언은 변수   \n",
       "597                  금감원-ADB, 핀테크·보안 주제로 공동연수 실시   \n",
       "598        금감원-ADB, 12~15일 아태지역 금융감독기관 직원대상 연수실시   \n",
       "599         집 넘기면 남은 빚 추징안해…적격대출에도 ‘책임 한정 방식’ 도입   \n",
       "\n",
       "                                                  link  \n",
       "595  https://m.news.naver.com/read.nhn?oid=003&aid=...  \n",
       "596  https://m.news.naver.com/read.nhn?oid=029&aid=...  \n",
       "597  https://m.news.naver.com/read.nhn?oid=366&aid=...  \n",
       "598  https://m.news.naver.com/read.nhn?oid=014&aid=...  \n",
       "599  https://m.news.naver.com/read.nhn?oid=018&aid=...  "
      ]
     },
     "execution_count": 30,
     "metadata": {},
     "output_type": "execute_result"
    }
   ],
   "source": [
    "df.tail()"
   ]
  },
  {
   "cell_type": "code",
   "execution_count": 35,
   "metadata": {},
   "outputs": [],
   "source": [
    "content_ls = []\n",
    "\n",
    "for i in df['link'].values:\n",
    "    req = requests.get(i)\n",
    "    response = TextResponse(req.url , body=req.text , encoding='utf-8')\n",
    "    content_ls.append(','.join(response.xpath('//*[@id=\"dic_area\"]/text()').extract()).replace(',',''))"
   ]
  },
  {
   "cell_type": "code",
   "execution_count": 36,
   "metadata": {},
   "outputs": [
    {
     "data": {
      "text/plain": [
       "True"
      ]
     },
     "execution_count": 36,
     "metadata": {},
     "output_type": "execute_result"
    }
   ],
   "source": [
    "len(title_ls) == len(link_ls) == len(content_ls)"
   ]
  },
  {
   "cell_type": "code",
   "execution_count": 47,
   "metadata": {},
   "outputs": [
    {
     "data": {
      "text/html": [
       "<div>\n",
       "<style>\n",
       "    .dataframe thead tr:only-child th {\n",
       "        text-align: right;\n",
       "    }\n",
       "\n",
       "    .dataframe thead th {\n",
       "        text-align: left;\n",
       "    }\n",
       "\n",
       "    .dataframe tbody tr th {\n",
       "        vertical-align: top;\n",
       "    }\n",
       "</style>\n",
       "<table border=\"1\" class=\"dataframe\">\n",
       "  <thead>\n",
       "    <tr style=\"text-align: right;\">\n",
       "      <th></th>\n",
       "      <th>title</th>\n",
       "      <th>link</th>\n",
       "      <th>content</th>\n",
       "    </tr>\n",
       "  </thead>\n",
       "  <tbody>\n",
       "    <tr>\n",
       "      <th>595</th>\n",
       "      <td>[새마을금고 실태①]여전한 권력 중앙회장…박차훈 회장 기소배경엔 '과열 선거'</td>\n",
       "      <td>https://m.news.naver.com/read.nhn?oid=003&amp;aid=...</td>\n",
       "      <td>새마을 금고가 최근 잇따른 강도사건 발생에 이어 중앙회장이 선거비리 혐의로 기소되는...</td>\n",
       "    </tr>\n",
       "    <tr>\n",
       "      <th>596</th>\n",
       "      <td>&lt;주간증시전망&gt; 빅 이벤트 마무리로 반등 모색…파월 발언은 변수</td>\n",
       "      <td>https://m.news.naver.com/read.nhn?oid=029&amp;aid=...</td>\n",
       "      <td>[디지털타임스 김민주 기자] 이번 주(12~16일) 국내 증시는 빅 이벤트가 마무리...</td>\n",
       "    </tr>\n",
       "    <tr>\n",
       "      <th>597</th>\n",
       "      <td>금감원-ADB, 핀테크·보안 주제로 공동연수 실시</td>\n",
       "      <td>https://m.news.naver.com/read.nhn?oid=366&amp;aid=...</td>\n",
       "      <td>금융감독원과 아시아개발은행(ADB)이 핀테크·사이버 보안을 주제로 오는 12일부터 ...</td>\n",
       "    </tr>\n",
       "    <tr>\n",
       "      <th>598</th>\n",
       "      <td>금감원-ADB, 12~15일 아태지역 금융감독기관 직원대상 연수실시</td>\n",
       "      <td>https://m.news.naver.com/read.nhn?oid=014&amp;aid=...</td>\n",
       "      <td>금융감독원은 아시아개발은행(ADB)과 공동으로 12일부터 15일까지 서울 통의동 ...</td>\n",
       "    </tr>\n",
       "    <tr>\n",
       "      <th>599</th>\n",
       "      <td>집 넘기면 남은 빚 추징안해…적격대출에도 ‘책임 한정 방식’ 도입</td>\n",
       "      <td>https://m.news.naver.com/read.nhn?oid=018&amp;aid=...</td>\n",
       "      <td>[이데일리 박종오 기자] 주택담보대출 이용자가 대출 연체 시 집을 넘기면 남은 채무...</td>\n",
       "    </tr>\n",
       "  </tbody>\n",
       "</table>\n",
       "</div>"
      ],
      "text/plain": [
       "                                           title  \\\n",
       "595  [새마을금고 실태①]여전한 권력 중앙회장…박차훈 회장 기소배경엔 '과열 선거'   \n",
       "596          <주간증시전망> 빅 이벤트 마무리로 반등 모색…파월 발언은 변수   \n",
       "597                  금감원-ADB, 핀테크·보안 주제로 공동연수 실시   \n",
       "598        금감원-ADB, 12~15일 아태지역 금융감독기관 직원대상 연수실시   \n",
       "599         집 넘기면 남은 빚 추징안해…적격대출에도 ‘책임 한정 방식’ 도입   \n",
       "\n",
       "                                                  link  \\\n",
       "595  https://m.news.naver.com/read.nhn?oid=003&aid=...   \n",
       "596  https://m.news.naver.com/read.nhn?oid=029&aid=...   \n",
       "597  https://m.news.naver.com/read.nhn?oid=366&aid=...   \n",
       "598  https://m.news.naver.com/read.nhn?oid=014&aid=...   \n",
       "599  https://m.news.naver.com/read.nhn?oid=018&aid=...   \n",
       "\n",
       "                                               content  \n",
       "595  새마을 금고가 최근 잇따른 강도사건 발생에 이어 중앙회장이 선거비리 혐의로 기소되는...  \n",
       "596  [디지털타임스 김민주 기자] 이번 주(12~16일) 국내 증시는 빅 이벤트가 마무리...  \n",
       "597  금융감독원과 아시아개발은행(ADB)이 핀테크·사이버 보안을 주제로 오는 12일부터 ...  \n",
       "598   금융감독원은 아시아개발은행(ADB)과 공동으로 12일부터 15일까지 서울 통의동 ...  \n",
       "599  [이데일리 박종오 기자] 주택담보대출 이용자가 대출 연체 시 집을 넘기면 남은 채무...  "
      ]
     },
     "execution_count": 47,
     "metadata": {},
     "output_type": "execute_result"
    }
   ],
   "source": [
    "df['content'] = content_ls\n",
    "df['content'] = [i.replace(\"\\t\",'').replace('\\n','') for i in df['content'].values]\n",
    "df.tail()"
   ]
  },
  {
   "cell_type": "code",
   "execution_count": 50,
   "metadata": {},
   "outputs": [],
   "source": [
    "df.to_csv('{}_with_link_naver.csv'.format(str(datetime.datetime.now().month) + str(datetime.datetime.now().day),index=False),index=False)"
   ]
  }
 ],
 "metadata": {
  "kernelspec": {
   "display_name": "Python 3",
   "language": "python",
   "name": "python3"
  },
  "language_info": {
   "codemirror_mode": {
    "name": "ipython",
    "version": 3
   },
   "file_extension": ".py",
   "mimetype": "text/x-python",
   "name": "python",
   "nbconvert_exporter": "python",
   "pygments_lexer": "ipython3",
   "version": "3.6.3"
  }
 },
 "nbformat": 4,
 "nbformat_minor": 2
}
