{
 "cells": [
  {
   "cell_type": "markdown",
   "metadata": {},
   "source": [
    "#### 토픽 모델링이란?\n",
    "- 단어들은 각각의 토픽을 가지고 있고 문장은 단어들을 가지고 있으며, 문서는 그러한 문장들을 가지고 있다.\n",
    "- 이에 따라, 단어들의 토픽들을 알게 되면, 해당 문서에는 토픽들의 분포가 형성될 것이며, 크게는 해당 문서의 토픽을 알 수 있게 된다."
   ]
  },
  {
   "cell_type": "markdown",
   "metadata": {},
   "source": [
    "20 Newgoups 데이터세트로 토픽 모델링하기"
   ]
  },
  {
   "cell_type": "code",
   "execution_count": 1,
   "metadata": {
    "scrolled": true
   },
   "outputs": [
    {
     "name": "stdout",
     "output_type": "stream",
     "text": [
      "[nltk_data] Downloading package stopwords to\n",
      "[nltk_data]     /home/hskimim/nltk_data...\n",
      "[nltk_data]   Package stopwords is already up-to-date!\n"
     ]
    },
    {
     "data": {
      "text/plain": [
       "True"
      ]
     },
     "execution_count": 1,
     "metadata": {},
     "output_type": "execute_result"
    }
   ],
   "source": [
    "import nltk; nltk.download('stopwords')"
   ]
  },
  {
   "cell_type": "code",
   "execution_count": 32,
   "metadata": {},
   "outputs": [],
   "source": [
    "import re\n",
    "import numpy as np\n",
    "import pandas as pd\n",
    "from pprint import pprint\n",
    "\n",
    "# Gensim\n",
    "import gensim\n",
    "import gensim.corpora as corpora\n",
    "from gensim.utils import simple_preprocess\n",
    "from gensim.models import CoherenceModel\n",
    "\n",
    "# spacy for lemmatization\n",
    "import spacy\n",
    "\n",
    "# Plotting tools\n",
    "import pyLDAvis\n",
    "import pyLDAvis.gensim  # don't skip this\n",
    "import matplotlib.pyplot as plt\n",
    "%matplotlib inline\n",
    "\n",
    "# Enable logging for gensim - optional\n",
    "import logging\n",
    "logging.basicConfig(format='%(asctime)s : %(levelname)s : %(message)s', level=logging.ERROR)\n",
    "\n",
    "import warnings\n",
    "warnings.filterwarnings(\"ignore\",category=DeprecationWarning)"
   ]
  },
  {
   "cell_type": "markdown",
   "metadata": {},
   "source": [
    "stopwords 에는 불필요한 단어, 즉 조사나 관사들을 없애는 툴이다."
   ]
  },
  {
   "cell_type": "code",
   "execution_count": 5,
   "metadata": {
    "collapsed": true
   },
   "outputs": [],
   "source": [
    "# NLTK Stop words\n",
    "from nltk.corpus import stopwords\n",
    "stop_words = stopwords.words('english')\n",
    "stop_words.extend(['from', 'subject', 're', 'edu', 'use'])"
   ]
  },
  {
   "cell_type": "markdown",
   "metadata": {},
   "source": [
    "read_json 메소드로 웹에 있는 json 파일을 가지고 온다."
   ]
  },
  {
   "cell_type": "code",
   "execution_count": 6,
   "metadata": {},
   "outputs": [
    {
     "name": "stdout",
     "output_type": "stream",
     "text": [
      "['rec.autos' 'comp.sys.mac.hardware' 'rec.motorcycles' 'misc.forsale'\n",
      " 'comp.os.ms-windows.misc' 'alt.atheism' 'comp.graphics'\n",
      " 'rec.sport.baseball' 'rec.sport.hockey' 'sci.electronics' 'sci.space'\n",
      " 'talk.politics.misc' 'sci.med' 'talk.politics.mideast'\n",
      " 'soc.religion.christian' 'comp.windows.x' 'comp.sys.ibm.pc.hardware'\n",
      " 'talk.politics.guns' 'talk.religion.misc' 'sci.crypt']\n"
     ]
    },
    {
     "data": {
      "text/html": [
       "<div>\n",
       "<style>\n",
       "    .dataframe thead tr:only-child th {\n",
       "        text-align: right;\n",
       "    }\n",
       "\n",
       "    .dataframe thead th {\n",
       "        text-align: left;\n",
       "    }\n",
       "\n",
       "    .dataframe tbody tr th {\n",
       "        vertical-align: top;\n",
       "    }\n",
       "</style>\n",
       "<table border=\"1\" class=\"dataframe\">\n",
       "  <thead>\n",
       "    <tr style=\"text-align: right;\">\n",
       "      <th></th>\n",
       "      <th>content</th>\n",
       "      <th>target</th>\n",
       "      <th>target_names</th>\n",
       "    </tr>\n",
       "  </thead>\n",
       "  <tbody>\n",
       "    <tr>\n",
       "      <th>0</th>\n",
       "      <td>From: lerxst@wam.umd.edu (where's my thing)\\nS...</td>\n",
       "      <td>7</td>\n",
       "      <td>rec.autos</td>\n",
       "    </tr>\n",
       "    <tr>\n",
       "      <th>1</th>\n",
       "      <td>From: guykuo@carson.u.washington.edu (Guy Kuo)...</td>\n",
       "      <td>4</td>\n",
       "      <td>comp.sys.mac.hardware</td>\n",
       "    </tr>\n",
       "    <tr>\n",
       "      <th>10</th>\n",
       "      <td>From: irwin@cmptrc.lonestar.org (Irwin Arnstei...</td>\n",
       "      <td>8</td>\n",
       "      <td>rec.motorcycles</td>\n",
       "    </tr>\n",
       "    <tr>\n",
       "      <th>100</th>\n",
       "      <td>From: tchen@magnus.acs.ohio-state.edu (Tsung-K...</td>\n",
       "      <td>6</td>\n",
       "      <td>misc.forsale</td>\n",
       "    </tr>\n",
       "    <tr>\n",
       "      <th>1000</th>\n",
       "      <td>From: dabl2@nlm.nih.gov (Don A.B. Lindbergh)\\n...</td>\n",
       "      <td>2</td>\n",
       "      <td>comp.os.ms-windows.misc</td>\n",
       "    </tr>\n",
       "  </tbody>\n",
       "</table>\n",
       "</div>"
      ],
      "text/plain": [
       "                                                content  target  \\\n",
       "0     From: lerxst@wam.umd.edu (where's my thing)\\nS...       7   \n",
       "1     From: guykuo@carson.u.washington.edu (Guy Kuo)...       4   \n",
       "10    From: irwin@cmptrc.lonestar.org (Irwin Arnstei...       8   \n",
       "100   From: tchen@magnus.acs.ohio-state.edu (Tsung-K...       6   \n",
       "1000  From: dabl2@nlm.nih.gov (Don A.B. Lindbergh)\\n...       2   \n",
       "\n",
       "                 target_names  \n",
       "0                   rec.autos  \n",
       "1       comp.sys.mac.hardware  \n",
       "10            rec.motorcycles  \n",
       "100              misc.forsale  \n",
       "1000  comp.os.ms-windows.misc  "
      ]
     },
     "execution_count": 6,
     "metadata": {},
     "output_type": "execute_result"
    }
   ],
   "source": [
    "# Import Dataset\n",
    "df = pd.read_json('https://raw.githubusercontent.com/selva86/datasets/master/newsgroups.json')\n",
    "print(df.target_names.unique())\n",
    "df.head()"
   ]
  },
  {
   "cell_type": "code",
   "execution_count": 7,
   "metadata": {},
   "outputs": [
    {
     "name": "stdout",
     "output_type": "stream",
     "text": [
      "['From: (wheres my thing) Subject: WHAT car is this!? Nntp-Posting-Host: '\n",
      " 'rac3.wam.umd.edu Organization: University of Maryland, College Park Lines: '\n",
      " '15 I was wondering if anyone out there could enlighten me on this car I saw '\n",
      " 'the other day. It was a 2-door sports car, looked to be from the late 60s/ '\n",
      " 'early 70s. It was called a Bricklin. The doors were really small. In '\n",
      " 'addition, the front bumper was separate from the rest of the body. This is '\n",
      " 'all I know. If anyone can tellme a model name, engine specs, years of '\n",
      " 'production, where this car is made, history, or whatever info you have on '\n",
      " 'this funky looking car, please e-mail. Thanks, - IL ---- brought to you by '\n",
      " 'your neighborhood Lerxst ---- ']\n"
     ]
    }
   ],
   "source": [
    "# Convert to list\n",
    "data = df.content.values.tolist()\n",
    "\n",
    "# Remove Emails\n",
    "data = [re.sub('\\S*@\\S*\\s?', '', sent) for sent in data]\n",
    "\n",
    "# Remove new line characters\n",
    "data = [re.sub('\\s+', ' ', sent) for sent in data]\n",
    "\n",
    "# Remove distracting single quotes\n",
    "data = [re.sub(\"\\'\", \"\", sent) for sent in data]\n",
    "\n",
    "pprint(data[:1])"
   ]
  },
  {
   "cell_type": "markdown",
   "metadata": {},
   "source": [
    "- 정규식 표현을 통해서 문장 내에 이메일과 기타 특수 문자들을 없애주었지만, 여전히 난잡해보인다.\n",
    "- LDA 알고리즘을 사용하기 위해서는, 문장들을 단어들의 묶음으로 변환시켜주는 과정이 필요하다.\n",
    "- 이러한 과정을 Tokenization 이라고 한다."
   ]
  },
  {
   "cell_type": "markdown",
   "metadata": {},
   "source": [
    "# tokenization process"
   ]
  },
  {
   "cell_type": "code",
   "execution_count": 8,
   "metadata": {},
   "outputs": [
    {
     "name": "stdout",
     "output_type": "stream",
     "text": [
      "[['from', 'wheres', 'my', 'thing', 'subject', 'what', 'car', 'is', 'this', 'nntp', 'posting', 'host', 'rac', 'wam', 'umd', 'edu', 'organization', 'university', 'of', 'maryland', 'college', 'park', 'lines', 'was', 'wondering', 'if', 'anyone', 'out', 'there', 'could', 'enlighten', 'me', 'on', 'this', 'car', 'saw', 'the', 'other', 'day', 'it', 'was', 'door', 'sports', 'car', 'looked', 'to', 'be', 'from', 'the', 'late', 'early', 'it', 'was', 'called', 'bricklin', 'the', 'doors', 'were', 'really', 'small', 'in', 'addition', 'the', 'front', 'bumper', 'was', 'separate', 'from', 'the', 'rest', 'of', 'the', 'body', 'this', 'is', 'all', 'know', 'if', 'anyone', 'can', 'tellme', 'model', 'name', 'engine', 'specs', 'years', 'of', 'production', 'where', 'this', 'car', 'is', 'made', 'history', 'or', 'whatever', 'info', 'you', 'have', 'on', 'this', 'funky', 'looking', 'car', 'please', 'mail', 'thanks', 'il', 'brought', 'to', 'you', 'by', 'your', 'neighborhood', 'lerxst']]\n"
     ]
    }
   ],
   "source": [
    "def sent_to_words(sentences):\n",
    "    for sentence in sentences:\n",
    "        yield(gensim.utils.simple_preprocess(str(sentence), deacc=True))  \n",
    "        # deacc=True removes punctuations\n",
    "        # 구두점(말끝에 찍는 쉼표나 점들을 의미) 을 없애주는 것이다.\n",
    "\n",
    "data_words = list(sent_to_words(data))\n",
    "\n",
    "print(data_words[:1])"
   ]
  },
  {
   "cell_type": "markdown",
   "metadata": {},
   "source": [
    "### Bigram , Trigram 모델 만들기\n",
    "- Bigram : 문서에서 함께 자주 등장하는 2개의 단어\n",
    "- Trigram : 문서에서 함께 자주 등장하는 3개의 단어\n",
    "- ‘front_bumper’, ‘oil_leak’, ‘maryland_college_park’ etc.\n",
    "- Phrases : 모델을 빌드한다.\n",
    "- min_count , threshold : Pharases 의 중요한 두 개의 파라미터\n",
    "    - min_count (float, optional) : Ignore all words and bigrams with total collected count lower than this value.\n",
    "    - threshold (float, optional) : Represent a score threshold for forming the phrases (higher means fewer phrases). A phrase of words a followed by b is accepted if the score of the phrase is greater than threshold. Heavily depends on concrete scoring-function, see the scoring parameter."
   ]
  },
  {
   "cell_type": "code",
   "execution_count": 11,
   "metadata": {
    "scrolled": true
   },
   "outputs": [
    {
     "name": "stderr",
     "output_type": "stream",
     "text": [
      "/home/hskimim/anaconda3/lib/python3.6/site-packages/gensim/models/phrases.py:598: UserWarning: For a faster implementation, use the gensim.models.phrases.Phraser class\n",
      "  warnings.warn(\"For a faster implementation, use the gensim.models.phrases.Phraser class\")\n"
     ]
    },
    {
     "name": "stdout",
     "output_type": "stream",
     "text": [
      "['from', 'wheres', 'my', 'thing', 'subject', 'what', 'car', 'is', 'this', 'nntp_posting_host', 'rac_wam_umd_edu', 'organization', 'university', 'of', 'maryland_college_park', 'lines', 'was', 'wondering', 'if', 'anyone', 'out', 'there', 'could', 'enlighten', 'me', 'on', 'this', 'car', 'saw', 'the', 'other', 'day', 'it', 'was', 'door', 'sports', 'car', 'looked', 'to', 'be', 'from', 'the', 'late', 'early', 'it', 'was', 'called', 'bricklin', 'the', 'doors', 'were', 'really', 'small', 'in', 'addition', 'the', 'front_bumper', 'was', 'separate', 'from', 'the', 'rest', 'of', 'the', 'body', 'this', 'is', 'all', 'know', 'if', 'anyone', 'can', 'tellme', 'model', 'name', 'engine', 'specs', 'years', 'of', 'production', 'where', 'this', 'car', 'is', 'made', 'history', 'or', 'whatever', 'info', 'you', 'have', 'on', 'this', 'funky', 'looking', 'car', 'please', 'mail', 'thanks', 'il', 'brought', 'to', 'you', 'by', 'your', 'neighborhood', 'lerxst']\n"
     ]
    }
   ],
   "source": [
    "# Build the bigram and trigram models\n",
    "bigram = gensim.models.Phrases(data_words, min_count=5, threshold=100) # higher threshold fewer phrases.\n",
    "trigram = gensim.models.Phrases(bigram[data_words], threshold=100)  \n",
    "\n",
    "# Faster way to get a sentence clubbed as a trigram/bigram\n",
    "bigram_mod = gensim.models.phrases.Phraser(bigram)\n",
    "trigram_mod = gensim.models.phrases.Phraser(trigram)\n",
    "\n",
    "# See trigram example\n",
    "print(trigram_mod[bigram_mod[data_words[0]]])"
   ]
  },
  {
   "cell_type": "code",
   "execution_count": 17,
   "metadata": {
    "collapsed": true
   },
   "outputs": [],
   "source": [
    "# Define functions for stopwords, bigrams, trigrams and lemmatization\n",
    "def remove_stopwords(texts):\n",
    "    return [[word for word in simple_preprocess(str(doc)) if word not in stop_words] for doc in texts]\n",
    "\n",
    "def make_bigrams(texts):\n",
    "    return [bigram_mod[doc] for doc in texts]\n",
    "\n",
    "def make_trigrams(texts):\n",
    "    return [trigram_mod[bigram_mod[doc]] for doc in texts]\n",
    "\n",
    "def lemmatization(texts, allowed_postags=['NOUN', 'ADJ', 'VERB', 'ADV']):\n",
    "    \"\"\"https://spacy.io/api/annotation\"\"\"\n",
    "    texts_out = []\n",
    "    for sent in texts:\n",
    "        doc = nlp(\" \".join(sent)) \n",
    "        texts_out.append([token.lemma_ for token in doc if token.pos_ in allowed_postags])\n",
    "    return texts_out"
   ]
  },
  {
   "cell_type": "code",
   "execution_count": 19,
   "metadata": {},
   "outputs": [
    {
     "name": "stdout",
     "output_type": "stream",
     "text": [
      "[['where', 's', 'thing', 'car', 'nntp_post', 'host', 'rac_wam', 'umd', 'organization', 'university', 'maryland_college', 'park', 'line', 'wonder', 'anyone', 'could', 'enlighten', 'car', 'see', 'day', 'door', 'sport', 'car', 'look', 'late', 'early', 'call', 'bricklin', 'door', 'really', 'small', 'addition', 'front_bumper', 'separate', 'rest', 'body', 'know', 'anyone', 'tellme', 'model', 'name', 'engine', 'spec', 'year', 'production', 'car', 'make', 'history', 'whatev', 'info', 'funky', 'look', 'car', 'mail', 'thank', 'bring', 'neighborhood', 'lerxst']]\n"
     ]
    }
   ],
   "source": [
    "# Remove Stop Words\n",
    "data_words_nostops = remove_stopwords(data_words)\n",
    "\n",
    "# Form Bigrams\n",
    "data_words_bigrams = make_bigrams(data_words_nostops)\n",
    "\n",
    "# Initialize spacy 'en' model, keeping only tagger component (for efficiency)\n",
    "# python3 -m spacy download en\n",
    "nlp = spacy.load('en', disable=['parser', 'ner'])\n",
    "\n",
    "# Do lemmatization keeping only noun, adj, vb, adv\n",
    "data_lemmatized = lemmatization(data_words_bigrams, allowed_postags=['NOUN', 'ADJ', 'VERB', 'ADV'])\n",
    "\n",
    "print(data_lemmatized[:1])"
   ]
  },
  {
   "cell_type": "markdown",
   "metadata": {},
   "source": [
    "- LDA 모델에 들어가야 하는 두 가지 입력변수는 딕셔너리와(id2word) 코퍼스(corpus)이다.\n",
    "- gensim 은 문서 내에 있는 단어별로 유니크한 아이디를 할당해준다.\n",
    "- 아래의 각각의 엘리먼트 튜플당 의미하는 것은 [word_id,word_frequency] 이다."
   ]
  },
  {
   "cell_type": "code",
   "execution_count": 20,
   "metadata": {},
   "outputs": [
    {
     "name": "stdout",
     "output_type": "stream",
     "text": [
      "[[(0, 1), (1, 2), (2, 1), (3, 1), (4, 1), (5, 1), (6, 5), (7, 1), (8, 1), (9, 2), (10, 1), (11, 1), (12, 1), (13, 1), (14, 1), (15, 1), (16, 1), (17, 1), (18, 1), (19, 1), (20, 1), (21, 1), (22, 2), (23, 1), (24, 1), (25, 1), (26, 1), (27, 1), (28, 1), (29, 1), (30, 1), (31, 1), (32, 1), (33, 1), (34, 1), (35, 1), (36, 1), (37, 1), (38, 1), (39, 1), (40, 1), (41, 1), (42, 1), (43, 1), (44, 1), (45, 1), (46, 1), (47, 1), (48, 1), (49, 1), (50, 1)]]\n"
     ]
    }
   ],
   "source": [
    "# Create Dictionary\n",
    "id2word = corpora.Dictionary(data_lemmatized)\n",
    "\n",
    "# Create Corpus\n",
    "texts = data_lemmatized\n",
    "\n",
    "# Term Document Frequency\n",
    "corpus = [id2word.doc2bow(text) for text in texts]\n",
    "\n",
    "# View\n",
    "print(corpus[:1])"
   ]
  },
  {
   "cell_type": "markdown",
   "metadata": {},
   "source": [
    "만약 해당 id에 속한 단어를 보고싶으면"
   ]
  },
  {
   "cell_type": "code",
   "execution_count": 27,
   "metadata": {},
   "outputs": [
    {
     "data": {
      "text/plain": [
       "'addition'"
      ]
     },
     "execution_count": 27,
     "metadata": {},
     "output_type": "execute_result"
    }
   ],
   "source": [
    "id2word[0]"
   ]
  },
  {
   "cell_type": "markdown",
   "metadata": {},
   "source": [
    "위의 표는 컴퓨터가 읽기 쉽게끔 만들어준 것이고, Counter 객체처럼 사람이 읽기 쉽게 만든 것은 아래와 같다."
   ]
  },
  {
   "cell_type": "code",
   "execution_count": 28,
   "metadata": {
    "scrolled": true
   },
   "outputs": [
    {
     "data": {
      "text/plain": [
       "[[('addition', 1),\n",
       "  ('anyone', 2),\n",
       "  ('body', 1),\n",
       "  ('bricklin', 1),\n",
       "  ('bring', 1),\n",
       "  ('call', 1),\n",
       "  ('car', 5),\n",
       "  ('could', 1),\n",
       "  ('day', 1),\n",
       "  ('door', 2),\n",
       "  ('early', 1),\n",
       "  ('engine', 1),\n",
       "  ('enlighten', 1),\n",
       "  ('front_bumper', 1),\n",
       "  ('funky', 1),\n",
       "  ('history', 1),\n",
       "  ('host', 1),\n",
       "  ('info', 1),\n",
       "  ('know', 1),\n",
       "  ('late', 1),\n",
       "  ('lerxst', 1),\n",
       "  ('line', 1),\n",
       "  ('look', 2),\n",
       "  ('mail', 1),\n",
       "  ('make', 1),\n",
       "  ('maryland_college', 1),\n",
       "  ('model', 1),\n",
       "  ('name', 1),\n",
       "  ('neighborhood', 1),\n",
       "  ('nntp_post', 1),\n",
       "  ('organization', 1),\n",
       "  ('park', 1),\n",
       "  ('production', 1),\n",
       "  ('rac_wam', 1),\n",
       "  ('really', 1),\n",
       "  ('rest', 1),\n",
       "  ('s', 1),\n",
       "  ('see', 1),\n",
       "  ('separate', 1),\n",
       "  ('small', 1),\n",
       "  ('spec', 1),\n",
       "  ('sport', 1),\n",
       "  ('tellme', 1),\n",
       "  ('thank', 1),\n",
       "  ('thing', 1),\n",
       "  ('umd', 1),\n",
       "  ('university', 1),\n",
       "  ('whatev', 1),\n",
       "  ('where', 1),\n",
       "  ('wonder', 1),\n",
       "  ('year', 1)]]"
      ]
     },
     "execution_count": 28,
     "metadata": {},
     "output_type": "execute_result"
    }
   ],
   "source": [
    "# Human readable format of corpus (term-frequency)\n",
    "[[(id2word[id], freq) for id, freq in cp] for cp in corpus[:1]]"
   ]
  },
  {
   "cell_type": "markdown",
   "metadata": {},
   "source": [
    "여태까지 해온 것이 LDA 모델 생성에 필요한 것들을 전부 한 것이다. 코퍼스와 딕셔너리를 생성한 것에 더해서, 우리는 몇 개의 토픽을 할당할 것인지에 대한 결정을 해주어야 한다."
   ]
  },
  {
   "cell_type": "markdown",
   "metadata": {},
   "source": [
    "- alpha , eta 는 토픽들의 떨어진 정도(sparsity)에 영향을 끼치는 하이퍼 파라미터이다. 도큐먼트에 따르면, 디폴트값은 1.0/num_topics prior 이다.\n",
    "- chunksize 는 각각의 training chunk 에 사용될 문서의 갯수를 의미한다. 확실하지는 않지만, batch_size 와 유사한 의미를 갖는 것로 해석된다.\n",
    "\n",
    "    - IN ADDITION : Text chunking, also referred to as shallow parsing, is a task that follows Part-Of-Speech Tagging and that adds more structure to the sentence. The result is a grouping of the words in “chunks”.\n"
   ]
  },
  {
   "cell_type": "code",
   "execution_count": 29,
   "metadata": {
    "collapsed": true
   },
   "outputs": [],
   "source": [
    "# Build LDA model\n",
    "lda_model = gensim.models.ldamodel.LdaModel(corpus=corpus,\n",
    "                                           id2word=id2word,\n",
    "                                           num_topics=20, \n",
    "                                           random_state=100,\n",
    "                                           update_every=1,\n",
    "                                           chunksize=100,\n",
    "                                           passes=10,\n",
    "                                           alpha='auto',\n",
    "                                           per_word_topics=True)"
   ]
  },
  {
   "cell_type": "markdown",
   "metadata": {},
   "source": [
    "위의 모델을 통해 반환되는 것은 토픽의 수는 20개이고 각각의 키워드(단어들의 집합)와 키워드들 간의 조합이 특정한 토픽의 가중치를 정해주는데 기여하는 것이다."
   ]
  },
  {
   "cell_type": "markdown",
   "metadata": {},
   "source": [
    "- lda_model 객체에 print_topics 메소드를 operating 하면, 각각의 키워드들이 토픽에 기여하는 가중치(importance)를 알 수 있다.\n",
    "- 0부터 19까지 총 20개에 해당하는 토픽이 있는 것을 알 수 있고, 각각의 토픽에 위치해있는 키워드들과 이들 키워드들이 해당 토픽에서 가지는 중요도가 순서대로 나와있다."
   ]
  },
  {
   "cell_type": "code",
   "execution_count": 30,
   "metadata": {
    "scrolled": true
   },
   "outputs": [
    {
     "name": "stdout",
     "output_type": "stream",
     "text": [
      "[(0,\n",
      "  '0.034*\"_\" + 0.029*\"blue\" + 0.021*\"tank\" + 0.014*\"cubs_suck\" + 0.012*\"eg\" + '\n",
      "  '0.012*\"gas\" + 0.011*\"hi\" + 0.007*\"henry_spencer\" + 0.007*\"cigarette\" + '\n",
      "  '0.006*\"xlib\"'),\n",
      " (1,\n",
      "  '0.020*\"value\" + 0.020*\"bus\" + 0.019*\"specifically\" + 0.015*\"function\" + '\n",
      "  '0.015*\"associate\" + 0.013*\"motorcycle\" + 0.011*\"properly\" + 0.010*\"code\" + '\n",
      "  '0.008*\"confuse\" + 0.008*\"error\"'),\n",
      " (2,\n",
      "  '0.023*\"window\" + 0.020*\"card\" + 0.017*\"file\" + 0.014*\"drive\" + 0.013*\"use\" '\n",
      "  '+ 0.013*\"system\" + 0.011*\"problem\" + 0.010*\"run\" + 0.009*\"color\" + '\n",
      "  '0.009*\"do\"'),\n",
      " (3,\n",
      "  '0.035*\"game\" + 0.033*\"team\" + 0.019*\"player\" + 0.017*\"play\" + 0.017*\"win\" + '\n",
      "  '0.016*\"hockey\" + 0.013*\"season\" + 0.011*\"contact\" + 0.011*\"year\" + '\n",
      "  '0.010*\"nhl\"'),\n",
      " (4,\n",
      "  '0.026*\"wire\" + 0.017*\"circuit\" + 0.015*\"faq\" + 0.015*\"connect\" + '\n",
      "  '0.013*\"wiring\" + 0.013*\"voice\" + 0.013*\"cover\" + 0.011*\"outlet\" + '\n",
      "  '0.011*\"neutral\" + 0.010*\"conference\"'),\n",
      " (5,\n",
      "  '0.030*\"government\" + 0.024*\"gun\" + 0.022*\"law\" + 0.017*\"state\" + '\n",
      "  '0.015*\"right\" + 0.013*\"public\" + 0.012*\"protect\" + 0.011*\"american\" + '\n",
      "  '0.010*\"police\" + 0.010*\"criminal\"'),\n",
      " (6,\n",
      "  '0.074*\"max\" + 0.018*\"cost\" + 0.015*\"price\" + 0.014*\"year\" + 0.012*\"sale\" + '\n",
      "  '0.011*\"sell\" + 0.010*\"obvious\" + 0.009*\"pay\" + 0.007*\"canada\" + '\n",
      "  '0.007*\"total\"'),\n",
      " (7,\n",
      "  '0.047*\"line\" + 0.042*\"organization\" + 0.031*\"write\" + 0.026*\"article\" + '\n",
      "  '0.019*\"would\" + 0.018*\"university\" + 0.017*\"nntp_post\" + 0.015*\"host\" + '\n",
      "  '0.015*\"not\" + 0.014*\"get\"'),\n",
      " (8,\n",
      "  '0.019*\"science\" + 0.014*\"computer_science\" + 0.012*\"prove\" + '\n",
      "  '0.011*\"homeopathy\" + 0.010*\"review\" + 0.010*\"development\" + 0.010*\"object\" '\n",
      "  '+ 0.010*\"univ\" + 0.010*\"text\" + 0.010*\"gordon_bank\"'),\n",
      " (9,\n",
      "  '0.039*\"space\" + 0.011*\"power\" + 0.009*\"launch\" + 0.008*\"ground\" + '\n",
      "  '0.008*\"switch\" + 0.008*\"build\" + 0.007*\"project\" + 0.007*\"high\" + '\n",
      "  '0.007*\"radio\" + 0.007*\"mon\"'),\n",
      " (10,\n",
      "  '0.815*\"ax\" + 0.003*\"nyi\" + 0.003*\"stl\" + 0.003*\"buffalo\" + 0.002*\"pool\" + '\n",
      "  '0.002*\"brian_kendig\" + 0.002*\"sunday\" + 0.002*\"finland\" + 0.002*\"espn\" + '\n",
      "  '0.002*\"lemieux\"'),\n",
      " (11,\n",
      "  '0.040*\"armenian\" + 0.013*\"league\" + 0.011*\"turk\" + 0.011*\"turkish\" + '\n",
      "  '0.011*\"greek\" + 0.011*\"baseball\" + 0.010*\"serdar_argic\" + 0.007*\"road\" + '\n",
      "  '0.006*\"cal\" + 0.006*\"hug\"'),\n",
      " (12,\n",
      "  '0.011*\"national\" + 0.009*\"center\" + 0.009*\"year\" + 0.009*\"april\" + '\n",
      "  '0.009*\"study\" + 0.007*\"george\" + 0.007*\"research\" + 0.006*\"march\" + '\n",
      "  '0.006*\"mission\" + 0.006*\"student\"'),\n",
      " (13,\n",
      "  '0.011*\"may\" + 0.010*\"would\" + 0.009*\"make\" + 0.007*\"people\" + '\n",
      "  '0.007*\"question\" + 0.007*\"also\" + 0.007*\"many\" + 0.007*\"point\" + '\n",
      "  '0.007*\"mean\" + 0.006*\"must\"'),\n",
      " (14,\n",
      "  '0.015*\"israel\" + 0.012*\"israeli\" + 0.009*\"attack\" + 0.009*\"kill\" + '\n",
      "  '0.009*\"military\" + 0.008*\"hour\" + 0.008*\"land\" + 0.008*\"international\" + '\n",
      "  '0.008*\"committee\" + 0.007*\"soldier\"'),\n",
      " (15,\n",
      "  '0.020*\"mail\" + 0.017*\"information\" + 0.015*\"available\" + 0.015*\"include\" + '\n",
      "  '0.013*\"send\" + 0.012*\"program\" + 0.011*\"list\" + 0.010*\"ca\" + 0.010*\"also\" + '\n",
      "  '0.010*\"internet\"'),\n",
      " (16,\n",
      "  '0.029*\"key\" + 0.022*\"chip\" + 0.014*\"use\" + 0.013*\"system\" + 0.011*\"phone\" + '\n",
      "  '0.010*\"encryption\" + 0.010*\"bit\" + 0.010*\"technology\" + 0.009*\"wiretap\" + '\n",
      "  '0.009*\"device\"'),\n",
      " (17,\n",
      "  '0.025*\"christian\" + 0.023*\"god\" + 0.012*\"man\" + 0.011*\"life\" + '\n",
      "  '0.011*\"religion\" + 0.010*\"bible\" + 0.009*\"believe\" + 0.008*\"law\" + '\n",
      "  '0.008*\"belief\" + 0.008*\"die\"'),\n",
      " (18,\n",
      "  '0.051*\"not\" + 0.032*\"do\" + 0.022*\"say\" + 0.021*\"go\" + 0.019*\"would\" + '\n",
      "  '0.018*\"be\" + 0.015*\"think\" + 0.014*\"know\" + 0.014*\"s\" + 0.013*\"people\"'),\n",
      " (19,\n",
      "  '0.017*\"light\" + 0.015*\"rise\" + 0.015*\"paul\" + 0.012*\"fire\" + 0.011*\"edge\" + '\n",
      "  '0.010*\"building\" + 0.009*\"water\" + 0.009*\"teach\" + 0.008*\"mother\" + '\n",
      "  '0.008*\"girl\"')]\n"
     ]
    }
   ],
   "source": [
    "# Print the Keyword in the 10 topics\n",
    "pprint(lda_model.print_topics())\n",
    "doc_lda = lda_model[corpus]"
   ]
  },
  {
   "cell_type": "code",
   "execution_count": 31,
   "metadata": {},
   "outputs": [
    {
     "name": "stdout",
     "output_type": "stream",
     "text": [
      "\n",
      "Perplexity:  -8.7540937582\n",
      "\n",
      "Coherence Score:  0.515758393755\n"
     ]
    }
   ],
   "source": [
    "# Compute Perplexity\n",
    "print('\\nPerplexity: ', lda_model.log_perplexity(corpus))  # a measure of how good the model is. lower the better.\n",
    "\n",
    "# Compute Coherence Score\n",
    "coherence_model_lda = CoherenceModel(model=lda_model, texts=data_lemmatized, dictionary=id2word, coherence='c_v')\n",
    "coherence_lda = coherence_model_lda.get_coherence()\n",
    "print('\\nCoherence Score: ', coherence_lda)"
   ]
  },
  {
   "cell_type": "markdown",
   "metadata": {},
   "source": [
    "pyLDAvis 만큼 jupyter notebook에서 LDA랄 잘 작동하면서 시각화하는 툴도 없다."
   ]
  },
  {
   "cell_type": "code",
   "execution_count": 33,
   "metadata": {
    "scrolled": false
   },
   "outputs": [
    {
     "data": {
      "text/html": [
       "\n",
       "<link rel=\"stylesheet\" type=\"text/css\" href=\"https://cdn.rawgit.com/bmabey/pyLDAvis/files/ldavis.v1.0.0.css\">\n",
       "\n",
       "\n",
       "<div id=\"ldavis_el199441402364856357929458496390\"></div>\n",
       "<script type=\"text/javascript\">\n",
       "\n",
       "var ldavis_el199441402364856357929458496390_data = {\"mdsDat\": {\"Freq\": [16.240297444111608, 15.22284770113131, 14.586535587379586, 6.1624630381547325, 5.9737684803933035, 4.344134885335134, 4.177516711033954, 3.6037825542116937, 3.365287238964012, 3.2717509302070837, 3.2226900403610577, 2.968356192913274, 2.7400803513929817, 2.7311337962851256, 2.2919392590030236, 2.1244481252118885, 2.0772552831326268, 1.6947203984288277, 1.6791928291371365, 1.5217991532116357], \"cluster\": [1, 1, 1, 1, 1, 1, 1, 1, 1, 1, 1, 1, 1, 1, 1, 1, 1, 1, 1, 1], \"topics\": [1, 2, 3, 4, 5, 6, 7, 8, 9, 10, 11, 12, 13, 14, 15, 16, 17, 18, 19, 20], \"x\": [0.3368442571182891, 0.2910323676112909, 0.32882863720181754, 0.09177642696949109, 0.059628768266288955, -0.08500799472598719, 0.06072300715136519, -0.021464754903586975, -0.022901818179760364, -0.029244321119142012, -0.06302352481221482, -0.06288522200502782, -0.08888599628162532, -0.04775395099875329, -0.11145403923889216, -0.11368561814197357, -0.09245103610488298, -0.1342068245113119, -0.16422778773003888, -0.13164057556534553], \"y\": [-0.001182658664759419, -0.0032566288776493878, -0.12812874042464414, 0.22646791093768817, 0.2224690564152021, -0.11310793975658591, -0.18317992935193278, -0.03660282356385786, -0.021308032062836938, 0.21970097214255235, -0.016667584670229853, 0.13942903530817363, -0.06264554571477413, -0.11744021509698027, 0.003706755562430864, -0.02338532099138951, -0.11047459362116024, 0.001639579721913124, -0.027998790760356992, 0.03196549346919722]}, \"tinfo\": {\"Category\": [\"Default\", \"Default\", \"Default\", \"Default\", \"Default\", \"Default\", \"Default\", \"Default\", \"Default\", \"Default\", \"Default\", \"Default\", \"Default\", \"Default\", \"Default\", \"Default\", \"Default\", \"Default\", \"Default\", \"Default\", \"Default\", \"Default\", \"Default\", \"Default\", \"Default\", \"Default\", \"Default\", \"Default\", \"Default\", \"Default\", \"Topic1\", \"Topic1\", \"Topic1\", \"Topic1\", \"Topic1\", \"Topic1\", \"Topic1\", \"Topic1\", \"Topic1\", \"Topic1\", \"Topic1\", \"Topic1\", \"Topic1\", \"Topic1\", \"Topic1\", \"Topic1\", \"Topic1\", \"Topic1\", \"Topic1\", \"Topic1\", \"Topic1\", \"Topic1\", \"Topic1\", \"Topic1\", \"Topic1\", \"Topic1\", \"Topic1\", \"Topic1\", \"Topic1\", \"Topic1\", \"Topic1\", \"Topic1\", \"Topic1\", \"Topic1\", \"Topic1\", \"Topic1\", \"Topic1\", \"Topic1\", \"Topic1\", \"Topic1\", \"Topic1\", \"Topic1\", \"Topic1\", \"Topic1\", \"Topic1\", \"Topic1\", \"Topic1\", \"Topic1\", \"Topic1\", \"Topic1\", \"Topic1\", \"Topic1\", \"Topic1\", \"Topic1\", \"Topic1\", \"Topic1\", \"Topic1\", \"Topic1\", \"Topic1\", \"Topic1\", \"Topic1\", \"Topic1\", \"Topic1\", \"Topic1\", \"Topic1\", \"Topic2\", \"Topic2\", \"Topic2\", \"Topic2\", \"Topic2\", \"Topic2\", \"Topic2\", \"Topic2\", \"Topic2\", \"Topic2\", \"Topic2\", \"Topic2\", \"Topic2\", \"Topic2\", \"Topic2\", \"Topic2\", \"Topic2\", \"Topic2\", \"Topic2\", \"Topic2\", \"Topic2\", \"Topic2\", \"Topic2\", \"Topic2\", \"Topic2\", \"Topic2\", \"Topic2\", \"Topic2\", \"Topic2\", \"Topic2\", \"Topic2\", \"Topic2\", \"Topic2\", \"Topic2\", \"Topic2\", \"Topic2\", \"Topic2\", \"Topic2\", \"Topic2\", \"Topic2\", \"Topic2\", \"Topic2\", \"Topic2\", \"Topic2\", \"Topic2\", \"Topic2\", \"Topic2\", \"Topic2\", \"Topic2\", \"Topic2\", \"Topic2\", \"Topic2\", \"Topic2\", \"Topic2\", \"Topic2\", \"Topic2\", \"Topic2\", \"Topic2\", \"Topic2\", \"Topic2\", \"Topic2\", \"Topic2\", \"Topic2\", \"Topic2\", \"Topic2\", \"Topic2\", \"Topic2\", \"Topic2\", \"Topic2\", \"Topic2\", \"Topic2\", \"Topic2\", \"Topic2\", \"Topic2\", \"Topic2\", \"Topic3\", \"Topic3\", \"Topic3\", \"Topic3\", \"Topic3\", \"Topic3\", \"Topic3\", \"Topic3\", \"Topic3\", \"Topic3\", \"Topic3\", \"Topic3\", \"Topic3\", \"Topic3\", \"Topic3\", \"Topic3\", \"Topic3\", \"Topic3\", \"Topic3\", \"Topic3\", \"Topic3\", \"Topic3\", \"Topic3\", \"Topic3\", \"Topic3\", \"Topic3\", \"Topic3\", \"Topic3\", \"Topic3\", \"Topic3\", \"Topic3\", \"Topic3\", \"Topic3\", \"Topic3\", \"Topic3\", \"Topic3\", \"Topic3\", \"Topic3\", \"Topic3\", \"Topic3\", \"Topic3\", \"Topic3\", \"Topic3\", \"Topic3\", \"Topic3\", \"Topic3\", \"Topic3\", \"Topic3\", \"Topic3\", \"Topic3\", \"Topic3\", \"Topic3\", \"Topic3\", \"Topic3\", \"Topic3\", \"Topic3\", \"Topic3\", \"Topic3\", \"Topic3\", \"Topic3\", \"Topic3\", \"Topic3\", \"Topic3\", \"Topic3\", \"Topic3\", \"Topic3\", \"Topic3\", \"Topic3\", \"Topic3\", \"Topic3\", \"Topic3\", \"Topic4\", \"Topic4\", \"Topic4\", \"Topic4\", \"Topic4\", \"Topic4\", \"Topic4\", \"Topic4\", \"Topic4\", \"Topic4\", \"Topic4\", \"Topic4\", \"Topic4\", \"Topic4\", \"Topic4\", \"Topic4\", \"Topic4\", \"Topic4\", \"Topic4\", \"Topic4\", \"Topic4\", \"Topic4\", \"Topic4\", \"Topic4\", \"Topic4\", \"Topic4\", \"Topic4\", \"Topic4\", \"Topic4\", \"Topic4\", \"Topic4\", \"Topic4\", \"Topic4\", \"Topic4\", \"Topic4\", \"Topic4\", \"Topic4\", \"Topic4\", \"Topic4\", \"Topic4\", \"Topic4\", \"Topic4\", \"Topic4\", \"Topic4\", \"Topic4\", \"Topic4\", \"Topic4\", \"Topic4\", \"Topic4\", \"Topic4\", \"Topic4\", \"Topic5\", \"Topic5\", \"Topic5\", \"Topic5\", \"Topic5\", \"Topic5\", \"Topic5\", \"Topic5\", \"Topic5\", \"Topic5\", \"Topic5\", \"Topic5\", \"Topic5\", \"Topic5\", \"Topic5\", \"Topic5\", \"Topic5\", \"Topic5\", \"Topic5\", \"Topic5\", \"Topic5\", \"Topic5\", \"Topic5\", \"Topic5\", \"Topic5\", \"Topic5\", \"Topic5\", \"Topic5\", \"Topic5\", \"Topic5\", \"Topic5\", \"Topic5\", \"Topic5\", \"Topic5\", \"Topic5\", \"Topic5\", \"Topic5\", \"Topic5\", \"Topic5\", \"Topic5\", \"Topic5\", \"Topic5\", \"Topic5\", \"Topic5\", \"Topic5\", \"Topic5\", \"Topic5\", \"Topic5\", \"Topic5\", \"Topic5\", \"Topic5\", \"Topic5\", \"Topic5\", \"Topic5\", \"Topic5\", \"Topic6\", \"Topic6\", \"Topic6\", \"Topic6\", \"Topic6\", \"Topic6\", \"Topic6\", \"Topic6\", \"Topic6\", \"Topic6\", \"Topic6\", \"Topic6\", \"Topic6\", \"Topic6\", \"Topic6\", \"Topic6\", \"Topic6\", \"Topic6\", \"Topic6\", \"Topic6\", \"Topic6\", \"Topic6\", \"Topic6\", \"Topic6\", \"Topic6\", \"Topic6\", \"Topic6\", \"Topic6\", \"Topic6\", \"Topic6\", \"Topic7\", \"Topic7\", \"Topic7\", \"Topic7\", \"Topic7\", \"Topic7\", \"Topic7\", \"Topic7\", \"Topic7\", \"Topic7\", \"Topic7\", \"Topic7\", \"Topic7\", \"Topic7\", \"Topic7\", \"Topic7\", \"Topic7\", \"Topic7\", \"Topic7\", \"Topic7\", \"Topic7\", \"Topic7\", \"Topic7\", \"Topic7\", \"Topic7\", \"Topic7\", \"Topic7\", \"Topic7\", \"Topic7\", \"Topic7\", \"Topic7\", \"Topic7\", \"Topic7\", \"Topic7\", \"Topic7\", \"Topic7\", \"Topic7\", \"Topic7\", \"Topic7\", \"Topic7\", \"Topic7\", \"Topic7\", \"Topic7\", \"Topic7\", \"Topic7\", \"Topic7\", \"Topic8\", \"Topic8\", \"Topic8\", \"Topic8\", \"Topic8\", \"Topic8\", \"Topic8\", \"Topic8\", \"Topic8\", \"Topic8\", \"Topic8\", \"Topic8\", \"Topic8\", \"Topic8\", \"Topic8\", \"Topic8\", \"Topic8\", \"Topic8\", \"Topic8\", \"Topic8\", \"Topic8\", \"Topic8\", \"Topic8\", \"Topic8\", \"Topic8\", \"Topic8\", \"Topic8\", \"Topic8\", \"Topic8\", \"Topic8\", \"Topic8\", \"Topic8\", \"Topic8\", \"Topic8\", \"Topic8\", \"Topic8\", \"Topic8\", \"Topic8\", \"Topic8\", \"Topic8\", \"Topic8\", \"Topic8\", \"Topic8\", \"Topic8\", \"Topic8\", \"Topic8\", \"Topic8\", \"Topic8\", \"Topic8\", \"Topic9\", \"Topic9\", \"Topic9\", \"Topic9\", \"Topic9\", \"Topic9\", \"Topic9\", \"Topic9\", \"Topic9\", \"Topic9\", \"Topic9\", \"Topic9\", \"Topic9\", \"Topic9\", \"Topic9\", \"Topic9\", \"Topic9\", \"Topic9\", \"Topic9\", \"Topic9\", \"Topic9\", \"Topic9\", \"Topic9\", \"Topic9\", \"Topic9\", \"Topic9\", \"Topic9\", \"Topic9\", \"Topic9\", \"Topic9\", \"Topic9\", \"Topic9\", \"Topic9\", \"Topic9\", \"Topic9\", \"Topic9\", \"Topic9\", \"Topic9\", \"Topic9\", \"Topic9\", \"Topic9\", \"Topic9\", \"Topic9\", \"Topic9\", \"Topic9\", \"Topic9\", \"Topic10\", \"Topic10\", \"Topic10\", \"Topic10\", \"Topic10\", \"Topic10\", \"Topic10\", \"Topic10\", \"Topic10\", \"Topic10\", \"Topic10\", \"Topic10\", \"Topic10\", \"Topic10\", \"Topic10\", \"Topic10\", \"Topic10\", \"Topic10\", \"Topic10\", \"Topic10\", \"Topic10\", \"Topic10\", \"Topic10\", \"Topic10\", \"Topic10\", \"Topic10\", \"Topic10\", \"Topic10\", \"Topic10\", \"Topic10\", \"Topic10\", \"Topic10\", \"Topic10\", \"Topic10\", \"Topic10\", \"Topic10\", \"Topic10\", \"Topic10\", \"Topic10\", \"Topic10\", \"Topic10\", \"Topic10\", \"Topic10\", \"Topic10\", \"Topic10\", \"Topic10\", \"Topic10\", \"Topic11\", \"Topic11\", \"Topic11\", \"Topic11\", \"Topic11\", \"Topic11\", \"Topic11\", \"Topic11\", \"Topic11\", \"Topic11\", \"Topic11\", \"Topic11\", \"Topic11\", \"Topic11\", \"Topic11\", \"Topic11\", \"Topic11\", \"Topic11\", \"Topic11\", \"Topic11\", \"Topic11\", \"Topic11\", \"Topic11\", \"Topic11\", \"Topic11\", \"Topic11\", \"Topic11\", \"Topic11\", \"Topic11\", \"Topic11\", \"Topic11\", \"Topic11\", \"Topic11\", \"Topic11\", \"Topic11\", \"Topic11\", \"Topic11\", \"Topic11\", \"Topic11\", \"Topic11\", \"Topic11\", \"Topic11\", \"Topic11\", \"Topic11\", \"Topic11\", \"Topic11\", \"Topic11\", \"Topic11\", \"Topic11\", \"Topic11\", \"Topic11\", \"Topic11\", \"Topic12\", \"Topic12\", \"Topic12\", \"Topic12\", \"Topic12\", \"Topic12\", \"Topic12\", \"Topic12\", \"Topic12\", \"Topic12\", \"Topic12\", \"Topic12\", \"Topic12\", \"Topic12\", \"Topic12\", \"Topic12\", \"Topic12\", \"Topic12\", \"Topic12\", \"Topic12\", \"Topic12\", \"Topic12\", \"Topic12\", \"Topic12\", \"Topic12\", \"Topic12\", \"Topic12\", \"Topic12\", \"Topic12\", \"Topic12\", \"Topic12\", \"Topic12\", \"Topic12\", \"Topic12\", \"Topic12\", \"Topic12\", \"Topic12\", \"Topic12\", \"Topic12\", \"Topic12\", \"Topic12\", \"Topic12\", \"Topic12\", \"Topic12\", \"Topic12\", \"Topic12\", \"Topic12\", \"Topic13\", \"Topic13\", \"Topic13\", \"Topic13\", \"Topic13\", \"Topic13\", \"Topic13\", \"Topic13\", \"Topic13\", \"Topic13\", \"Topic13\", \"Topic13\", \"Topic13\", \"Topic13\", \"Topic13\", \"Topic13\", \"Topic13\", \"Topic13\", \"Topic13\", \"Topic13\", \"Topic13\", \"Topic13\", \"Topic13\", \"Topic13\", \"Topic13\", \"Topic13\", \"Topic13\", \"Topic13\", \"Topic13\", \"Topic13\", \"Topic13\", \"Topic13\", \"Topic13\", \"Topic13\", \"Topic13\", \"Topic13\", \"Topic13\", \"Topic13\", \"Topic13\", \"Topic13\", \"Topic13\", \"Topic13\", \"Topic13\", \"Topic13\", \"Topic13\", \"Topic13\", \"Topic13\", \"Topic13\", \"Topic13\", \"Topic14\", \"Topic14\", \"Topic14\", \"Topic14\", \"Topic14\", \"Topic14\", \"Topic14\", \"Topic14\", \"Topic14\", \"Topic14\", \"Topic14\", \"Topic14\", \"Topic14\", \"Topic14\", \"Topic14\", \"Topic14\", \"Topic14\", \"Topic14\", \"Topic14\", \"Topic14\", \"Topic14\", \"Topic14\", \"Topic14\", \"Topic14\", \"Topic14\", \"Topic14\", \"Topic14\", \"Topic14\", \"Topic14\", \"Topic14\", \"Topic14\", \"Topic14\", \"Topic14\", \"Topic14\", \"Topic14\", \"Topic14\", \"Topic14\", \"Topic14\", \"Topic14\", \"Topic14\", \"Topic14\", \"Topic14\", \"Topic15\", \"Topic15\", \"Topic15\", \"Topic15\", \"Topic15\", \"Topic15\", \"Topic15\", \"Topic15\", \"Topic15\", \"Topic15\", \"Topic15\", \"Topic15\", \"Topic15\", \"Topic15\", \"Topic15\", \"Topic15\", \"Topic15\", \"Topic15\", \"Topic15\", \"Topic15\", \"Topic15\", \"Topic15\", \"Topic15\", \"Topic15\", \"Topic15\", \"Topic15\", \"Topic15\", \"Topic15\", \"Topic15\", \"Topic15\", \"Topic15\", \"Topic15\", \"Topic15\", \"Topic15\", \"Topic15\", \"Topic15\", \"Topic15\", \"Topic15\", \"Topic15\", \"Topic15\", \"Topic15\", \"Topic15\", \"Topic16\", \"Topic16\", \"Topic16\", \"Topic16\", \"Topic16\", \"Topic16\", \"Topic16\", \"Topic16\", \"Topic16\", \"Topic16\", \"Topic16\", \"Topic16\", \"Topic16\", \"Topic16\", \"Topic16\", \"Topic16\", \"Topic16\", \"Topic16\", \"Topic16\", \"Topic16\", \"Topic16\", \"Topic16\", \"Topic16\", \"Topic16\", \"Topic16\", \"Topic16\", \"Topic16\", \"Topic16\", \"Topic16\", \"Topic16\", \"Topic16\", \"Topic16\", \"Topic16\", \"Topic16\", \"Topic16\", \"Topic16\", \"Topic16\", \"Topic16\", \"Topic16\", \"Topic16\", \"Topic16\", \"Topic16\", \"Topic16\", \"Topic16\", \"Topic16\", \"Topic17\", \"Topic17\", \"Topic17\", \"Topic17\", \"Topic17\", \"Topic17\", \"Topic17\", \"Topic17\", \"Topic17\", \"Topic17\", \"Topic17\", \"Topic17\", \"Topic17\", \"Topic17\", \"Topic17\", \"Topic17\", \"Topic17\", \"Topic17\", \"Topic17\", \"Topic17\", \"Topic17\", \"Topic17\", \"Topic17\", \"Topic17\", \"Topic17\", \"Topic17\", \"Topic17\", \"Topic17\", \"Topic17\", \"Topic17\", \"Topic17\", \"Topic17\", \"Topic17\", \"Topic17\", \"Topic17\", \"Topic17\", \"Topic17\", \"Topic17\", \"Topic18\", \"Topic18\", \"Topic18\", \"Topic18\", \"Topic18\", \"Topic18\", \"Topic18\", \"Topic18\", \"Topic18\", \"Topic18\", \"Topic18\", \"Topic18\", \"Topic18\", \"Topic18\", \"Topic18\", \"Topic18\", \"Topic18\", \"Topic18\", \"Topic18\", \"Topic18\", \"Topic18\", \"Topic18\", \"Topic18\", \"Topic18\", \"Topic18\", \"Topic18\", \"Topic18\", \"Topic18\", \"Topic18\", \"Topic18\", \"Topic18\", \"Topic18\", \"Topic18\", \"Topic18\", \"Topic18\", \"Topic18\", \"Topic18\", \"Topic18\", \"Topic18\", \"Topic18\", \"Topic18\", \"Topic18\", \"Topic18\", \"Topic19\", \"Topic19\", \"Topic19\", \"Topic19\", \"Topic19\", \"Topic19\", \"Topic19\", \"Topic19\", \"Topic19\", \"Topic19\", \"Topic19\", \"Topic19\", \"Topic19\", \"Topic19\", \"Topic19\", \"Topic19\", \"Topic19\", \"Topic19\", \"Topic19\", \"Topic19\", \"Topic19\", \"Topic19\", \"Topic19\", \"Topic19\", \"Topic19\", \"Topic19\", \"Topic19\", \"Topic19\", \"Topic19\", \"Topic19\", \"Topic19\", \"Topic19\", \"Topic19\", \"Topic20\", \"Topic20\", \"Topic20\", \"Topic20\", \"Topic20\", \"Topic20\", \"Topic20\", \"Topic20\", \"Topic20\", \"Topic20\", \"Topic20\", \"Topic20\", \"Topic20\", \"Topic20\", \"Topic20\", \"Topic20\", \"Topic20\", \"Topic20\", \"Topic20\", \"Topic20\", \"Topic20\", \"Topic20\", \"Topic20\", \"Topic20\", \"Topic20\", \"Topic20\", \"Topic20\", \"Topic20\", \"Topic20\", \"Topic20\", \"Topic20\", \"Topic20\", \"Topic20\", \"Topic20\", \"Topic20\", \"Topic20\", \"Topic20\", \"Topic20\", \"Topic20\", \"Topic20\", \"Topic20\", \"Topic20\"], \"Freq\": [57084.0, 12491.0, 16290.0, 11142.0, 3844.0, 10452.0, 9655.0, 7586.0, 8046.0, 11782.0, 6905.0, 5803.0, 4407.0, 4083.0, 6852.0, 5027.0, 1863.0, 2294.0, 3735.0, 7291.0, 3461.0, 4598.0, 1540.0, 1949.0, 3005.0, 1685.0, 1746.0, 1464.0, 3380.0, 2012.0, 4406.673837909836, 2749.917396965103, 1502.6924846719953, 1198.577257799368, 707.7812213894257, 632.7947982002356, 606.7822279191327, 589.2913091661851, 514.6214490670826, 414.52384627962215, 404.46173203962775, 400.43590451628455, 11115.089551611662, 392.8343044888325, 380.1627858832523, 618.2695468782354, 335.0458679001656, 330.5461104876651, 316.15983957065606, 316.1479173814609, 315.2895197594088, 307.7675636147644, 306.0256738394387, 293.7808232476896, 268.8132587673457, 265.7642884696945, 263.7503532416852, 253.17431946770117, 252.90315826945917, 251.0798408566764, 12243.197218892523, 4020.8293513410085, 4635.23153519014, 2448.94962804, 6735.424869230128, 590.0006031944664, 8023.990689108493, 634.6649658526562, 557.0679796196464, 616.3588254876317, 771.072556317273, 3291.5970319446965, 783.2297132616428, 3747.6569316173745, 1599.8655835973407, 2091.4949535896462, 5044.982602875539, 1906.950685732396, 3703.7805921243, 3133.2501130553087, 1570.6677458684526, 1464.371458462414, 3959.553079827872, 1216.2961312490497, 1604.944619143677, 1442.9542060565677, 1368.8411213403392, 977.6166477997116, 1363.217750956376, 2120.001853192799, 1597.2905126973144, 1224.2238077247196, 1355.7115894255503, 1424.9107807352916, 1247.1458782409493, 1073.5418245238689, 683.2950194076767, 567.0552015982073, 519.3047406447818, 483.42527204262, 439.37228128846624, 408.7589932163193, 399.6934503409645, 397.98803590513194, 388.46570753792247, 377.699494713761, 380.0810271320309, 354.93624623843084, 339.31013531240586, 315.9387636415938, 303.7225669873253, 301.82331453336246, 297.489768678902, 294.4960259468086, 290.085024912588, 279.60696822213185, 275.9816085094043, 275.4177005032541, 267.75086670063, 255.535956202483, 255.20072675473156, 251.00725759252362, 247.00282479892576, 246.03512093312577, 244.96483897132615, 466.81668074602163, 745.9845552682809, 609.4355320257555, 412.92605330616624, 1426.7238395563454, 403.4326491610665, 1177.8247347531596, 633.1038914356403, 642.4430997523986, 546.928001546964, 1029.284106296423, 907.747554603742, 778.1255395815193, 852.9019133718185, 1183.869897174083, 1572.56662693267, 1293.3090930381202, 1450.4044317400078, 984.8374088628613, 1626.0899281842312, 930.3988789152563, 1044.2733698735865, 2616.1965757705516, 1679.3318756389074, 1042.7968626461297, 1765.0989393684367, 754.7589409789803, 1695.5933476889425, 1077.895548738813, 1094.3806404665024, 724.8766754650343, 2088.128996238917, 966.712553824029, 1701.5026920234377, 1769.0264600259702, 1007.5843088648251, 1424.0512642984086, 2337.290476890884, 1223.6021750537438, 1047.317958644349, 1023.6633182330932, 1267.8510902570695, 1323.5737756388523, 1030.6802430569107, 992.929674529223, 985.5547504025375, 759.0767466518477, 679.8902712832928, 621.2708807507786, 562.1717325215674, 491.73033237331384, 456.67989452092263, 325.90248709242934, 315.5686355701259, 312.1739349596648, 312.1025929799927, 311.8408596595605, 311.56425543895097, 278.4270698099265, 264.84687065370076, 264.24778973035086, 262.65887649556623, 260.64407492071234, 242.01269928436525, 226.98870825622717, 224.09052591503846, 216.59152532202677, 210.19228667822475, 208.88047062206658, 193.8704878175762, 193.02732420945574, 188.8963908007128, 175.89462310423897, 173.0437784259536, 171.20104658556406, 1253.0906248789106, 806.2392451398272, 306.36886135232163, 3325.800416166219, 4888.443808682562, 335.26696406100046, 322.2123950836024, 1009.2856397912213, 792.378032527396, 11931.337625641127, 697.2429412102854, 5183.446098853673, 7451.636639014131, 2046.306193077067, 449.6973359170342, 1064.8689566705896, 1479.9852877001304, 2489.0138224989673, 1337.805898272877, 3563.3579799860413, 1744.8606129860307, 2382.0123553445937, 1444.3752055657435, 484.3468619688805, 3011.657333021379, 4342.1543070966045, 1968.8289674725404, 2499.4954244935666, 3360.292359971987, 4372.512633611093, 1920.270630973073, 2428.084430699129, 2629.776779224248, 1768.185085876314, 1548.1064987820432, 2173.184165658878, 1620.5903883137682, 1462.4845112756075, 1476.850841536051, 1321.7429160643937, 1506.741186573136, 2293.286929057389, 862.0226501144518, 823.8847903487679, 682.2408709998572, 671.1806250911778, 657.4928869823601, 595.4830436283306, 593.7006826537172, 576.5742911274251, 528.5453276150031, 497.8740201124145, 496.4311278163633, 457.61132245032286, 426.62419568904187, 393.3222026204226, 382.2853284476224, 378.00196033060905, 368.7722998495849, 359.6212933589107, 355.7536181758913, 339.77403839062623, 334.48721289275574, 329.04023315328135, 320.44494174888337, 313.04628322150046, 310.1297219871018, 309.5831010515191, 298.04674280054815, 286.23515343418387, 271.436332257802, 1951.3011376812835, 1704.16071990421, 764.5499231572768, 557.1465009673409, 467.9901781266271, 579.2380673690076, 757.2994553195675, 1394.304910033546, 1286.8313015919985, 1032.441850677834, 1071.0738028242038, 1316.9501105145357, 706.4951791626544, 583.3741241289842, 577.0395506537491, 777.512211840537, 578.1423726225916, 848.3643002279773, 562.5900327972647, 516.4323354171273, 524.6716822261849, 1948.09187607188, 923.3774914990996, 874.1471909722159, 761.5158090571758, 719.0721974344032, 635.0926087011935, 593.1842192489593, 538.4717273077171, 468.73914260994127, 406.0210190677287, 396.3420667193362, 384.4841365334847, 359.1037486704723, 355.54333235227386, 349.69453842604986, 348.54203864910403, 314.4372826567799, 312.51653942230666, 301.27097428396274, 282.773462779683, 255.3575482854394, 250.29938472898917, 230.37945188958707, 226.3352270309789, 221.11842595608573, 217.9165142786897, 207.9863933366878, 204.6911654719724, 204.2419467298431, 195.5931288214188, 448.046951025144, 1466.2907104148062, 991.5743968257493, 1084.1201872371196, 1216.9421413665636, 1419.3445030267706, 1598.3512403465654, 610.2548903582846, 580.5677809962767, 825.4823506496463, 1152.4652320111388, 777.1670871211115, 669.0183366908743, 891.990591894228, 802.5046751559014, 652.7821276412319, 591.9378200585234, 599.8461874796338, 508.63235105159293, 607.3178082259589, 926.8914740413964, 698.2603996210513, 676.9844435028888, 625.2363107333425, 631.066957352946, 57083.595978829406, 238.1316090535157, 227.25582062432457, 209.4845411028619, 172.66944966188942, 164.61479753634995, 153.5845304273805, 148.92123178926576, 134.43434517409727, 133.55203864486288, 128.19974388878228, 124.61213559709009, 116.84657229552437, 108.8900883531851, 98.87118353639262, 97.91225753947938, 91.44429883562493, 86.70911133354156, 84.86194924032958, 84.43356860572996, 79.10005760886423, 77.2151159356769, 69.8268427486405, 64.73183574090241, 60.78948926443734, 60.76809551696857, 60.60352760134623, 60.573304752987276, 59.6460860352524, 58.14666409580751, 1684.0513115680806, 1576.8608672219232, 713.1690244173452, 640.7692581287856, 542.5038943679098, 506.4187756158886, 489.397189513546, 482.2495138256482, 450.73200533610776, 392.8585623904865, 376.4828632601037, 343.44493050111566, 321.3895547747365, 291.3878586449493, 290.0952062420402, 256.2942691036834, 251.5581515829137, 244.3613606254476, 237.14660831900167, 236.97521469546174, 231.0833588799887, 230.40719644642974, 220.05810246578767, 209.4329684344928, 203.7170083448804, 198.13810354438283, 194.245243906371, 191.13305194812196, 190.43452018386853, 187.38631455093702, 508.71098885459895, 840.2898208209765, 534.0337927920691, 533.9537902769625, 733.8377212554137, 251.340309440309, 552.0853093124181, 608.8953776513648, 417.84347335238914, 431.7352355696239, 346.265348580741, 301.84876790552846, 448.0833573624464, 271.888798577738, 290.2569054431614, 258.33146256041607, 356.170043187167, 349.4728194007202, 320.42131207743216, 314.43377987613405, 310.6731614616416, 310.2110851732866, 303.17936827796746, 296.3736960824866, 289.8772385296846, 258.2860572961077, 255.73000921874475, 254.4668978512332, 248.24219734238196, 231.98741283193837, 228.49654867071322, 220.1935062596065, 217.3288524961915, 214.75699861127285, 198.21241840835808, 192.20044674777427, 191.93674146366567, 187.31412464549717, 182.37314530287958, 173.0946491023542, 169.73334384655607, 147.1765619327763, 145.7818076749374, 145.65832480340814, 144.01774152154724, 142.91281002091847, 429.6118903833833, 296.08164048431183, 285.2108444962397, 515.4631098483723, 280.8854391090189, 638.5355716759824, 496.6145219497092, 330.67148653629056, 550.556278850889, 400.23327862496035, 221.54802878297343, 268.2370310657044, 517.5873670802824, 329.3062057791849, 284.55552597167235, 315.9005263396207, 321.0798242411974, 245.4057585693383, 256.212898291364, 1314.4748648250857, 633.8381066849803, 566.6288863752281, 549.0187353983304, 426.4214731939964, 414.0090690521941, 399.7431231002154, 367.6178030323522, 365.8657600687604, 365.71432055463316, 300.701706134624, 260.70143023767605, 245.60901173037783, 243.90453371431397, 232.8387837165773, 227.66550174290958, 220.1911832933217, 203.74339124403164, 192.41215453465452, 178.6123172674708, 173.37654627533183, 172.5304866666998, 157.96717133501133, 156.93372049181716, 154.94730263933036, 140.66906107259481, 135.99946965246494, 134.87280970912036, 134.33999131178552, 126.975537276068, 1613.6207776335007, 295.20375927469485, 251.82654901858305, 200.72551916410768, 697.2475902938071, 1184.316444022542, 307.24090074864654, 570.0692322398902, 941.8492461907265, 811.333456441294, 267.9189940103583, 280.1081815652494, 249.989435059572, 298.19858181575296, 232.03283333840585, 230.1571771131992, 1505.335734967083, 1181.4590706683434, 546.7882582195928, 495.66203259099274, 447.6965415272549, 430.5589992061612, 388.62127830565487, 353.137489609278, 319.93761395853784, 289.9032888182328, 279.1154724503779, 272.60519859727583, 270.6932927759933, 270.33234256953614, 239.2852437321751, 228.59681766963809, 225.98490433087713, 218.48458509528493, 214.7344131919134, 214.37270127977888, 200.70821742240904, 195.7416015523203, 190.99776002170358, 189.01968409109574, 186.72070892996842, 184.5676372627787, 176.27035274832753, 173.09252894802682, 170.35272276892482, 169.16288935861286, 296.03212012504207, 349.9030415917697, 568.6296033809409, 476.98048829077334, 311.08887910484106, 266.6198873827685, 518.1583463502526, 526.691169917059, 667.2707834507057, 730.8455895352779, 389.8858325857991, 240.0822090110341, 303.1033533527812, 345.6054490178972, 260.89387552351945, 334.34235287853096, 329.2145748298069, 3843.2546277255265, 533.0940229302314, 352.2680826604504, 308.83108717610105, 289.17813248284085, 288.10133019808274, 271.07018128803685, 266.7627059193146, 231.56367993154325, 222.01639282014781, 215.90271842450042, 213.91865376203805, 191.94596717277807, 191.6051568656863, 188.43306641484472, 188.09183256051904, 178.81424822631905, 176.2504321100998, 174.00053710229477, 171.2240518692616, 168.23889096476265, 166.11163103319478, 159.0058880022676, 157.36580420047645, 156.8103764592948, 154.26603141448524, 152.69741818307668, 150.89874619556534, 148.80869791383262, 148.32264720956312, 158.11701967586393, 290.3227749331195, 926.1058247214343, 191.81144857129271, 275.5869131930028, 772.0461576206526, 550.6262161166267, 215.76009191882335, 241.50948868598616, 636.8548663170624, 360.54196896246276, 300.49255546484665, 368.4637301955635, 299.62401740567, 326.4908769920449, 447.80981045328656, 726.0155282948178, 260.29990758944155, 252.70425352374158, 294.0350817287711, 255.99059281558922, 240.30264529907248, 1862.1196623051017, 429.9168620094588, 391.6701127315921, 322.6937330764825, 313.0281621084108, 285.14955827703545, 279.5418921741829, 274.89657654914794, 270.8073505409481, 254.66249399002234, 238.53888231401515, 233.7218911572404, 208.55387031245985, 207.4856744347332, 202.62124456460404, 200.72380749357072, 199.99301054752578, 199.11300903922475, 171.79752814896247, 170.3928919225777, 168.56173083594408, 163.06741160247614, 152.2458452395038, 151.82034584016395, 144.8298011162997, 140.02363303064035, 134.88515987890148, 130.8113157843363, 128.05736248908033, 126.16009261276044, 234.17724038608287, 406.496806161914, 354.7309375758128, 176.96012192469075, 225.34307299627812, 528.3154985533802, 271.02985326556757, 387.71357244796246, 329.27059349408853, 209.71351055211306, 250.97130286290457, 232.5154809830865, 260.27883192534426, 229.3260077519997, 270.4841297209644, 211.60018028360213, 203.82382040666354, 669.4669239878187, 516.6160843834394, 344.10617845444295, 309.4002297122378, 293.549951607727, 223.45730484130294, 260.5203899006767, 218.76328121072933, 218.30282215766755, 212.0108763815227, 179.74141371107163, 173.6995760566158, 172.70556398568726, 166.98997399959225, 163.46857141166018, 161.93098471226241, 159.7275782554754, 158.58595835528283, 148.23218383588284, 145.77734195990405, 145.35427359773487, 142.19472934992461, 140.8213674213956, 137.57632052049846, 135.45824180162356, 135.16978610014456, 126.84594334065498, 114.94447819823132, 113.30711782530967, 112.87539630655252, 205.7192598574716, 142.1270783337939, 342.474919534383, 419.72143232353267, 376.05132781258374, 357.3422360913605, 212.41441597888337, 362.0120185365343, 221.9747649763233, 394.90339725550314, 252.16679098321754, 263.353274915009, 267.75566350357366, 199.06013626206587, 165.86840760973254, 169.63151210183594, 174.21687225235533, 168.33454694817695, 168.23770567611274, 1539.3635739751453, 1463.4693465088867, 837.0425083427517, 685.0989487260857, 567.9797750267714, 499.1641627094079, 454.903537626394, 387.8393242471544, 375.62383558371954, 364.6927909206501, 280.20280625677515, 259.6231098243612, 224.10065027300823, 218.36294609028946, 217.54377512023748, 212.79328907462047, 210.7522738788688, 206.85129467051559, 201.36347680979947, 186.02589617364546, 173.54993747794333, 173.23841540139597, 172.7060096507415, 170.80954619547362, 168.600729965469, 163.65779883931432, 160.36425486252222, 155.6244550825018, 154.930268295584, 154.8972557342064, 290.7201632215378, 766.0203155016216, 751.808361678665, 197.9024599758169, 259.71754277408627, 246.73742206616834, 484.82803489044016, 217.1481781824992, 235.40042237682644, 188.11123578389663, 221.39675843320484, 192.68555228016777, 528.757264023897, 424.0371051974283, 387.89245000474125, 381.4009650424915, 373.0446932993092, 360.5230230640137, 355.8348756330525, 308.6114543224805, 267.1380992124874, 231.66019419745, 227.55636544370563, 224.20541909316228, 217.6014320873066, 216.512162377161, 211.46614622089226, 208.76876513897125, 206.15529584753045, 192.58812773453886, 180.29118618365567, 173.65296316728407, 172.07144537833776, 167.18967256663564, 159.9935006911017, 159.4767417631433, 157.9643156515278, 156.3261853746042, 155.44128175438098, 152.85044713052613, 152.7602871390317, 152.12217885253267, 367.93862212006906, 718.6153410194213, 447.93821255699, 365.45266432480827, 195.49620917077132, 180.98330784421148, 229.23107265494116, 238.37688979901122, 263.3615350479534, 251.7279872031006, 231.0792836298773, 188.60568276468504, 514.0309530316621, 508.66136471266657, 374.2141166847294, 305.16224796451985, 297.9141732705373, 282.61074285519265, 280.0211190844122, 259.06994434723924, 231.03486981967146, 227.79811931521556, 224.4067667878476, 210.53756131013324, 197.43659546144266, 176.25099683132365, 175.81377146126346, 155.4973584868932, 144.98909568560043, 144.13927915841882, 126.04805836490674, 120.67097128938192, 120.2970067057868, 113.74005410958488, 112.22096558476478, 111.91015808142741, 111.7302916309321, 108.62248782917752, 106.82377545982105, 106.14276072855375, 103.23107334224144, 103.09288083228756, 251.94631710204035, 598.1311987164141, 195.98754851356622, 347.82474798371857, 184.94704950150725, 222.71606842211494, 230.82686707739023, 161.9582392481142, 420.45725699185635, 197.47945005726743, 265.23850124222747, 189.23357805565843, 157.44676395288587, 152.03988926365858, 166.6028094943366, 1340.8547815088618, 432.0269924989881, 380.59288767852934, 377.1342213558802, 355.1979986854193, 330.7070580261218, 217.34957506871677, 215.4999317881329, 210.6921603301846, 209.61693544044, 207.52865316941134, 201.7391654906552, 198.88827431533807, 194.37336876362102, 190.33670841626264, 171.63121493768082, 170.88144514492635, 148.6860845866261, 148.0434113925121, 142.75553828515953, 138.01483285453176, 129.7751965242569, 129.13249212938584, 127.20366912754928, 122.98903186167816, 120.01758096104514, 118.3669205086709, 118.08086416767004, 111.4183091044107, 109.09627076141867, 150.7189543130996, 363.0470795390788, 170.97950912439524, 226.03123252439278, 135.36013203966655, 130.99881221462326, 135.93583280873125, 131.21512706338493, 719.9534385301984, 464.336747278655, 405.08274708163015, 363.6702161415775, 360.12428197327046, 299.9904038099443, 291.4739966019503, 280.63291036622775, 213.55111196266645, 190.53575866014273, 190.19364329049947, 184.00368423361124, 154.45476738631763, 145.4339818307197, 144.45891484471744, 144.17584237685153, 140.74479940801507, 128.89340372131474, 128.7214042010261, 123.62095786688982, 121.44097785841257, 120.301738768503, 113.41043047633976, 106.87736330431599, 102.71914698989924, 102.13744267770204, 100.7418779744394, 94.90504358015357, 90.09063522285372, 87.19122019263332, 416.11899689912764, 140.60394409566976, 191.8992691387608, 349.18857945563093, 114.77913377753275, 142.7207702178312, 154.8742914493452, 127.93019877119447, 212.54600806176992, 216.3408286159912, 156.0541567393999, 168.12828378654507, 141.22685370954926, 916.0887500905712, 791.23748085784, 568.9832064149255, 324.86716736659093, 324.07548073617386, 299.44539815732526, 192.64479343892413, 180.66080069732035, 151.02318479141437, 144.95957746564702, 137.81480046442732, 130.7822099658708, 129.9513160696287, 123.31992851573574, 121.87250067966659, 120.22961661554248, 115.43139888776611, 104.50513217183378, 103.2741072568191, 96.74308979900263, 95.37852183430809, 92.30169097855583, 88.63970838979729, 82.76115330549572, 80.73479090658815, 77.7797560538396, 76.34918267604489, 75.31236551069446, 73.33673042821704, 72.95110193620513, 382.83606201137553, 77.97735613367657, 109.83840486082802, 479.4465515603583, 464.24334427131663, 355.93744132415844, 315.3861149884358, 188.45121784507057, 171.78990621071642, 167.18195315682004, 160.84471196139094, 160.5630593368945, 159.07347993364243, 144.8591083337769, 123.24424659504155, 119.37011725944039, 117.62262295694262, 113.02532159295173, 112.21597602176442, 107.55619312481936, 101.31169706199003, 97.98722692629684, 92.96189220357194, 92.55918518049303, 91.10282944951052, 88.57428741295632, 87.89712794203382, 85.06180695023511, 83.13098243553365, 80.99246711095307, 75.6704965389827, 71.41936938249404, 71.19205523402293, 261.73549583933703, 378.35060836321344, 142.24027836776636, 497.67355875115175, 247.96553514287774, 184.92292556584266, 147.24469829164252, 154.62996519987487, 102.32985918496173, 104.81562302911657, 107.79654187880249, 99.07939086486724], \"Term\": [\"ax\", \"line\", \"not\", \"organization\", \"max\", \"do\", \"write\", \"article\", \"be\", \"would\", \"say\", \"go\", \"nntp_post\", \"host\", \"get\", \"university\", \"space\", \"window\", \"s\", \"know\", \"year\", \"use\", \"game\", \"mail\", \"right\", \"christian\", \"government\", \"team\", \"system\", \"card\", \"nntp_post\", \"anyone\", \"car\", \"buy\", \"bike\", \"nice\", \"memory\", \"anybody\", \"display\", \"oil\", \"chicago\", \"door\", \"organization\", \"engine\", \"air\", \"robert\", \"stick\", \"engineering\", \"originator\", \"insurance\", \"dod\", \"advice\", \"battery\", \"limit\", \"internal\", \"auto\", \"motor\", \"hole\", \"texas\", \"wall\", \"line\", \"host\", \"university\", \"reply\", \"article\", \"wonder\", \"write\", \"sound\", \"distribution_usa\", \"like\", \"distribution_world\", \"good\", \"inc\", \"get\", \"thank\", \"look\", \"would\", \"need\", \"be\", \"know\", \"much\", \"have\", \"not\", \"help\", \"want\", \"try\", \"new\", \"lot\", \"work\", \"do\", \"time\", \"problem\", \"may\", \"make\", \"could\", \"president\", \"argument\", \"statement\", \"decision\", \"jew\", \"arab\", \"clearly\", \"attempt\", \"russian\", \"genocide\", \"respect\", \"discuss\", \"context\", \"atheist\", \"punishment\", \"theory\", \"msg\", \"authority\", \"german\", \"party\", \"imply\", \"concept\", \"instance\", \"principle\", \"promise\", \"physical\", \"posting\", \"establish\", \"deity\", \"worship\", \"term\", \"rule\", \"present\", \"sense\", \"claim\", \"concern\", \"exist\", \"discussion\", \"clear\", \"thus\", \"answer\", \"view\", \"yet\", \"example\", \"true\", \"must\", \"reason\", \"fact\", \"rather\", \"mean\", \"issue\", \"however\", \"may\", \"point\", \"consider\", \"question\", \"perhaps\", \"many\", \"part\", \"world\", \"accept\", \"make\", \"word\", \"also\", \"people\", \"follow\", \"give\", \"would\", \"way\", \"read\", \"group\", \"say\", \"write\", \"see\", \"time\", \"mr_stephanopoulo\", \"kid\", \"hell\", \"job\", \"drug\", \"stand\", \"matthew\", \"peace\", \"health\", \"doctor\", \"should\", \"imagine\", \"hate\", \"somewhere\", \"stay\", \"firearm\", \"trial\", \"hurt\", \"neighbor\", \"weekend\", \"stupid\", \"davidian\", \"laugh\", \"coverage\", \"last_night\", \"complain\", \"ohio\", \"statistic\", \"economic\", \"newsletter\", \"happen\", \"face\", \"forget\", \"s\", \"go\", \"boy\", \"smith\", \"that\", \"away\", \"not\", \"money\", \"say\", \"do\", \"tell\", \"tax\", \"talk\", \"start\", \"take\", \"let\", \"think\", \"day\", \"come\", \"never\", \"young\", \"people\", \"be\", \"even\", \"see\", \"know\", \"would\", \"could\", \"time\", \"get\", \"want\", \"well\", \"make\", \"thing\", \"have\", \"year\", \"right\", \"good\", \"window\", \"color\", \"graphic\", \"machine\", \"mode\", \"format\", \"video\", \"mac\", \"peter\", \"screen\", \"hd\", \"ram\", \"pc\", \"font\", \"vlb\", \"mouse\", \"scsi\", \"port\", \"setup\", \"xfree\", \"laptop\", \"tape\", \"meg\", \"client\", \"vesa\", \"controller\", \"modem\", \"vga\", \"ide\", \"gif\", \"card\", \"file\", \"board\", \"monitor\", \"instal\", \"disk\", \"driver\", \"drive\", \"system\", \"run\", \"problem\", \"use\", \"bit\", \"standard\", \"email\", \"work\", \"set\", \"do\", \"support\", \"version\", \"help\", \"mail\", \"internet\", \"advance\", \"server\", \"access\", \"sun\", \"package\", \"newsgroup\", \"library\", \"directory\", \"corporation\", \"mit\", \"pin\", \"illinois\", \"material\", \"motif\", \"moon\", \"upgrade\", \"pub\", \"purchase\", \"genoa\", \"ftp\", \"mailing_list\", \"brave\", \"quick\", \"speaker\", \"terminal\", \"editor\", \"urbana\", \"cpu\", \"site\", \"available\", \"ca\", \"list\", \"send\", \"include\", \"information\", \"fax\", \"network\", \"source\", \"program\", \"image\", \"offer\", \"info\", \"software\", \"service\", \"application\", \"page\", \"user\", \"message\", \"also\", \"call\", \"post\", \"group\", \"new\", \"ax\", \"nyi\", \"stl\", \"buffalo\", \"pool\", \"brian_kendig\", \"sunday\", \"finland\", \"espn\", \"lemieux\", \"qax\", \"chain\", \"harry\", \"canuck\", \"tiger\", \"mormon\", \"winnipeg_jet\", \"cirrus_logic\", \"org\", \"dear\", \"anaheim\", \"pure\", \"discharge\", \"lawrence\", \"final_standing\", \"praise\", \"new_brunswick\", \"sinner\", \"married\", \"penn_state\", \"christian\", \"god\", \"religion\", \"bible\", \"belief\", \"faith\", \"king\", \"church\", \"spank\", \"normal\", \"lord\", \"father\", \"moral\", \"verse\", \"christ\", \"gay\", \"christianity\", \"scripture\", \"marriage\", \"sex\", \"pain\", \"homosexual\", \"sin\", \"zoroastrian\", \"passage\", \"animal\", \"mystery\", \"honor\", \"soul\", \"satan\", \"truth\", \"man\", \"die\", \"love\", \"life\", \"heart\", \"law\", \"believe\", \"child\", \"word\", \"book\", \"human\", \"say\", \"death\", \"come\", \"woman\", \"march\", \"mission\", \"boston\", \"satellite\", \"schedule\", \"pray\", \"case_western\", \"reserve_university\", \"morning\", \"brother\", \"la\", \"gov\", \"hat\", \"medicine\", \"spacecraft\", \"estimate\", \"minnesota\", \"cleveland_ohio\", \"astronomy\", \"km\", \"san_francisco\", \"pitch\", \"morris\", \"frank\", \"mar\", \"hospital\", \"energy\", \"membership\", \"comet\", \"ins_cwru\", \"george\", \"washington\", \"rd\", \"april\", \"san_jose\", \"national\", \"study\", \"student\", \"center\", \"research\", \"mr\", \"medium\", \"year\", \"usa\", \"room\", \"news\", \"day\", \"vote\", \"time\", \"gun\", \"protect\", \"police\", \"criminal\", \"law_enforcement\", \"crime\", \"arrest\", \"policy\", \"weapon\", \"clipper_chip\", \"citizen\", \"discipline\", \"permit\", \"court\", \"federal\", \"constitution\", \"illegal\", \"cop\", \"implement\", \"hunt\", \"ban\", \"senate\", \"handgun\", \"regulation\", \"militia\", \"guard\", \"prohibit\", \"gun_control\", \"amendment\", \"restriction\", \"government\", \"legal\", \"congress\", \"ensure\", \"public\", \"law\", \"private\", \"american\", \"state\", \"right\", \"house\", \"national\", \"carry\", \"case\", \"fire\", \"country\", \"key\", \"chip\", \"encryption\", \"wiretap\", \"hang\", \"apple\", \"clipper\", \"algorithm\", \"spanking\", \"nec\", \"printer\", \"encrypt\", \"hard_drive\", \"secure\", \"crypto\", \"finger\", \"tap\", \"shape\", \"automatically\", \"nsa\", \"compatible\", \"clean\", \"friday\", \"default\", \"ticket\", \"key_escrow\", \"timeout\", \"magic\", \"broadcast\", \"tree\", \"communication\", \"agency\", \"phone\", \"device\", \"security\", \"block\", \"technology\", \"bit\", \"system\", \"use\", \"message\", \"electronic\", \"datum\", \"information\", \"contain\", \"new\", \"need\", \"max\", \"obvious\", \"mile\", \"ride\", \"dealer\", \"count\", \"hall\", \"stat\", \"dog\", \"summer\", \"dollar\", \"brake\", \"screw\", \"jack\", \"bolt\", \"risk\", \"jeff\", \"rough\", \"tm\", \"yesterday\", \"misc\", \"shipping\", \"damn\", \"chris\", \"seat\", \"mid\", \"rid\", \"cold\", \"rating\", \"capital\", \"alan\", \"average\", \"cost\", \"master\", \"distribution_na\", \"price\", \"sell\", \"magazine\", \"richard\", \"sale\", \"total\", \"pull\", \"canada\", \"mike\", \"pick\", \"pay\", \"year\", \"extra\", \"trade\", \"road\", \"new_york\", \"hit\", \"space\", \"launch\", \"switch\", \"radio\", \"mon\", \"orbit\", \"van\", \"nasa\", \"flight\", \"min\", \"station\", \"volt\", \"doc\", \"audio\", \"signal\", \"aerospace\", \"mount\", \"panel\", \"amp\", \"ott\", \"expand\", \"slap\", \"cylinder\", \"metal\", \"battery_charger\", \"frequency\", \"channel\", \"monthly\", \"conductor\", \"fuel\", \"rocket\", \"ground\", \"project\", \"scale\", \"fly\", \"power\", \"unit\", \"build\", \"high\", \"mass\", \"level\", \"earth\", \"low\", \"design\", \"system\", \"large\", \"model\", \"israel\", \"israeli\", \"international\", \"soldier\", \"chief\", \"civilian\", \"border\", \"privacy\", \"lebanon\", \"terrorist\", \"massacre\", \"anger\", \"movement\", \"tomorrow\", \"february\", \"plane\", \"million\", \"pm\", \"rat\", \"heavy\", \"soviet\", \"emergency\", \"captain\", \"lunar\", \"ref\", \"edward\", \"train\", \"bomb\", \"secretary\", \"territory\", \"army\", \"nt\", \"committee\", \"attack\", \"military\", \"land\", \"enjoy\", \"hour\", \"population\", \"kill\", \"jewish\", \"report\", \"center\", \"area\", \"equal\", \"fight\", \"standard\", \"department\", \"control\", \"game\", \"team\", \"player\", \"hockey\", \"season\", \"contact\", \"nhl\", \"goal\", \"fan\", \"score\", \"ice\", \"canadian\", \"vancouver\", \"gd\", \"devil\", \"pit\", \"playoff\", \"detroit\", \"nyr\", \"coach\", \"bos\", \"defenseman\", \"hockey_league\", \"tor\", \"excellent\", \"draft\", \"tampa_bay\", \"det\", \"ahl\", \"phi\", \"hawk\", \"play\", \"win\", \"wing\", \"final\", \"division\", \"year\", \"period\", \"first\", \"pittsburgh\", \"good\", \"second\", \"computer_science\", \"homeopathy\", \"review\", \"development\", \"object\", \"gordon_bank\", \"ibm\", \"medical\", \"search\", \"reader\", \"useful\", \"disease\", \"patient\", \"professional\", \"resource\", \"homeopathic\", \"demonstrate\", \"success\", \"gps\", \"treatment\", \"announcement\", \"logical\", \"tel\", \"edition\", \"comparison\", \"painful\", \"thinking\", \"background\", \"fox\", \"installation\", \"univ\", \"science\", \"prove\", \"text\", \"description\", \"scientific\", \"develop\", \"soon\", \"reference\", \"david\", \"research\", \"pittsburgh\", \"rise\", \"paul\", \"edge\", \"water\", \"teach\", \"mother\", \"girl\", \"mhz\", \"wave\", \"reserve\", \"button\", \"probe\", \"widget\", \"cool\", \"miller\", \"frame\", \"seal\", \"lamp\", \"darren\", \"slave\", \"heat\", \"pop\", \"ken\", \"seize\", \"wind\", \"window_manager\", \"france\", \"bottle\", \"ltd\", \"tonight\", \"table\", \"light\", \"pressure\", \"building\", \"relative\", \"ago\", \"foot\", \"shell\", \"fire\", \"eye\", \"wait\", \"blood\", \"supply\", \"catch\", \"food\", \"armenian\", \"league\", \"turk\", \"turkish\", \"baseball\", \"serdar_argic\", \"cal\", \"hug\", \"sumgait\", \"chi\", \"turkey\", \"azerbaijani\", \"apartment\", \"suck\", \"ranger\", \"ham\", \"armenia\", \"xterm\", \"czar\", \"crowd\", \"mutlu\", \"logo\", \"darin\", \"interview\", \"plate\", \"penguin\", \"gold\", \"hill\", \"hitter\", \"bounce\", \"vay\", \"greek\", \"yalanci\", \"road\", \"burn\", \"today\", \"year\", \"first\", \"wire\", \"circuit\", \"connect\", \"wiring\", \"voice\", \"outlet\", \"neutral\", \"conference\", \"usenet\", \"lock\", \"computing\", \"timer\", \"gfci\", \"voltage\", \"mont_pierce\", \"annual\", \"div\", \"construction\", \"helmet\", \"familiar\", \"breaker\", \"gene\", \"postscript\", \"legend\", \"firm\", \"civil\", \"kurt\", \"cell\", \"portion\", \"ought\", \"faq\", \"multi\", \"depend\", \"cover\", \"pipe\", \"analysis\", \"art\", \"guide\", \"cable\", \"current\", \"house\", \"email\", \"copy\", \"_\", \"blue\", \"tank\", \"eg\", \"gas\", \"hi\", \"henry_spencer\", \"cigarette\", \"xlib\", \"fd\", \"mf\", \"xga\", \"toronto_zoology\", \"henry\", \"dress\", \"bay\", \"bitmap\", \"ontario\", \"fp\", \"shk\", \"gr\", \"gq\", \"mg\", \"cc\", \"eeg\", \"interactive\", \"lens\", \"ep\", \"nc\", \"lately\", \"cubs_suck\", \"csa\", \"band\", \"bus\", \"specifically\", \"associate\", \"motorcycle\", \"confuse\", \"entry\", \"detect\", \"brand\", \"ease\", \"string\", \"bag\", \"vesa_local\", \"guru\", \"countersteer\", \"bradley\", \"lane\", \"forum\", \"int\", \"scoop\", \"vram\", \"enjoyment\", \"nick\", \"libxmu\", \"callback\", \"ati\", \"safely\", \"detector\", \"drawing\", \"ms_window\", \"steer\", \"properly\", \"function\", \"shift\", \"value\", \"code\", \"error\", \"return\", \"set\", \"compile\", \"character\", \"size\", \"build\"], \"Total\": [57084.0, 12491.0, 16290.0, 11142.0, 3844.0, 10452.0, 9655.0, 7586.0, 8046.0, 11782.0, 6905.0, 5803.0, 4407.0, 4083.0, 6852.0, 5027.0, 1863.0, 2294.0, 3735.0, 7291.0, 3461.0, 4598.0, 1540.0, 1949.0, 3005.0, 1685.0, 1746.0, 1464.0, 3380.0, 2012.0, 4407.638255920434, 2750.8817491590303, 1503.6568368659227, 1199.541620631295, 708.7455735833529, 633.7591504048246, 607.7465801130598, 590.2556613601123, 515.5858013595324, 415.48819847650384, 405.426084266625, 401.4002567301126, 11142.19045940855, 393.79865668275977, 381.12713819199996, 619.9043725249059, 336.0102201075782, 331.51047043834933, 317.1241917645833, 317.11226960997743, 316.25387195333604, 308.73191580869167, 306.99002603726115, 294.745175453786, 269.77761096127296, 266.7286406674305, 264.714705473598, 254.13867166723952, 253.86751046338642, 252.04419305760618, 12491.68212836884, 4083.590922340275, 5027.702430227756, 2618.182097050809, 7586.45194839791, 609.2191788538499, 9655.16261346204, 694.2469027000063, 601.8141094426823, 688.5275519934345, 893.9993393379689, 5445.810458882939, 962.0588127049522, 6852.186524303903, 2391.4473925908037, 3432.9015449840053, 11782.530246347054, 3265.7498186437365, 8046.853373923312, 7291.501489062405, 2826.4161586020937, 2927.7744443950724, 16290.696212809833, 2186.3486420706204, 3643.823604398609, 3089.1592044936842, 3138.607182498609, 1592.4764843194052, 3595.256856002957, 10452.681152312523, 5376.432626207493, 3018.1198698769977, 4473.055009782771, 5703.625300457895, 3675.8402650972125, 1074.5059975673091, 684.2591924477736, 568.0193746383042, 520.2689136933811, 484.3894450827169, 440.33645433358714, 409.7231662564162, 400.6576233866419, 398.95220895488444, 389.42988059446947, 378.6636677576877, 381.05298006974414, 355.90041927852775, 340.27430835633254, 316.90293673046324, 304.6867400274222, 302.7874875776617, 298.4539417189989, 295.460198993218, 291.0491979526849, 280.57114126605853, 276.94578155280504, 276.38187355052384, 268.715039762112, 256.5001292425799, 256.1648998020013, 251.97143063262052, 247.96699784519296, 246.99929401562477, 245.92901201525282, 470.89616652329335, 759.6493232955246, 621.7361358498417, 419.18599796946955, 1527.5580839022164, 411.21816861807815, 1255.8215247332982, 660.3667457233796, 671.2544742853838, 575.286791159456, 1154.2991499255024, 1014.7537033589633, 859.7956259621212, 955.3204393254748, 1388.2289836200644, 1940.9525732979025, 1563.0306047002737, 1817.089633702359, 1227.7863050807566, 2297.245741778022, 1170.5116907168958, 1373.7730196700406, 4473.055009782771, 2576.401094977768, 1392.418111253538, 2791.8578168269705, 915.8630705711902, 2778.513883848228, 1595.8898657305165, 1691.2280997519001, 894.9888435249303, 5703.625300457895, 1524.7873208077149, 4560.792929828437, 5048.562648182335, 1666.2551405259067, 3510.9981230386784, 11782.530246347054, 3135.7328576099985, 2068.8630701687166, 1935.6722334444494, 6905.328363205236, 9655.16261346204, 4432.408492110572, 5376.432626207493, 986.5220999896162, 760.0440959001237, 680.857620524543, 622.238229988199, 563.1390817589878, 492.6976816107342, 457.6472437727954, 326.86983633836263, 316.5359848192547, 313.1412842012875, 313.06994221991687, 312.8082089029797, 312.53160470227283, 279.3944190565454, 265.8142198911211, 265.2151389739415, 263.6262257329866, 261.6114241657712, 242.98004853061838, 227.95605753370953, 225.0578751524589, 217.55887463438896, 211.1596359156452, 209.84781992983588, 194.837837070684, 193.99467345480062, 189.8637400918049, 176.8619723691475, 174.01112766337405, 172.16839598618506, 1264.4830533764039, 819.3047995220078, 309.600871264601, 3735.2207814065014, 5803.189161026336, 346.136877548124, 332.6371320041182, 1125.3146806195664, 868.2221287856386, 16290.696212809833, 767.0863492108433, 6905.328363205236, 10452.681152312523, 2542.4584811022273, 480.4026167129024, 1271.9967562671886, 1876.0983623807413, 3422.8077371473846, 1690.199118771086, 5249.133652932045, 2351.6870752187447, 3406.8539004713075, 1960.802379036241, 528.7898961271408, 5048.562648182335, 8046.853373923312, 3147.0355813928973, 4432.408492110572, 7291.501489062405, 11782.530246347054, 3675.8402650972125, 5376.432626207493, 6852.186524303903, 3643.823604398609, 2987.3365025321064, 5703.625300457895, 3311.382303793396, 2927.7744443950724, 3461.219406319717, 3005.9880388639376, 5445.810458882939, 2294.247187881646, 862.9829089387086, 824.8450491730247, 683.201129824114, 672.1408839154346, 658.4531458066169, 596.4433024585862, 594.660941477974, 577.5345500066753, 529.5055864392599, 498.8342789463502, 497.3913866406202, 458.5715812745798, 427.5844545132988, 394.28246144467954, 383.24558727187934, 378.962219154866, 369.7325586738418, 360.5815521831676, 356.7138772236327, 340.7342972837544, 335.44747172012, 330.0004919775383, 321.4052005731403, 314.00654205384166, 311.0899808113587, 310.54335987577605, 299.00700162480507, 287.1954122584408, 272.3965910931653, 2012.4519714210314, 1797.4633030637526, 794.3209033100578, 574.0038492721357, 485.7432201793113, 618.8221439107436, 934.6233053834289, 2058.9607907130003, 3380.5600624203475, 2460.278876685664, 3018.1198698769977, 4598.187763324458, 1643.2236376586345, 1142.206447852485, 1145.7959926297985, 3595.256856002957, 1435.2494674142781, 10452.681152312523, 1650.1774878694223, 1044.4385376948435, 2186.3486420706204, 1949.048864555098, 924.3344801743999, 875.1041794675224, 762.4727975403932, 720.0291859331328, 636.0495972036679, 594.1412077390087, 539.4287158169928, 469.69613109696746, 406.97800755094613, 397.29905522695776, 385.44112501670213, 360.0607371596886, 356.50032084547036, 350.65152692586366, 349.4990271323215, 315.39427114330124, 313.4735279055241, 302.2279627671802, 283.7304512690707, 256.3145372711068, 251.25637321220668, 231.33644037781218, 227.2922155401448, 222.0754144589821, 218.87350276190722, 208.9433818199053, 205.6481539551899, 205.1989352168693, 196.5501173046363, 463.15342764597284, 1609.3852357681233, 1111.2717446239244, 1229.2210925080665, 1442.6571340939493, 1819.159927506163, 2148.820322585198, 720.4135441089619, 679.3667500918194, 1060.5780675079122, 1613.513462574324, 1024.3915891659285, 910.5682455530603, 1367.1602058858828, 1252.5212682024182, 918.3787235658357, 793.1674218247782, 915.1755932179046, 722.6155299042822, 1238.802569274613, 4560.792929828437, 2889.1549291264137, 2610.299203089045, 1935.6722334444494, 3138.607182498609, 57084.558856598116, 239.09448710766048, 228.2186985546881, 210.44741895747057, 173.63232813342563, 165.57767665470791, 154.54740843152413, 149.8841096459232, 135.39722303441587, 134.51491650719927, 129.16262165749364, 125.5750136914028, 117.80945019917345, 109.85296621486087, 99.8340613731624, 98.87513533257471, 92.40717673514487, 87.67198987378862, 85.82482728637073, 85.39644673021274, 80.0629777795514, 78.17799390372011, 70.78972087377556, 65.69471376116017, 61.75243396739682, 61.7309736874899, 61.566405441155354, 61.53618263172718, 60.608963904861746, 59.10954191913167, 1685.0212176062328, 1577.8307732600754, 714.1389304554971, 641.7391641669375, 543.4738027366614, 507.3886816540405, 490.3670955742839, 483.2194198638001, 451.70191164556064, 393.8284684998202, 377.45276929825565, 344.4148365464194, 322.3594608128884, 292.3577646831012, 291.0651122801921, 257.26417519546555, 252.52805762106564, 245.33126666359954, 238.11651435715362, 237.9451207336137, 232.05326493625785, 231.37710248458168, 221.02800850393962, 210.40287738033493, 204.68691438303236, 199.10800959181236, 195.2151499513726, 192.10295803860717, 191.40442622202048, 188.35622058908896, 641.0313953937741, 1530.356371879568, 976.9132241679697, 1018.8484369574476, 1789.7171697466802, 300.6146837239485, 1737.319844508896, 2293.505376202527, 1093.2262521640291, 1524.7873208077149, 1521.8876876821098, 800.7205680005893, 6905.328363205236, 635.879409347026, 3406.8539004713075, 577.9656385312821, 357.1365399530531, 350.4393161544305, 321.38780883364626, 315.40027662984437, 311.6396582178557, 311.1775819758319, 304.14586503550754, 297.3401928400267, 290.84373529793083, 259.25255406591003, 256.6965060267258, 255.43339461641887, 249.20869415432807, 232.95390959405336, 229.46304542442357, 221.16000305776782, 218.29534925490944, 215.72349537838195, 199.17891516502286, 193.16694396049226, 192.9032382394849, 188.28062140552, 183.33964206789503, 174.06114586167564, 170.6998406002664, 148.14305871198945, 146.74830442864774, 146.6248215701404, 144.98423827525758, 143.87930677713263, 443.12882791961573, 310.3310234670384, 299.49451078637475, 576.3956248537638, 305.903576397245, 920.1523182957749, 690.5388400208712, 420.2107611054348, 1141.4336674008123, 852.9856688387731, 264.40376666729344, 444.0650393779365, 3461.219406319717, 960.8262258246824, 579.9673208191672, 1242.59219160033, 2351.6870752187447, 426.6101359231836, 5376.432626207493, 1315.436276735166, 634.7995185981675, 567.5902982853081, 549.9801473160488, 427.3828851100752, 414.9704809622741, 400.704535044678, 368.5792149474562, 366.82717198194774, 366.67573247671083, 301.663118044704, 261.6628422849859, 246.5704236490417, 244.86594562439404, 233.80019562665737, 228.62691365298966, 221.15259520340177, 204.70480315411172, 193.37356649318676, 179.57372920260312, 174.3379581854119, 173.49189858361186, 158.9285832450914, 157.89513240440104, 155.90871454941043, 141.6304730289597, 136.960881562545, 135.83422161920043, 135.3014032218656, 127.93694919004328, 1746.0734854647383, 304.91728408481947, 279.3599281157185, 214.85445221459213, 922.0982679627882, 1737.319844508896, 358.81600397739146, 1056.528549656146, 2415.1819168647016, 3005.9880388639376, 645.7867692560485, 920.1523182957749, 601.4192934487902, 1635.1239747302998, 752.9176985538984, 861.1654243991871, 1506.2941944397098, 1182.4175301409703, 547.7467176922191, 496.62049210341416, 448.655001047762, 431.51745867878765, 389.5797377782813, 354.09594908190445, 320.89608756123243, 290.8617483107529, 280.07393192300435, 273.56365806990226, 271.65175226346787, 271.29080204718656, 240.24370320480156, 229.5552771829278, 226.9433638146979, 219.4430446026601, 215.69287282829399, 215.33116075240534, 201.6666768950355, 196.70006104118468, 191.95621957065367, 189.97814357728302, 187.67916842328046, 185.52609673540516, 177.2288125686756, 174.0509885085758, 171.3111823007157, 170.1213488780602, 320.56096706786076, 408.81903475097727, 815.2162249722265, 683.1997142751446, 428.31033877461306, 350.4027913582304, 1149.0144341277305, 1643.2236376586345, 3380.5600624203475, 4598.187763324458, 1238.802569274613, 350.8806136022729, 1097.5087330582203, 2148.820322585198, 573.9672620675119, 3138.607182498609, 3265.7498186437365, 3844.221100680788, 534.0604957836297, 353.2345554364981, 309.7975599577293, 290.14460529190467, 289.06780300399765, 272.03665406658837, 267.72917872204397, 232.53015271142084, 222.98286564165133, 216.8691912188077, 214.88512653808584, 192.9124399713406, 192.5716296417341, 189.39953921163576, 189.05830535112383, 179.78072100236685, 177.21690492101422, 174.96700989279395, 172.1905246554452, 169.20536377423772, 167.07810380924258, 159.9723607878288, 158.33227698024635, 157.7768492378464, 155.23250419303685, 153.66389095912447, 151.86521898568085, 149.77517070060503, 149.28912000412393, 159.2264079064952, 295.80945585175306, 975.3290749746981, 196.94185863957972, 303.5080521282833, 1022.3758483012753, 781.984252237413, 239.71318213814646, 279.2370845235756, 1145.7700350845564, 510.2528103831958, 403.97439696720437, 557.1556190842236, 429.0785088825904, 505.71390769180897, 982.2932649425832, 3461.219406319717, 390.26044052612565, 372.7225018132304, 562.1644382953779, 514.4166679772807, 631.1737780320541, 1863.0859479390351, 430.8831476433919, 392.6363983655252, 323.6600187104156, 313.99444780040307, 286.1158439109686, 280.5081778169324, 275.86286218308106, 271.77363617908355, 255.6287796407338, 239.50516796012408, 234.6881768018982, 209.52015598286965, 208.45196006866638, 203.58753021070635, 201.6900931308077, 200.95929619601597, 200.07929468226402, 172.7638137860029, 171.3591776219133, 169.52801649178895, 164.0336976437194, 153.2121308882851, 152.78663147720442, 145.7960868502496, 140.9899186645735, 135.85144551533844, 131.7776014334488, 129.0236482314615, 127.12637825171761, 270.3171543623494, 612.5243117084784, 523.9514627907151, 203.5105267009584, 309.0369185475754, 1510.4252093149444, 474.82766059499465, 1050.7029972374405, 1381.6589399678176, 370.125185635844, 766.7869529404184, 576.8290626632629, 911.9393624295383, 654.0559968401744, 3380.5600624203475, 873.1471550525332, 527.2107448276469, 670.4310846290011, 517.5802450246218, 345.0703391191962, 310.364390357229, 294.5141122785455, 224.4214654886558, 261.6497419637131, 219.72744187007982, 219.26698279885008, 212.97503702870407, 180.70557435989264, 174.66373697688516, 173.6697246437019, 167.95413465471927, 164.43273206199342, 162.89514535344495, 160.69173894304328, 159.5501190145337, 149.19634452070892, 146.7415026108704, 146.3184342460299, 143.15889013821908, 141.78552806818922, 138.5404811649848, 136.42240254093494, 136.13394676948892, 127.81010398183754, 115.90863883941388, 114.271278473644, 113.83955694773508, 213.80377404166657, 145.5402547821517, 385.69068666428575, 496.580673814908, 467.22238853629864, 441.4687309294058, 250.56774281857045, 551.9830003362268, 321.1854496758053, 1095.9753195676028, 483.0455120362632, 858.817652903208, 1141.4336674008123, 879.4100486031009, 223.24595043990905, 323.49872889166824, 1142.206447852485, 617.1978478501818, 940.7426851118261, 1540.3411913723842, 1464.4469639061256, 838.0201257399899, 686.0765661233239, 568.9573924240096, 500.1417801660285, 455.8811550236324, 388.8169416478817, 376.60145299047133, 365.67040831788853, 281.18042368734217, 260.6007272338317, 225.0782676797601, 219.3405637540607, 218.52139255782618, 213.77090652123889, 211.72989127610725, 207.8289120778069, 202.3410942070379, 187.00351358305969, 174.52755487518178, 174.21603280193824, 173.68362704797994, 171.78716359271206, 169.57834741107578, 164.63541627234986, 161.34187225976066, 156.60207247974026, 155.9078856989801, 155.87487313144484, 312.98888529051095, 1044.6912669809178, 1091.9741921816988, 241.64156257609463, 421.98097815587977, 407.0907364074762, 3461.219406319717, 406.8198174967379, 2891.6617529393748, 377.6473260089928, 5445.810458882939, 1214.8092241896354, 529.7232808617845, 425.0031220764046, 388.8584668426288, 382.36698187438026, 374.0107101311979, 361.48903989590247, 356.8008924649412, 309.5774711543692, 268.10411604940015, 232.62621103665754, 228.52238227559445, 225.17143592888087, 218.5674489191954, 217.47817924929774, 212.43216305278108, 209.73478209461857, 207.12131271150716, 193.55414459329435, 181.25720305302536, 174.6189799991729, 173.0374622317315, 168.15568945041545, 160.9595175424146, 160.4427586019481, 158.93033249307587, 157.2922024388479, 156.40729861452792, 153.81646396624473, 153.72630402518243, 153.088195696448, 382.88902654412726, 799.9485547699492, 499.2195528842904, 479.2148209142301, 216.16146095249215, 204.52102158692597, 441.68526285774743, 525.7317195236824, 951.0326473148881, 852.0365447715475, 852.9856688387731, 377.6473260089928, 514.9980540330341, 509.6284657031993, 375.18121766543965, 306.1293489452301, 298.8812742657391, 283.5778438468845, 280.9882201127356, 260.0370453279495, 232.00197080038177, 228.76522034588447, 225.37386778013723, 211.50466229414735, 198.40369644215298, 177.21809781203396, 176.78087247399014, 156.46445947866053, 145.9561967126071, 145.10638014839407, 127.01515941570574, 121.63807232068542, 121.2641076896044, 114.70715509029517, 113.18806656797888, 112.87725907596602, 112.6973926216214, 109.5895888154683, 107.79087645880678, 107.10986172309237, 104.19817432295174, 104.05998182717254, 263.389624927755, 670.4735070650364, 207.34126934210852, 395.59570629317545, 214.4132962729037, 274.51923460969476, 291.00608327164423, 185.81187424807817, 752.9176985538984, 267.08688716707934, 452.9065304822813, 325.2590469096519, 268.1157500255753, 211.79956894328384, 479.02661877819304, 1341.824139474077, 432.99635047466876, 381.5622456437442, 378.103579321095, 356.167356653138, 331.6764159913366, 218.3189330487294, 216.4692899448032, 211.6615183037666, 210.58629342568526, 208.49801113462627, 202.7085234592132, 199.85763228892006, 195.34272679201726, 191.30606639481294, 172.60057293763123, 171.85080311014127, 149.655442562898, 149.01276967387275, 143.72489626606023, 138.98419376171483, 130.74455453432304, 130.10185162106234, 128.17302713077564, 123.95838989625511, 120.98693893422207, 119.33627848028482, 119.05022215565356, 112.3876670721294, 110.06562877580274, 157.1467819675301, 455.19475902044957, 189.75851240251134, 562.1644382953779, 314.3248027845986, 796.2590341283312, 3461.219406319717, 2891.6617529393748, 720.9201169515394, 465.3034256999961, 406.04942550297125, 364.63689457653476, 361.09096041393246, 300.9570822312854, 292.4406750306101, 281.59958879883465, 214.51779039032004, 191.50243709099726, 191.16032175414614, 184.97036273109134, 155.4214471397735, 146.40066025206082, 145.425594731581, 145.14252080766678, 141.7114778803867, 129.860082179676, 129.6880826261759, 124.58763633109807, 122.40765628964772, 121.26841720470821, 114.37710889768088, 107.84404196238569, 103.68582547984278, 103.10412113079168, 101.70855641714624, 95.87172200569701, 91.05731366702577, 88.15789864163813, 473.5495506486182, 162.43662816487623, 252.69369739262297, 726.0341222549434, 127.90693967280002, 196.97521110424466, 250.7236755880293, 163.43214550310526, 535.0930320602482, 774.6724410181605, 645.7867692560485, 1145.7959926297985, 598.006275635445, 917.0121815136342, 792.1609122875624, 569.9066378451311, 325.79059882687756, 324.99891216265615, 300.36882956563045, 193.56822484339958, 181.5842321497358, 151.94661620136634, 145.88300908130356, 138.73823261543163, 131.70564169194014, 130.87474747410414, 124.243359922715, 122.7959321996415, 121.15304805798917, 116.35483030894807, 105.4285636388856, 104.19753878363746, 97.66732669386286, 96.30195325030456, 93.22512253128299, 89.56313987880404, 83.68458474028773, 81.6582224086157, 78.70318746389556, 77.27261408052036, 76.23579693559853, 74.2601618563027, 73.87453339564902, 392.7876301053217, 79.11978191869377, 291.51618510594113, 480.39846450993593, 465.1952572659316, 356.889354295225, 316.3380279258377, 189.40313083212067, 172.74181914811834, 168.1338661070502, 161.79662490190017, 161.51497232938655, 160.02539287780746, 145.8110213505822, 124.19615955294108, 120.32203023622654, 118.57453590663478, 113.97723457219733, 113.16788895916635, 108.508106100065, 102.26360999939196, 98.93914000364214, 93.91380514097386, 93.51109916398754, 92.05474241472481, 89.52620035035825, 88.84904087943575, 86.01371988763704, 84.08289542600014, 81.944380048355, 76.62240948496844, 72.37128231989597, 72.14396821076869, 330.14630323950547, 519.9860092150384, 163.46094942850104, 864.2672508858494, 911.075898945654, 663.465268774207, 725.5204755116218, 1435.2494674142781, 240.64628239650114, 416.5277645526932, 595.064670910003, 1050.7029972374405], \"loglift\": [30.0, 29.0, 28.0, 27.0, 26.0, 25.0, 24.0, 23.0, 22.0, 21.0, 20.0, 19.0, 18.0, 17.0, 16.0, 15.0, 14.0, 13.0, 12.0, 11.0, 10.0, 9.0, 8.0, 7.0, 6.0, 5.0, 4.0, 3.0, 2.0, 1.0, 1.8175, 1.8173, 1.817, 1.8169, 1.8163, 1.8162, 1.8161, 1.816, 1.8158, 1.8154, 1.8153, 1.8153, 1.8152, 1.8152, 1.8151, 1.815, 1.8148, 1.8148, 1.8146, 1.8146, 1.8146, 1.8145, 1.8145, 1.8144, 1.8141, 1.8141, 1.814, 1.8139, 1.8139, 1.8138, 1.7976, 1.8022, 1.7364, 1.7509, 1.6987, 1.7856, 1.6326, 1.7279, 1.7404, 1.7069, 1.6698, 1.3142, 1.612, 1.2142, 1.4157, 1.3221, 0.9695, 1.2797, 1.0417, 0.973, 1.2302, 1.1249, 0.4032, 1.2313, 0.9977, 1.0565, 0.9879, 1.3297, 0.8479, 0.2222, 0.604, 0.9153, 0.6239, 0.4307, 0.7368, 1.8815, 1.881, 1.8807, 1.8805, 1.8804, 1.8802, 1.88, 1.88, 1.88, 1.8799, 1.8798, 1.8798, 1.8797, 1.8795, 1.8793, 1.8792, 1.8792, 1.8791, 1.8791, 1.8791, 1.8789, 1.8789, 1.8789, 1.8788, 1.8786, 1.8786, 1.8785, 1.8785, 1.8785, 1.8784, 1.8737, 1.8642, 1.8624, 1.8673, 1.8141, 1.8633, 1.8183, 1.8402, 1.8385, 1.8318, 1.7677, 1.7709, 1.7826, 1.769, 1.7231, 1.6719, 1.693, 1.657, 1.6619, 1.5368, 1.6528, 1.6081, 1.346, 1.4544, 1.5932, 1.4239, 1.6889, 1.3885, 1.49, 1.4471, 1.6716, 0.8775, 1.4267, 0.8964, 0.8337, 1.3793, 0.98, 0.2647, 0.9413, 1.2016, 1.2453, 0.1874, -0.1048, 0.4236, 0.1933, 1.9241, 1.9238, 1.9236, 1.9235, 1.9234, 1.9231, 1.923, 1.9221, 1.922, 1.922, 1.922, 1.922, 1.922, 1.9216, 1.9214, 1.9214, 1.9214, 1.9214, 1.9211, 1.9208, 1.9208, 1.9206, 1.9205, 1.9205, 1.9201, 1.9201, 1.92, 1.9196, 1.9195, 1.9194, 1.916, 1.909, 1.9146, 1.809, 1.7535, 1.8932, 1.8932, 1.8163, 1.8337, 1.6136, 1.8296, 1.6382, 1.5866, 1.708, 1.859, 1.7473, 1.6879, 1.6065, 1.6913, 1.5377, 1.6266, 1.5672, 1.6194, 1.8373, 1.4085, 1.3082, 1.456, 1.3522, 1.1504, 0.9338, 1.2758, 1.1301, 0.9674, 1.202, 1.2677, 0.9602, 1.2105, 1.231, 1.0734, 1.1034, 0.6402, 2.7863, 2.7856, 2.7855, 2.7853, 2.7853, 2.7852, 2.7851, 2.7851, 2.785, 2.7849, 2.7848, 2.7848, 2.7846, 2.7844, 2.7843, 2.7842, 2.7842, 2.7841, 2.784, 2.784, 2.7839, 2.7838, 2.7838, 2.7837, 2.7836, 2.7836, 2.7836, 2.7835, 2.7833, 2.7832, 2.7558, 2.7334, 2.7485, 2.7569, 2.7495, 2.7206, 2.5763, 2.3969, 1.8208, 1.9183, 1.7507, 1.5363, 1.9426, 2.1148, 2.1007, 1.2554, 1.8774, 0.2754, 1.7106, 2.0824, 1.3595, 2.8173, 2.8168, 2.8167, 2.8165, 2.8165, 2.8163, 2.8162, 2.816, 2.8158, 2.8154, 2.8154, 2.8153, 2.8151, 2.8151, 2.8151, 2.8151, 2.8148, 2.8147, 2.8146, 2.8144, 2.8141, 2.814, 2.8136, 2.8136, 2.8135, 2.8134, 2.8132, 2.8131, 2.8131, 2.8129, 2.7846, 2.7247, 2.7038, 2.6922, 2.6476, 2.5696, 2.5218, 2.6518, 2.6606, 2.5672, 2.4813, 2.5416, 2.5095, 2.3908, 2.3726, 2.4764, 2.5252, 2.3953, 2.4666, 2.1049, 1.2244, 1.3977, 1.4682, 1.6877, 1.2137, 3.1363, 3.1323, 3.1321, 3.1318, 3.1308, 3.1305, 3.1301, 3.1299, 3.1292, 3.1292, 3.1289, 3.1286, 3.1281, 3.1275, 3.1267, 3.1266, 3.1259, 3.1253, 3.1251, 3.125, 3.1242, 3.124, 3.1226, 3.1216, 3.1206, 3.1206, 3.1206, 3.1206, 3.1203, 3.1199, 3.1749, 3.1748, 3.1741, 3.1739, 3.1737, 3.1735, 3.1735, 3.1734, 3.1733, 3.173, 3.1729, 3.1726, 3.1724, 3.1721, 3.1721, 3.1717, 3.1716, 3.1715, 3.1714, 3.1714, 3.1713, 3.1713, 3.1711, 3.1708, 3.1707, 3.1706, 3.1705, 3.1704, 3.1704, 3.1703, 2.9443, 2.5759, 2.5715, 2.5293, 2.2839, 2.9964, 2.0291, 1.8493, 2.2137, 1.9137, 1.695, 2.1999, 0.4404, 2.3258, 0.7127, 2.3702, 3.3205, 3.3204, 3.3202, 3.3201, 3.3201, 3.3201, 3.32, 3.3199, 3.3199, 3.3195, 3.3194, 3.3194, 3.3193, 3.319, 3.319, 3.3188, 3.3187, 3.3187, 3.3183, 3.3182, 3.3182, 3.318, 3.3179, 3.3176, 3.3175, 3.3166, 3.3166, 3.3166, 3.3165, 3.3164, 3.2922, 3.2762, 3.2743, 3.2115, 3.2379, 2.9578, 2.9935, 3.0836, 2.5941, 2.5665, 3.1463, 2.8191, 1.423, 2.2524, 2.6111, 1.9537, 1.332, 2.7702, 0.2794, 3.3909, 3.3901, 3.39, 3.3899, 3.3894, 3.3893, 3.3893, 3.389, 3.389, 3.389, 3.3885, 3.388, 3.3878, 3.3877, 3.3875, 3.3874, 3.3873, 3.3869, 3.3867, 3.3863, 3.3861, 3.3861, 3.3856, 3.3855, 3.3855, 3.3848, 3.3846, 3.3846, 3.3845, 3.3841, 3.3128, 3.3593, 3.2879, 3.3236, 3.1121, 3.0085, 3.2365, 2.7747, 2.45, 2.082, 2.5119, 2.2023, 2.5138, 1.6899, 2.2146, 2.0721, 3.4192, 3.419, 3.4181, 3.4179, 3.4177, 3.4176, 3.4174, 3.4171, 3.4169, 3.4165, 3.4164, 3.4163, 3.4163, 3.4163, 3.4158, 3.4157, 3.4156, 3.4155, 3.4154, 3.4154, 3.4151, 3.415, 3.4148, 3.4148, 3.4147, 3.4147, 3.4144, 3.4143, 3.4142, 3.4142, 3.3402, 3.2642, 3.0596, 3.0605, 3.1001, 3.1466, 2.6235, 2.282, 1.7972, 1.5806, 2.2638, 3.0404, 2.1331, 1.5925, 2.6314, 1.1805, 1.1253, 3.4347, 3.4331, 3.4322, 3.4318, 3.4316, 3.4316, 3.4314, 3.4313, 3.4308, 3.4306, 3.4305, 3.4304, 3.4299, 3.4299, 3.4298, 3.4298, 3.4296, 3.4295, 3.4294, 3.4293, 3.4292, 3.4292, 3.4289, 3.4288, 3.4288, 3.4287, 3.4286, 3.4286, 3.4285, 3.4285, 3.428, 3.4162, 3.3832, 3.4086, 3.3384, 3.1541, 3.0842, 3.3297, 3.2898, 2.8477, 3.0877, 3.139, 3.0215, 3.0758, 2.9974, 2.6494, 1.8731, 3.03, 3.0463, 2.7869, 2.7371, 2.4693, 3.5166, 3.5149, 3.5147, 3.5142, 3.5141, 3.5138, 3.5137, 3.5137, 3.5136, 3.5134, 3.5131, 3.513, 3.5125, 3.5125, 3.5124, 3.5124, 3.5123, 3.5123, 3.5116, 3.5115, 3.5114, 3.5113, 3.5108, 3.5108, 3.5105, 3.5103, 3.51, 3.5098, 3.5096, 3.5095, 3.3736, 3.1071, 3.1271, 3.3774, 3.2013, 2.4667, 2.9564, 2.5202, 2.083, 2.9491, 2.4003, 2.6086, 2.2633, 2.4691, 0.9916, 2.0998, 2.5668, 3.5957, 3.5953, 3.5944, 3.5941, 3.5939, 3.5929, 3.5929, 3.5928, 3.5928, 3.5926, 3.5918, 3.5916, 3.5916, 3.5914, 3.5913, 3.5912, 3.5912, 3.5911, 3.5907, 3.5906, 3.5906, 3.5904, 3.5904, 3.5902, 3.5901, 3.5901, 3.5896, 3.5888, 3.5887, 3.5887, 3.5586, 3.5735, 3.4783, 3.429, 3.3801, 3.3858, 3.432, 3.1753, 3.2277, 2.5764, 2.9472, 2.4151, 2.1472, 2.1115, 3.3001, 2.9516, 1.7168, 2.2979, 1.8759, 3.5998, 3.5998, 3.5993, 3.599, 3.5987, 3.5985, 3.5983, 3.5979, 3.5979, 3.5978, 3.597, 3.5967, 3.5961, 3.596, 3.596, 3.5959, 3.5958, 3.5957, 3.5956, 3.5952, 3.5948, 3.5948, 3.5948, 3.5947, 3.5947, 3.5945, 3.5944, 3.5942, 3.5942, 3.5942, 3.5266, 3.2902, 3.2272, 3.4008, 3.1151, 3.0997, 1.6349, 2.9727, 1.0922, 2.9035, 0.3978, 1.7592, 3.7739, 3.7735, 3.7733, 3.7732, 3.7732, 3.7731, 3.7731, 3.7726, 3.7722, 3.7716, 3.7715, 3.7715, 3.7713, 3.7713, 3.7712, 3.7712, 3.7711, 3.7708, 3.7704, 3.7702, 3.7702, 3.77, 3.7698, 3.7697, 3.7697, 3.7696, 3.7696, 3.7695, 3.7695, 3.7694, 3.7359, 3.6686, 3.6674, 3.5048, 3.6753, 3.6535, 3.1199, 2.9848, 2.4918, 2.5565, 2.4698, 3.0815, 3.8498, 3.8498, 3.8491, 3.8485, 3.8484, 3.8482, 3.8482, 3.8479, 3.8475, 3.8474, 3.8474, 3.8471, 3.8468, 3.8462, 3.8462, 3.8455, 3.845, 3.845, 3.844, 3.8437, 3.8437, 3.8432, 3.8431, 3.8431, 3.843, 3.8428, 3.8426, 3.8426, 3.8423, 3.8423, 3.8072, 3.7375, 3.7953, 3.723, 3.7038, 3.6425, 3.62, 3.7143, 3.269, 3.5497, 3.3166, 3.31, 3.3193, 3.5202, 2.7955, 3.8734, 3.8719, 3.8716, 3.8716, 3.8714, 3.8712, 3.8697, 3.8696, 3.8695, 3.8695, 3.8695, 3.8693, 3.8693, 3.8691, 3.869, 3.8685, 3.8685, 3.8676, 3.8676, 3.8674, 3.8671, 3.8667, 3.8666, 3.8665, 3.8663, 3.8661, 3.866, 3.8659, 3.8655, 3.8653, 3.8324, 3.6479, 3.7699, 2.963, 3.0316, 2.0694, 0.6369, 0.7814, 4.0763, 4.0756, 4.0753, 4.075, 4.075, 4.0744, 4.0743, 4.0742, 4.0731, 4.0726, 4.0726, 4.0724, 4.0714, 4.071, 4.071, 4.071, 4.0708, 4.0702, 4.0702, 4.0699, 4.0697, 4.0696, 4.0692, 4.0686, 4.0683, 4.0682, 4.0681, 4.0675, 4.067, 4.0666, 3.9484, 3.9333, 3.8024, 3.3457, 3.9694, 3.7555, 3.5959, 3.8327, 3.1544, 2.8021, 2.6574, 2.1585, 2.6344, 4.0858, 4.0857, 4.0852, 4.084, 4.084, 4.0838, 4.0821, 4.0818, 4.0808, 4.0805, 4.0802, 4.0798, 4.0798, 4.0794, 4.0793, 4.0792, 4.0789, 4.0781, 4.078, 4.0773, 4.0772, 4.0769, 4.0765, 4.0758, 4.0755, 4.0751, 4.0748, 4.0747, 4.0743, 4.0743, 4.0612, 4.0723, 3.1108, 4.1833, 4.1832, 4.1826, 4.1823, 4.1802, 4.1798, 4.1796, 4.1794, 4.1794, 4.1793, 4.1787, 4.1776, 4.1773, 4.1772, 4.1769, 4.1768, 4.1765, 4.1759, 4.1756, 4.1751, 4.175, 4.1749, 4.1746, 4.1745, 4.1741, 4.1739, 4.1736, 4.1728, 4.172, 4.172, 3.9531, 3.8673, 4.0462, 3.6333, 2.8839, 2.9077, 2.5905, 1.9572, 3.3302, 2.8055, 2.4769, 1.824], \"logprob\": [30.0, 29.0, 28.0, 27.0, 26.0, 25.0, 24.0, 23.0, 22.0, 21.0, 20.0, 19.0, 18.0, 17.0, 16.0, 15.0, 14.0, 13.0, 12.0, 11.0, 10.0, 9.0, 8.0, 7.0, 6.0, 5.0, 4.0, 3.0, 2.0, 1.0, -4.08489990234375, -4.55649995803833, -5.160799980163574, -5.386899948120117, -5.913700103759766, -6.025599956512451, -6.067599773406982, -6.09689998626709, -6.232399940490723, -6.448699951171875, -6.473199844360352, -6.4832000732421875, -3.1596999168395996, -6.502399921417236, -6.535200119018555, -6.048900127410889, -6.661499977111816, -6.675000190734863, -6.7195000648498535, -6.719600200653076, -6.722300052642822, -6.746500015258789, -6.752099990844727, -6.793000221252441, -6.881800174713135, -6.893199920654297, -6.9008002281188965, -6.941699981689453, -6.942800045013428, -6.949999809265137, -3.0631000995635986, -4.176599979400635, -4.03439998626709, -4.672399997711182, -3.6607000827789307, -6.095699787139893, -3.485599994659424, -6.02269983291626, -6.15310001373291, -6.052000045776367, -5.828000068664551, -4.376699924468994, -5.812399864196777, -4.2469000816345215, -5.098100185394287, -4.8302001953125, -3.9495999813079834, -4.922500133514404, -4.258699893951416, -4.426000118255615, -5.116499900817871, -5.186600208282471, -4.19189977645874, -5.372200012207031, -5.09499979019165, -5.201300144195557, -5.2540998458862305, -5.590700149536133, -5.258200168609619, -4.8165998458862305, -5.099699974060059, -5.365699768066406, -5.263700008392334, -5.213900089263916, -5.3471999168396, -5.432400226593018, -5.884200096130371, -6.0706000328063965, -6.158599853515625, -6.230199813842773, -6.325799942016602, -6.3979997634887695, -6.420400142669678, -6.424699783325195, -6.44890022277832, -6.4770002365112305, -6.470699787139893, -6.5391998291015625, -6.584199905395508, -6.6554999351501465, -6.695000171661377, -6.701300144195557, -6.715700149536133, -6.725800037384033, -6.740900039672852, -6.777699947357178, -6.790800094604492, -6.792799949645996, -6.821000099182129, -6.867700099945068, -6.86899995803833, -6.8856000900268555, -6.901700019836426, -6.905600070953369, -6.909999847412109, -6.265200138092041, -5.79640007019043, -5.998600006103516, -6.387800216674805, -5.1479997634887695, -6.411099910736084, -5.339700222015381, -5.9604997634887695, -5.945799827575684, -6.106800079345703, -5.4745001792907715, -5.600100040435791, -5.754199981689453, -5.662499904632568, -5.33459997177124, -5.050600051879883, -5.246099948883057, -5.131499767303467, -5.518599987030029, -5.017199993133545, -5.575500011444092, -5.460000038146973, -4.541600227355957, -4.984899997711182, -5.461400032043457, -4.935100078582764, -5.7846999168396, -4.975299835205078, -5.428299903869629, -5.4131999015808105, -5.825099945068359, -4.767099857330322, -5.537199974060059, -4.971799850463867, -4.9328999519348145, -5.495800018310547, -5.149799823760986, -4.654300212860107, -5.301499843597412, -5.457099914550781, -5.480000019073486, -5.265999794006348, -5.2230000495910645, -5.473100185394287, -5.51039981842041, -5.475200176239014, -5.736299991607666, -5.846499919891357, -5.936600208282471, -6.036600112915039, -6.170499801635742, -6.2444000244140625, -6.5817999839782715, -6.613999843597412, -6.624800205230713, -6.625100135803223, -6.625899791717529, -6.626800060272217, -6.739200115203857, -6.7891998291015625, -6.791500091552734, -6.797500133514404, -6.805200099945068, -6.87939977645874, -6.94350004196167, -6.956299781799316, -6.9903998374938965, -7.020400047302246, -7.026599884033203, -7.101200103759766, -7.105599880218506, -7.127200126647949, -7.198500156402588, -7.214900016784668, -7.225599765777588, -5.235000133514404, -5.676000118255615, -6.643599987030029, -4.258900165557861, -3.873800039291382, -6.553500175476074, -6.593200206756592, -5.451399803161621, -5.693399906158447, -2.9814999103546143, -5.821300029754639, -3.815200090408325, -3.452199935913086, -4.74459981918335, -6.259799957275391, -5.397799968719482, -5.068600177764893, -4.548799991607666, -5.169600009918213, -4.189899921417236, -4.9039998054504395, -4.592700004577637, -5.0929999351501465, -6.1855998039245605, -4.3582000732421875, -3.992300033569336, -4.783199787139893, -4.544600009918213, -4.248600006103516, -3.985300064086914, -4.808199882507324, -4.573500156402588, -4.49370002746582, -4.890699863433838, -5.023600101470947, -4.6844000816345215, -4.97790002822876, -5.08050012588501, -5.070700168609619, -5.181700229644775, -5.0507001876831055, -3.7690000534057617, -4.747499942779541, -4.792699813842773, -4.981400012969971, -4.997700214385986, -5.0183000564575195, -5.117400169372559, -5.1203999519348145, -5.149700164794922, -5.236599922180176, -5.29640007019043, -5.299300193786621, -5.380799770355225, -5.450900077819824, -5.532100200653076, -5.5605998039245605, -5.571899890899658, -5.59660005569458, -5.621699810028076, -5.632500171661377, -5.678500175476074, -5.694200038909912, -5.710599899291992, -5.737100124359131, -5.76039981842041, -5.769800186157227, -5.771500110626221, -5.809500217437744, -5.849999904632568, -5.9029998779296875, -3.930500030517578, -4.065899848937988, -4.867499828338623, -5.183899879455566, -5.35830020904541, -5.145100116729736, -4.876999855041504, -4.266600131988525, -4.346799850463867, -4.5671000480651855, -4.530399799346924, -4.323699951171875, -4.946499824523926, -5.137899875640869, -5.148900032043457, -4.8506999015808105, -5.146999835968018, -4.763500213623047, -5.174200057983398, -5.259799957275391, -5.24399995803833, -3.901099920272827, -4.647600173950195, -4.702400207519531, -4.840400218963623, -4.89769983291626, -5.021900177001953, -5.090199947357178, -5.1869001388549805, -5.3256001472473145, -5.469299793243408, -5.4934000968933105, -5.523799896240234, -5.592100143432617, -5.6020002365112305, -5.618599891662598, -5.6219000816345215, -5.724899768829346, -5.730999946594238, -5.7677001953125, -5.830999851226807, -5.933000087738037, -5.953000068664551, -6.035999774932861, -6.053699970245361, -6.077000141143799, -6.091599941253662, -6.138199806213379, -6.154200077056885, -6.156400203704834, -6.1996002197265625, -5.370800018310547, -4.185200214385986, -4.576399803161621, -4.487199783325195, -4.371600151062012, -4.217700004577637, -4.098999977111816, -5.061800003051758, -5.111700057983398, -4.759699821472168, -4.426000118255615, -4.820000171661377, -4.969900131225586, -4.682199954986572, -4.787899971008301, -4.9944000244140625, -5.092299938201904, -5.078999996185303, -5.24399995803833, -5.0665998458862305, -4.643799781799316, -4.92710018157959, -4.958000183105469, -5.037499904632568, -5.028299808502197, -0.20489999651908875, -5.684299945831299, -5.730999946594238, -5.8125, -6.00570011138916, -6.053500175476074, -6.122900009155273, -6.15369987487793, -6.256100177764893, -6.262599945068359, -6.303500175476074, -6.331900119781494, -6.396299839019775, -6.466800212860107, -6.563300132751465, -6.5731000900268555, -6.64139986038208, -6.6946001052856445, -6.716100215911865, -6.721199989318848, -6.786399841308594, -6.810500144958496, -6.911099910736084, -6.9868998527526855, -7.049699783325195, -7.050099849700928, -7.052800178527832, -7.053299903869629, -7.068699836730957, -7.094200134277344, -3.6891000270843506, -3.7548000812530518, -4.548299789428711, -4.655300140380859, -4.821800231933594, -4.890699863433838, -4.924799919128418, -4.939599990844727, -5.0071001052856445, -5.144599914550781, -5.187099933624268, -5.2789998054504395, -5.345399856567383, -5.443399906158447, -5.447800159454346, -5.571700096130371, -5.5903000831604, -5.6194000244140625, -5.6493000984191895, -5.650100231170654, -5.67519998550415, -5.678199768066406, -5.724100112915039, -5.773600101470947, -5.801300048828125, -5.829100131988525, -5.848899841308594, -5.864999771118164, -5.86870002746582, -5.884799957275391, -4.886099815368652, -4.384300231933594, -4.837600231170654, -4.837699890136719, -4.519700050354004, -5.59119987487793, -4.804299831390381, -4.706399917602539, -5.082900047302246, -5.05019998550415, -5.2708001136779785, -5.408100128173828, -5.013000011444092, -5.512599945068359, -5.447299957275391, -5.563799858093262, -5.094900131225586, -5.113900184631348, -5.2006001472473145, -5.2195000648498535, -5.231500148773193, -5.232999801635742, -5.25600004196167, -5.27869987487793, -5.30079984664917, -5.416200160980225, -5.426199913024902, -5.431099891662598, -5.455900192260742, -5.523600101470947, -5.53879976272583, -5.575799942016602, -5.588900089263916, -5.600800037384033, -5.6809000968933105, -5.711699962615967, -5.713099956512451, -5.737500190734863, -5.764200210571289, -5.816400051116943, -5.836100101470947, -5.978700160980225, -5.9882001876831055, -5.988999843597412, -6.00029993057251, -6.007999897003174, -4.907400131225586, -5.279600143432617, -5.3171000480651855, -4.725200176239014, -5.332300186157227, -4.511099815368652, -4.762499809265137, -5.1691999435424805, -4.65939998626709, -4.9781999588012695, -5.5696001052856445, -5.378399848937988, -4.721099853515625, -5.173299789428711, -5.319399833679199, -5.214900016784668, -5.198599815368652, -5.467400074005127, -5.424300193786621, -3.720599889755249, -4.449999809265137, -4.562099933624268, -4.593699932098389, -4.846399784088135, -4.875899791717529, -4.910999774932861, -4.994800090789795, -4.999499797821045, -5.0, -5.195700168609619, -5.338399887084961, -5.398099899291992, -5.40500020980835, -5.451499938964844, -5.473899841308594, -5.507299900054932, -5.585000038146973, -5.642199993133545, -5.716599941253662, -5.746300220489502, -5.751200199127197, -5.839399814605713, -5.8460001945495605, -5.858699798583984, -5.955399990081787, -5.989200115203857, -5.997499942779541, -6.001399993896484, -6.057799816131592, -3.5155999660491943, -5.214099884033203, -5.3730998039245605, -5.599899768829346, -4.354700088500977, -3.824899911880493, -5.174200057983398, -4.556099891662598, -4.053999900817871, -4.203100204467773, -5.311100006103516, -5.266600131988525, -5.38040018081665, -5.204100131988525, -5.454899787902832, -5.463099956512451, -3.5569000244140625, -3.799099922180176, -4.5696001052856445, -4.667699813842773, -4.769499778747559, -4.808499813079834, -4.910999774932861, -5.006800174713135, -5.105500221252441, -5.204100131988525, -5.242000102996826, -5.265600204467773, -5.272600173950195, -5.27400016784668, -5.395999908447266, -5.441699981689453, -5.453199863433838, -5.4868998527526855, -5.504199981689453, -5.505899906158447, -5.571800231933594, -5.596799850463867, -5.621399879455566, -5.631800174713135, -5.644000053405762, -5.655600070953369, -5.701600074768066, -5.719799995422363, -5.735799789428711, -5.742800235748291, -5.183199882507324, -5.015999794006348, -4.530399799346924, -4.706099987030029, -5.133500099182129, -5.287799835205078, -4.623300075531006, -4.60699987411499, -4.3703999519348145, -4.279399871826172, -4.907800197601318, -5.392600059509277, -5.159599781036377, -5.028299808502197, -5.309500217437744, -5.061500072479248, -5.076900005340576, -2.6043999195098877, -4.579800128936768, -4.994100093841553, -5.125699996948242, -5.191500186920166, -5.195199966430664, -5.256100177764893, -5.272200107574463, -5.413700103759766, -5.4558000564575195, -5.483699798583984, -5.4928998947143555, -5.60129976272583, -5.603099822998047, -5.619800090789795, -5.621600151062012, -5.6722002029418945, -5.686600208282471, -5.69950008392334, -5.7154998779296875, -5.733099937438965, -5.7459001541137695, -5.789599895477295, -5.799900054931641, -5.803500175476074, -5.819799900054932, -5.830100059509277, -5.841899871826172, -5.855899810791016, -5.859099864959717, -5.795199871063232, -5.1875, -4.027500152587891, -5.6020002365112305, -5.23960018157959, -4.209499835968018, -4.547500133514404, -5.484300136566162, -5.371600151062012, -4.4019999504089355, -4.970900058746338, -5.15310001373291, -4.94920015335083, -5.156000137329102, -5.070099830627441, -4.7540998458862305, -4.270899772644043, -5.2967000007629395, -5.326300144195557, -5.174799919128418, -5.313399791717529, -5.3765997886657715, -3.246799945831299, -4.712699890136719, -4.8059000968933105, -4.999599933624268, -5.03000020980835, -5.123300075531006, -5.143199920654297, -5.159900188446045, -5.174900054931641, -5.236400127410889, -5.301799774169922, -5.322199821472168, -5.436100006103516, -5.441199779510498, -5.465000152587891, -5.474400043487549, -5.478000164031982, -5.482399940490723, -5.630000114440918, -5.638199806213379, -5.64900016784668, -5.68209981918335, -5.750800132751465, -5.753600120544434, -5.8007001876831055, -5.834499835968018, -5.8719000816345215, -5.902599811553955, -5.923799991607666, -5.938799858093262, -5.320199966430664, -4.768700122833252, -4.904900074005127, -5.600399971008301, -5.358699798583984, -4.5065999031066895, -5.174099922180176, -4.815999984741211, -4.979400157928467, -5.430600166320801, -5.250999927520752, -5.327400207519531, -5.214600086212158, -5.34119987487793, -5.17609977722168, -5.421599864959717, -5.459099769592285, -4.189799785614014, -4.448999881744385, -4.855299949645996, -4.961699962615967, -5.014200210571289, -5.287099838256836, -5.133600234985352, -5.308300018310547, -5.310400009155273, -5.339600086212158, -5.504799842834473, -5.539000034332275, -5.5447001457214355, -5.578400135040283, -5.599699974060059, -5.609099864959717, -5.622799873352051, -5.630000114440918, -5.697500228881836, -5.714200019836426, -5.717100143432617, -5.739099979400635, -5.748799800872803, -5.77209997177124, -5.787600040435791, -5.78980016708374, -5.853300094604492, -5.9517998695373535, -5.96619987487793, -5.96999979019165, -5.369800090789795, -5.73960018157959, -4.860099792480469, -4.656700134277344, -4.766600131988525, -4.817599773406982, -5.337699890136719, -4.804599761962891, -5.293700218200684, -4.717599868774414, -5.166200160980225, -5.122799873352051, -5.106200218200684, -5.402699947357178, -5.585100173950195, -5.562699794769287, -5.535999774932861, -5.570300102233887, -5.570899963378906, -3.3538999557495117, -3.4045000076293945, -3.963099956512451, -4.16349983215332, -4.350900173187256, -4.480100154876709, -4.57289981842041, -4.732399940490723, -4.764400005340576, -4.794000148773193, -5.057499885559082, -5.133800029754639, -5.280900001525879, -5.3069000244140625, -5.3105998039245605, -5.332699775695801, -5.342299938201904, -5.361000061035156, -5.387899875640869, -5.467100143432617, -5.536600112915039, -5.538300037384033, -5.541399955749512, -5.552499771118164, -5.565499782562256, -5.595200061798096, -5.615600109100342, -5.645599842071533, -5.650000095367432, -5.650300025939941, -5.020699977874756, -4.051799774169922, -4.070499897003174, -5.405200004577637, -5.133399963378906, -5.184700012207031, -4.509200096130371, -5.312399864196777, -5.2316999435424805, -5.455999851226807, -5.293099880218506, -5.432000160217285, -4.247200012207031, -4.467899799346924, -4.557000160217285, -4.573800086975098, -4.5960001945495605, -4.630099773406982, -4.643199920654297, -4.785600185394287, -4.929900169372559, -5.072400093078613, -5.0903000831604, -5.105100154876709, -5.135000228881836, -5.140100002288818, -5.163599967956543, -5.176499843597412, -5.1890997886657715, -5.2571001052856445, -5.3231000900268555, -5.360599994659424, -5.369800090789795, -5.398600101470947, -5.442599773406982, -5.445799827575684, -5.4552998542785645, -5.465799808502197, -5.471399784088135, -5.4882001876831055, -5.488800048828125, -5.493000030517578, -4.609799861907959, -3.9403998851776123, -4.413000106811523, -4.616600036621094, -5.242199897766113, -5.319300174713135, -5.083000183105469, -5.043799877166748, -4.944200038909912, -4.989299774169922, -5.074900150299072, -5.2779998779296875, -4.19950008392334, -4.210000038146973, -4.517000198364258, -4.7210001945495605, -4.744999885559082, -4.797699928283691, -4.8069000244140625, -4.884699821472168, -4.999199867248535, -5.013400077819824, -5.02839994430542, -5.092100143432617, -5.156400203704834, -5.269899845123291, -5.27239990234375, -5.395199775695801, -5.465199947357178, -5.4710001945495605, -5.605100154876709, -5.64870023727417, -5.651800155639648, -5.707900047302246, -5.72130012512207, -5.724100112915039, -5.7256999015808105, -5.753900051116943, -5.770599842071533, -5.7769999504089355, -5.804800033569336, -5.80620002746582, -4.912600040435791, -4.047999858856201, -5.16379976272583, -4.590099811553955, -5.221700191497803, -5.035900115966797, -5.000100135803223, -5.354499816894531, -4.4004998207092285, -5.156199932098389, -4.861199855804443, -5.198800086975098, -5.382699966430664, -5.417699813842773, -5.326200008392334, -3.2183001041412354, -4.350900173187256, -4.47760009765625, -4.486700057983398, -4.5467000007629395, -4.618100166320801, -5.037799835205078, -5.04640007019043, -5.068900108337402, -5.074100017547607, -5.084099769592285, -5.112400054931641, -5.1265997886657715, -5.149600028991699, -5.170599937438965, -5.27400016784668, -5.27839994430542, -5.417500019073486, -5.421800136566162, -5.458199977874756, -5.492000102996826, -5.553500175476074, -5.558499813079834, -5.573599815368652, -5.6072998046875, -5.631700038909912, -5.645599842071533, -5.6479997634887695, -5.706099987030029, -5.727099895477295, -5.403900146484375, -4.524799823760986, -5.2778000831604, -4.998700141906738, -5.51140022277832, -5.5441999435424805, -5.507199764251709, -5.542500019073486, -3.6366000175476074, -4.075200080871582, -4.211699962615967, -4.3196001052856445, -4.329400062561035, -4.5121002197265625, -4.540900230407715, -4.578800201416016, -4.851900100708008, -4.966000080108643, -4.967800140380859, -5.000899791717529, -5.175899982452393, -5.236100196838379, -5.242800235748291, -5.244800090789795, -5.268899917602539, -5.356800079345703, -5.3582000732421875, -5.398600101470947, -5.416399955749512, -5.42579984664917, -5.484799861907959, -5.544099807739258, -5.583799839019775, -5.5894999504089355, -5.603300094604492, -5.662899971008301, -5.715000152587891, -5.747700214385986, -4.184800148010254, -5.269899845123291, -4.958799839019775, -4.360199928283691, -5.472799777984619, -5.254899978637695, -5.1732001304626465, -5.364299774169922, -4.8566999435424805, -4.839000225067139, -5.165599822998047, -5.091100215911865, -5.265399932861328, -3.3864998817443848, -3.5329999923706055, -3.862799882888794, -4.4232001304626465, -4.425600051879883, -4.504700183868408, -4.945799827575684, -5.010000228881836, -5.189199924468994, -5.230199813842773, -5.280700206756592, -5.333099842071533, -5.3394999504089355, -5.3917999267578125, -5.403600215911865, -5.417200088500977, -5.457900047302246, -5.557400226593018, -5.569200038909912, -5.6346001625061035, -5.648799896240234, -5.681600093841553, -5.7220001220703125, -5.7906999588012695, -5.815400123596191, -5.852700233459473, -5.871300220489502, -5.885000228881836, -5.911600112915039, -5.916800022125244, -4.258999824523926, -5.850200176239014, -5.507599830627441, -3.9356000423431396, -3.9677999019622803, -4.233399868011475, -4.354400157928467, -4.8694000244140625, -4.961900234222412, -4.989099979400635, -5.0278000831604, -5.0295000076293945, -5.03879976272583, -5.132400035858154, -5.294000148773193, -5.326000213623047, -5.340700149536133, -5.3805999755859375, -5.387800216674805, -5.430200099945068, -5.489999771118164, -5.523399829864502, -5.576000213623047, -5.5802998542785645, -5.596199989318848, -5.6244001388549805, -5.631999969482422, -5.66480016708374, -5.68779993057251, -5.713799953460693, -5.781799793243408, -5.839600086212158, -5.842800140380859, -4.540900230407715, -4.172399997711182, -5.150700092315674, -3.898200035095215, -4.594900131225586, -4.888299942016602, -5.116099834442139, -5.067200183868408, -5.480000019073486, -5.455999851226807, -5.4278998374938965, -5.51230001449585]}, \"token.table\": {\"Topic\": [19, 2, 7, 20, 5, 5, 1, 12, 10, 13, 8, 16, 14, 1, 11, 10, 1, 2, 3, 4, 5, 7, 12, 9, 3, 8, 9, 12, 6, 9, 18, 13, 7, 15, 18, 1, 2, 4, 1, 1, 17, 10, 4, 5, 8, 14, 2, 1, 2, 5, 8, 9, 12, 13, 2, 17, 17, 9, 13, 9, 2, 10, 11, 18, 1, 2, 3, 20, 8, 2, 20, 2, 10, 13, 2, 12, 2, 1, 10, 5, 10, 3, 11, 1, 3, 17, 6, 17, 15, 20, 9, 3, 19, 17, 1, 12, 19, 1, 3, 7, 2, 3, 7, 7, 1, 1, 2, 4, 10, 19, 8, 9, 10, 13, 16, 19, 3, 4, 14, 11, 13, 2, 5, 7, 18, 13, 14, 8, 16, 17, 3, 16, 20, 11, 20, 5, 18, 6, 10, 8, 6, 1, 2, 4, 10, 12, 20, 16, 17, 8, 17, 20, 16, 1, 5, 11, 4, 18, 17, 1, 2, 3, 4, 5, 10, 20, 8, 11, 14, 14, 6, 11, 13, 1, 4, 9, 3, 9, 12, 1, 2, 4, 9, 20, 8, 10, 12, 14, 16, 19, 18, 1, 5, 8, 10, 12, 13, 6, 12, 2, 5, 20, 17, 1, 13, 3, 7, 10, 11, 7, 7, 7, 7, 19, 18, 6, 9, 18, 13, 2, 7, 10, 1, 2, 2, 8, 4, 10, 9, 14, 5, 10, 20, 11, 4, 1, 2, 3, 4, 7, 8, 2, 13, 8, 10, 15, 10, 5, 20, 3, 15, 18, 2, 2, 10, 12, 18, 20, 3, 9, 13, 18, 1, 2, 3, 9, 9, 18, 14, 2, 8, 10, 20, 2, 1, 2, 4, 5, 10, 12, 13, 4, 16, 9, 4, 8, 10, 18, 5, 4, 11, 1, 2, 3, 10, 11, 20, 2, 3, 9, 9, 8, 11, 18, 3, 5, 9, 9, 17, 10, 19, 1, 3, 5, 10, 14, 17, 19, 20, 1, 2, 4, 12, 18, 12, 17, 11, 17, 16, 4, 5, 8, 10, 12, 2, 3, 4, 14, 15, 3, 1, 3, 5, 7, 8, 11, 6, 3, 7, 13, 2, 10, 14, 2, 15, 1, 13, 15, 18, 18, 20, 15, 16, 1, 10, 12, 14, 20, 20, 14, 2, 5, 15, 15, 4, 10, 14, 3, 7, 5, 6, 9, 2, 2, 5, 15, 4, 10, 1, 11, 15, 1, 11, 1, 4, 8, 17, 18, 1, 8, 14, 1, 2, 3, 4, 7, 12, 3, 1, 11, 11, 1, 14, 20, 19, 1, 4, 1, 4, 3, 7, 8, 12, 20, 3, 16, 15, 5, 13, 19, 19, 10, 12, 1, 4, 18, 13, 10, 10, 8, 1, 1, 13, 14, 20, 9, 15, 20, 19, 12, 13, 16, 2, 4, 15, 20, 6, 2, 8, 1, 2, 3, 7, 10, 2, 5, 20, 14, 2, 4, 12, 4, 11, 2, 16, 3, 16, 2, 3, 7, 18, 14, 4, 18, 7, 4, 5, 18, 19, 13, 9, 3, 13, 4, 10, 2, 5, 14, 6, 10, 6, 9, 13, 16, 3, 18, 1, 2, 3, 8, 10, 12, 14, 17, 20, 12, 2, 12, 13, 2, 4, 5, 7, 20, 4, 2, 3, 16, 12, 16, 3, 13, 4, 20, 15, 19, 16, 16, 8, 12, 10, 5, 12, 4, 10, 20, 14, 19, 7, 14, 18, 5, 2, 8, 11, 2, 1, 3, 4, 18, 4, 16, 1, 2, 3, 1, 3, 14, 14, 7, 17, 1, 2, 3, 7, 14, 15, 8, 9, 10, 13, 15, 19, 19, 4, 2, 17, 3, 9, 12, 2, 3, 5, 8, 9, 7, 18, 9, 9, 20, 11, 17, 9, 10, 1, 3, 10, 6, 8, 3, 1, 3, 1, 14, 4, 3, 7, 16, 16, 13, 3, 18, 1, 2, 3, 4, 5, 19, 19, 19, 1, 3, 4, 8, 9, 10, 11, 12, 17, 1, 11, 14, 17, 14, 14, 1, 15, 15, 7, 7, 8, 1, 5, 5, 13, 3, 9, 16, 18, 1, 2, 4, 17, 2, 7, 9, 3, 15, 14, 4, 9, 5, 4, 5, 12, 3, 9, 2, 1, 4, 12, 2, 5, 9, 13, 20, 1, 4, 5, 2, 5, 10, 15, 8, 4, 10, 15, 2, 1, 20, 19, 1, 13, 5, 17, 13, 13, 2, 8, 9, 10, 11, 11, 2, 2, 13, 3, 16, 10, 10, 3, 3, 13, 7, 8, 1, 2, 3, 4, 7, 18, 8, 16, 3, 13, 20, 4, 1, 2, 3, 4, 5, 10, 11, 12, 3, 19, 3, 12, 7, 9, 9, 6, 17, 13, 9, 10, 18, 6, 19, 1, 2, 3, 10, 1, 2, 3, 12, 15, 5, 20, 2, 3, 7, 12, 16, 1, 2, 3, 1, 1, 5, 5, 8, 16, 18, 15, 17, 1, 3, 5, 7, 1, 3, 1, 3, 7, 1, 4, 11, 12, 16, 13, 4, 4, 11, 15, 10, 5, 5, 1, 2, 3, 4, 3, 7, 8, 13, 17, 1, 2, 3, 4, 5, 8, 8, 7, 6, 9, 10, 12, 13, 10, 11, 5, 3, 11, 1, 2, 5, 8, 10, 1, 2, 3, 7, 9, 15, 8, 2, 3, 4, 8, 4, 8, 1, 2, 5, 10, 12, 19, 19, 16, 11, 5, 11, 14, 11, 9, 13, 9, 16, 13, 12, 8, 11, 8, 5, 4, 1, 12, 4, 12, 3, 11, 4, 12, 18, 12, 5, 7, 6, 8, 8, 16, 5, 1, 20, 12, 4, 13, 8, 9, 3, 20, 2, 1, 2, 3, 11, 18, 1, 2, 4, 7, 20, 17, 7, 12, 8, 9, 18, 19, 10, 1, 2, 3, 4, 5, 10, 3, 5, 10, 18, 1, 2, 3, 7, 1, 2, 3, 4, 5, 8, 10, 11, 6, 3, 11, 17, 3, 5, 8, 5, 3, 14, 1, 20, 1, 7, 1, 2, 3, 7, 10, 13, 19, 6, 14, 15, 11, 3, 5, 3, 1, 19, 12, 6, 1, 5, 1, 12, 18, 18, 5, 2, 5, 7, 15, 12, 1, 2, 5, 11, 19, 2, 7, 15, 16, 3, 11, 4, 3, 17, 6, 2, 3, 7, 9, 1, 2, 2, 8, 14, 9, 4, 14, 4, 10, 18, 2, 3, 11, 5, 18, 20, 14, 8, 14, 15, 13, 17, 1, 2, 14, 14, 14, 13, 1, 2, 3, 14, 9, 9, 6, 16, 3, 9, 13, 4, 18, 1, 2, 5, 2, 18, 1, 2, 9, 12, 16, 6, 8, 2, 16, 18, 2, 15, 16, 4, 5, 11, 2, 10, 13, 9, 11, 16, 1, 2, 3, 4, 15, 4, 5, 10, 12, 9, 8, 12, 2, 9, 20, 9, 11, 15, 5, 2, 9, 10, 11, 13, 2, 5, 6, 6, 1, 2, 4, 5, 5, 12, 4, 17, 13, 1, 2, 11, 8, 19, 1, 2, 4, 5, 7, 20, 15, 1, 2, 3, 13, 5, 7, 12, 15, 20, 9, 13, 16, 17, 7, 1, 5, 11, 15, 17, 2, 5, 11, 13, 1, 8, 15, 16, 8, 15, 2, 9, 1, 2, 3, 4, 8, 13, 17, 18, 20, 15, 4, 11, 11, 11, 1, 2, 3, 9, 16, 11, 11, 16, 17, 1, 4, 12, 13, 1, 8, 11, 2, 20, 1, 3, 4, 5, 11, 14, 17, 2, 1, 3, 20, 5, 11, 8, 8, 11, 7, 8, 1, 2, 3, 7, 11, 12, 8, 8, 15, 8, 15, 20, 14, 4, 11, 7, 4, 16, 15, 14, 11, 1, 2, 4, 8, 14, 13, 10, 9, 10, 13, 1, 2, 3, 4, 16, 1, 5, 10, 11, 9, 2, 3, 5, 2, 7, 17, 5, 2, 3, 5, 9, 18, 2, 3, 4, 5, 16, 20, 4, 7, 10, 4, 16, 17, 20, 11, 19, 3, 12, 7, 6, 5, 12, 4, 5, 10, 11, 12, 20, 12, 16, 3, 4, 4, 5, 13, 3, 3, 4, 15, 7, 1, 2, 4, 5, 7, 12, 13, 20, 13, 12, 8, 7, 10, 5, 20, 3, 1, 4, 13, 1, 3, 4, 14, 11, 1, 2, 9, 13, 2, 12, 3, 3, 20, 1, 6, 20, 5, 8, 18, 7, 8, 3, 15, 17, 17, 11, 5, 6, 4, 15, 16, 2, 3, 4, 5, 9, 12, 1, 2, 4, 5, 10, 12, 10, 16, 1, 2, 3, 1, 2, 3, 7, 14, 19, 10, 4, 3, 11, 16, 14, 5, 10, 12, 15, 1, 2, 3, 4, 7, 2, 4, 5, 13, 13, 1, 4, 15, 1, 4, 5, 1, 3, 2, 1, 2, 3, 7, 1, 2, 3, 7, 15, 1, 2, 10, 10, 6, 1, 2, 3, 4, 8, 10, 18, 11, 2, 3, 9, 13, 17, 13, 16, 14, 19, 2, 3, 11, 12, 11, 13, 14, 13, 15, 10, 3, 1, 2, 4, 7, 2, 7, 1, 2, 3, 4, 17, 17, 17, 4, 10, 12, 9, 15, 1, 5, 8, 11, 14, 17, 5, 5, 1, 5, 8, 10, 11, 1, 2, 4, 5, 9, 10, 12, 15, 18, 4, 5, 10, 2, 11, 20, 12, 14, 2, 5, 13, 17, 7, 4, 5, 4, 20, 4, 4, 2, 5, 7, 4, 18, 12, 18, 2, 8, 20, 4, 8, 10, 16, 1, 1, 2, 3, 4, 8, 9, 16, 16, 1, 2, 3, 9, 3, 1, 2, 3, 16, 1, 5, 14, 16, 4, 16, 2, 14, 6, 18, 10, 18, 3, 7, 1, 3, 2, 4, 5, 7, 1, 2, 3, 4, 10, 15, 17, 2, 3, 4, 7, 17, 2, 1, 2, 3, 19, 1, 2, 3, 7, 4, 19, 19, 17, 1, 2, 3, 5, 7, 8, 9, 11, 13, 15, 17, 18, 20, 2, 3, 8, 11, 14, 17, 11, 2, 4, 3, 14, 7], \"Freq\": [0.9988962180284634, 0.8100659636656183, 0.17653851346092098, 0.012290656000443864, 0.9985706330337165, 0.9987382308376195, 0.997629283623708, 0.9965784480531718, 0.8561245202616226, 0.1418720633576403, 0.18577933190186344, 0.8123292355708931, 0.9941767814058295, 0.9970426189083598, 0.9922977103947769, 0.9969049375324796, 0.260700281353209, 0.3731807223407584, 0.05832319162317376, 0.06490099518969711, 0.2032541302055717, 0.01512894820300372, 0.02455713331502053, 0.9903814506658769, 0.30761118580825225, 0.1523858489696265, 0.5395026951098578, 0.9955788554948838, 0.9867232295246593, 0.2690693905232113, 0.7259796763173437, 0.9961999154010257, 0.9944351330010085, 0.9940044068009843, 0.9921282832810877, 0.07017245053435903, 0.8914500197513018, 0.03725204164169677, 0.9978726822251583, 0.9996794667166992, 0.9957087839023319, 0.9988008395294782, 0.2521535737560623, 0.7463745783179444, 0.8934835342142987, 0.10409516903467558, 0.9969649246151792, 0.4366563704951574, 0.12053535227210074, 0.08642157332716657, 0.03638803087459645, 0.027291023155947336, 0.06367905403054379, 0.22628806700139667, 0.9981597726977272, 0.9950491758272669, 0.9993858066419942, 0.032740301387925094, 0.96350029798751, 0.9982417592438793, 0.07976909222112127, 0.03589609149950457, 0.2632380043297002, 0.6182104647136898, 0.8877667776466023, 0.10268304673893143, 0.009358788598798629, 0.9975080391596962, 0.9940811246810632, 0.9962550556270675, 0.9882144396386844, 0.0765233163587914, 0.0765233163587914, 0.8457840229129575, 0.9983586400251586, 0.9930345578511802, 0.9951284217905628, 0.9972682323667708, 0.9967876878859806, 0.9109068279107899, 0.08823244854251854, 0.01690277271767061, 0.9803608176248954, 0.01497312677135146, 0.9122089540700274, 0.07141029690952234, 0.9999902100216012, 0.9965047179707972, 0.9946919598514247, 0.994437859751135, 0.9923254912507983, 0.6208917694714687, 0.37733753945779863, 0.9967224490640931, 0.9967750547141848, 0.9945397241623688, 0.9904827152393453, 0.460304149694489, 0.5395897996688638, 0.9991281958131643, 0.35840334560759873, 0.37584389770529214, 0.26553240568738157, 0.9988481859792724, 0.9989480377569296, 0.18135084791295275, 0.06755014804811327, 0.42964328398169344, 0.32071106325545673, 0.9883560458525814, 0.13127749302936464, 0.10559276613231504, 0.7619802312791382, 0.4150537895337907, 0.5810753053473069, 0.9985344994059225, 0.0176251184397387, 0.9630868290285789, 0.0176251184397387, 0.9926106514437086, 0.9921607323792944, 0.3876764394477699, 0.3121123876910012, 0.22734923398123455, 0.07162157949119817, 0.9975167490751693, 0.9969772402096674, 0.9956818248996974, 0.9896380995620958, 0.9903182420556252, 0.9678252209732388, 0.02889030510367877, 0.9914260547216706, 0.9958809315826288, 0.9950763812138653, 0.9943147391252536, 0.9885002594419678, 0.9965111440963591, 0.9923461954841098, 0.9951685950774024, 0.993122182421429, 0.24935685982514866, 0.07423601170367021, 0.16560341072357201, 0.04663544324974154, 0.36927657103876976, 0.09422263023927373, 0.8796859886595879, 0.11880816513505928, 0.5662932050639998, 0.4294920375485392, 0.9970889488346668, 0.9939040502181136, 0.9995484769998977, 0.8926709464170816, 0.1070845187738233, 0.6017645170227983, 0.3980616215088697, 0.9939586868151512, 0.21978745189410917, 0.25405352707130097, 0.24643884369859168, 0.003461219714867861, 0.2415931360977767, 0.034266075177191824, 0.990444006248893, 0.0825622113900754, 0.6604976911206032, 0.253071126217405, 0.9976948366944015, 0.9922353829463962, 0.9913649433790733, 0.9944597443837044, 0.9995631736910852, 0.9694641301786502, 0.02981437612030703, 0.3940678368346694, 0.4156833721884698, 0.18955161771794224, 0.20059641046734752, 0.5840535731595027, 0.03241344437429701, 0.1822491778026511, 0.0006115744221565474, 0.9962325148317445, 0.11803612313627775, 0.12747901298717998, 0.03305011447815777, 0.7176596286685687, 0.991819464213005, 0.9909074126607926, 0.20850970739452243, 0.03942410433930046, 0.4827262553545456, 0.012265276905560143, 0.022778371396040265, 0.23479244362072274, 0.9954209545792614, 0.9937325251703538, 0.22087363155442538, 0.5257752751132517, 0.25208403601320284, 0.9972158994009164, 0.9964825048955479, 0.9982543713285316, 0.6165237970327044, 0.3823545210084131, 0.9988011594002659, 0.9915855629334973, 0.99634063913793, 0.9993939437702253, 0.9979089150487269, 0.9974764675969691, 0.9967825832517547, 0.9971987618659044, 0.9923351816839563, 0.9978017927779765, 0.9892912027309649, 0.9936660894466548, 0.9341706970347496, 0.06546395914749471, 0.9964409719169426, 0.041712943559607175, 0.9564182059024217, 0.9982349881188713, 0.9966461911016556, 0.9956279469945275, 0.9985118892948913, 0.9981571388099599, 0.9946337180311109, 0.47196945995127204, 0.2546439876946398, 0.2722056420184081, 0.9943027179530658, 0.9988610331345757, 0.19490122541155686, 0.004109363186388247, 0.6991787935697718, 0.01643745274555299, 0.08512252314661369, 0.9932114118957609, 0.10889555141516234, 0.886720918666322, 0.07486875342162089, 0.9233812921999909, 0.9941462873796203, 0.9966941643245181, 0.5693002968326425, 0.42385861516006956, 0.9948726764653547, 0.9986346062408135, 0.9939301119421715, 0.9965849577216805, 0.9800150643983077, 0.017022594170690207, 0.9920661968135863, 0.9978707753040684, 0.9925918287308336, 0.021477668756825555, 0.9020620877866733, 0.07517184064888945, 0.9974155227490562, 0.16948932083879512, 0.7490566170968784, 0.05314495653419846, 0.02729065335539921, 0.9972579184008878, 0.9933768548021864, 0.9977170870115081, 0.32754481383275624, 0.08537072275428222, 0.45472976814015625, 0.13066947360349318, 0.9974700246761353, 0.13925168069144012, 0.34547172690624456, 0.04570856694451851, 0.08078723459961411, 0.008503919431538328, 0.1998421066411507, 0.17858230806230488, 0.9964962522787911, 0.9931265608474935, 0.9965569779348016, 0.4364502692261212, 0.25083348806098915, 0.07525004641829675, 0.23578347877732983, 0.9967302836242193, 0.049214158822493026, 0.949423147283928, 0.33924216235414173, 0.12078870896971847, 0.5223295523014853, 0.017410985076716175, 0.9963060465645048, 0.9951546434296217, 0.1997293378563125, 0.5318374228964601, 0.26707992852879, 0.996463593080753, 0.2506769233307351, 0.2672050721217726, 0.48069366067267333, 0.9959598344642353, 0.9972011346918523, 0.9976613253067456, 0.998217849642697, 0.9949563625725754, 0.9948231600320391, 0.9858470044843589, 0.0025459050218354915, 0.0025459050218354915, 0.0025459050218354915, 0.0025459050218354915, 0.005091810043670983, 0.0025459050218354915, 0.9750816233629933, 0.005091810043670983, 0.2839909984545876, 0.1923393580442434, 0.14328636740208736, 0.09939684945910565, 0.27882752575541325, 0.9920885449392456, 0.9932034705744395, 0.9939216950788241, 0.9915308536555527, 0.9920075727938644, 0.14214009902709773, 0.38268488199603234, 0.09111544809429342, 0.27607980772570906, 0.1066050742703233, 0.0927190277045944, 0.33097171914804585, 0.23121073997221642, 0.04812000172010596, 0.29576196179187075, 0.9974311568060454, 0.051452423783357765, 0.7420204917517298, 0.00850453285675335, 0.061657863211461786, 0.13649775235089126, 0.9960550523048564, 0.9836474843663643, 0.44505293903227344, 0.42775406154338647, 0.125810018100996, 0.997561042645479, 0.9948512836326084, 0.9930199719142915, 0.995954263676715, 0.9945862031442945, 0.4147778559042242, 0.2721979679371471, 0.2802990979352765, 0.03240451999251751, 0.7598131729485912, 0.23744161654643475, 0.9021034514698112, 0.09252343091998064, 0.3990484014532752, 0.24921413577350135, 0.35012292694559394, 0.9961553990301236, 0.9932561706139067, 0.988475353065119, 0.996011565140193, 0.18565256053473886, 0.2943272301160494, 0.5184687361275024, 0.9964249479186742, 0.3000586734985672, 0.6981853037015441, 0.997613997642413, 0.45244550801986366, 0.5466196861597448, 0.9975969031918176, 0.9888441307010701, 0.9974668077469556, 0.9972366570403113, 0.9585582619042976, 0.03937206131044508, 0.99479758201102, 0.935648482681823, 0.06302295479203988, 0.9988638140189514, 0.9093663185032848, 0.08895974854923437, 0.9255349638043832, 0.0731122772125545, 0.862416744704696, 0.022371381185595226, 0.046979900489749975, 0.06599557449750593, 0.9949793912883527, 0.1891470208325426, 0.20142929491257783, 0.6067443395537405, 0.2028187762649755, 0.002870077022617578, 0.7129271324182064, 0.0811275105059902, 0.0001913384681745052, 0.997517394064406, 0.996355369736065, 0.996035236041249, 0.9977200689663728, 0.9959920945251705, 0.9965115699189648, 0.9961404642649992, 0.9918769262262557, 0.9935182527190928, 0.3224927851928946, 0.6770405761429142, 0.18831116128416683, 0.8099519834779221, 0.9979772638840305, 0.30164915615837556, 0.29298107695842224, 0.4039324907178248, 0.9968116124346891, 0.994189293081704, 0.9968516076769787, 0.9910076427598237, 0.9968482383978455, 0.9916703599917734, 0.9919393003031346, 0.9975732914647495, 0.6839933319087349, 0.3134969437915035, 0.3491022857235967, 0.5035800471562882, 0.1466229600039106, 0.9919048678213405, 0.9979395725518547, 0.9986367463864225, 0.9949007626932304, 0.9979719161830378, 0.9984601679769741, 0.846078579849377, 0.1476646578039007, 0.9945343475955594, 0.9355170345702002, 0.06050607686274926, 0.9957056192196154, 0.983789807606491, 0.1433396661258293, 0.7435745180277396, 0.10750474959437198, 0.24115806437857687, 0.4672437497334927, 0.013565141121294949, 0.2788390119377295, 0.9896805635809774, 0.9961002961942675, 0.9947549148049848, 0.09977643781867306, 0.270730971406081, 0.6256681721814243, 0.0009532780683312712, 0.00254207484888339, 0.8928941168706488, 0.08688184255599513, 0.019888614561010935, 0.9965894973037224, 0.9380313816887114, 0.06131444515282748, 0.9968853732691757, 0.330548491735647, 0.666221766288901, 0.25834289632061286, 0.737587689495083, 0.9837608671037079, 0.014646563778218977, 0.7979793473619647, 0.20142099388584767, 0.9972630811363125, 0.995283349548936, 0.9984029456453357, 0.12036755165732374, 0.8784719559552049, 0.9958920569142534, 0.13464488666710692, 0.8467358852261362, 0.016657099381497762, 0.9939471423926316, 0.9912868195764499, 0.9965774381646149, 0.47295394490169984, 0.525504383224111, 0.9480026641409337, 0.051183242430144306, 0.3151800836645054, 0.0663537018241064, 0.6161415169381308, 0.9878153148134359, 0.9975810741981536, 0.9941013784048772, 0.30813460813259397, 0.13281664143646293, 0.5578298940331443, 0.9954182895492217, 0.9933855425592758, 0.2140637643288626, 0.32092273553664696, 0.2189052711149758, 0.039423698115493275, 0.02351589010397844, 0.05048999934089489, 0.08126814962404315, 0.04530267064148788, 0.00553315061270081, 0.9971533803279808, 0.10031163961152309, 0.7280683520191192, 0.16826468579997422, 0.6049493714881222, 0.06541615227401322, 0.22985675523804644, 0.06061496678601225, 0.03900963209000788, 0.9986331249718513, 0.6179197322165073, 0.03131349994340409, 0.3486236327032322, 0.20274490256935804, 0.7937978388732493, 0.988369311591751, 0.0064599301411225555, 0.9977930915572788, 0.9953173443134614, 0.9952753432160611, 0.9885070338741484, 0.9906403058973258, 0.9926628627135339, 0.9939036029182589, 0.9929787982435212, 0.9950185538515374, 0.9949996364424731, 0.9911396968339071, 0.10769520527011217, 0.163465936570706, 0.7269426355732572, 0.99912928941984, 0.9969264138270216, 0.9950860814782896, 0.993888208678246, 0.9895404159306619, 0.9948713901088005, 0.9963282720055103, 0.9703724355256858, 0.02933684107403236, 0.9950578825906378, 0.5469786887304195, 0.38381909054455804, 0.06917499958863897, 0.9908542407374757, 0.9948729494463915, 0.9964830550108503, 0.22956434943987603, 0.4055826719632549, 0.364568693899555, 0.14457567670456856, 0.8422954800142207, 0.012923928191707559, 0.9978989041876124, 0.9994734712529666, 0.98880241199657, 0.6045013914559312, 0.06830939174410887, 0.27672648752250556, 0.009915879446725482, 0.04058165477270984, 0.9986471515262446, 0.9943883820728634, 0.9243597210746343, 0.035508242073498966, 0.04008995072814399, 0.9930639829377839, 0.9868584508336593, 0.9864805104531933, 0.9989755055523799, 0.19991442826764144, 0.7974608512214708, 0.20080835592782148, 0.1355048255447901, 0.6628308333877684, 0.5290151825848295, 0.13432026120317936, 0.32288524327687346, 0.013432026120317936, 0.9955484648502813, 0.21415615570766028, 0.7831996551594432, 0.9989081365927274, 0.9938585313092962, 0.9890125670782731, 0.9961892853367671, 0.9965204464422708, 0.9941572294540663, 0.9985400785765625, 0.007908370122713901, 0.9909187763760519, 0.9976007801973029, 0.9931291573145875, 0.9951498716430031, 0.9982990369797025, 0.5000385199763867, 0.4993554072441786, 0.06709503431889653, 0.9297454755618518, 0.9983275428703249, 0.9983067175772741, 0.8349558873527644, 0.1596728390156681, 0.9895755824729269, 0.9949468787106758, 0.9987403819848821, 0.9946943264774813, 0.5561784505001753, 0.06266155240010199, 0.07729782741326449, 0.2401263869346974, 0.06357631958842465, 0.9899925442817352, 0.9970644725193958, 0.9954428375021138, 0.4313655003845467, 0.061520247538064544, 0.07020545895520307, 0.06369155039234918, 0.032569542814269464, 0.033293310432364345, 0.0694816913371082, 0.23811954635321453, 0.9911783267881648, 0.3358821411450233, 0.3802439333717245, 0.282014250584029, 0.9876528527704128, 0.9984308367659209, 0.9960639522584873, 0.9955194868228064, 0.9964966130687514, 0.9976397301000902, 0.9940482335123311, 0.99425850569992, 0.9922840886240123, 0.9846725777555592, 0.015182715697797729, 0.34240184912375077, 0.6558172983216813, 0.31434524469099545, 0.41499766294180684, 0.027872977361763144, 0.24156580380194725, 0.17397342688925727, 0.7599508689221113, 0.06551300594156131, 0.9932124785683094, 0.6219398125909431, 0.37716028795675666, 0.9968050493513123, 0.9976628537239116, 0.9977553518450912, 0.9958018994641863, 0.9958376345602448, 0.9947882356870301, 0.9985965767315894, 0.24014254177964897, 0.7584990039137693, 0.0009761891942262153, 0.997416279752331, 0.9928968239139595, 0.9979643620385144, 0.8138795566962218, 0.1819015612028593, 0.0031183124777633023, 0.17865389132968296, 0.7800303747594466, 0.004397634248115273, 0.021988171240576365, 0.014292311306374638, 0.09801338528074816, 0.24869067907055503, 0.6524473109733385, 0.06375591228361911, 0.7436638527680536, 0.16101858138782635, 0.031179898708047302, 0.9938885806664702, 0.9634720168142307, 0.03499791514068787, 0.9928917073488427, 0.9950001295932629, 0.996492505284184, 0.9876436006962841, 0.9910653242066194, 0.9971175852640174, 0.996898200170063, 0.9985562800014253, 0.9908480968497467, 0.9978654261984391, 0.99887892741232, 0.7945243156267913, 0.02050385330649784, 0.1717197714419194, 0.011960581095457072, 0.9970315999153273, 0.9956573708347929, 0.997131553759435, 0.47614561002842615, 0.5216899727267974, 0.9980100387142358, 0.9895036057775106, 0.9991408089837382, 0.9971642979361794, 0.9986262693102205, 0.6387005140555284, 0.36040957578847677, 0.9972120976578112, 0.9939588837687936, 0.4296783049005266, 0.07776176153163057, 0.46081043870595895, 0.006720152231128569, 0.02482341946600553, 0.9930334630427732, 0.9972866556015637, 0.9923753859253975, 0.18800878563984258, 0.8086642948605277, 0.9896800322961954, 0.997844956349836, 0.2668507807094458, 0.21531307628058288, 0.11796407902606401, 0.01946979945090377, 0.07673391548297369, 0.011452823206413982, 0.04924713978758012, 0.24279985197597642, 0.9956998235903222, 0.9881619097211038, 0.9945082500705369, 0.997950377850185, 0.3177307861558669, 0.6815095123343232, 0.9967642945979949, 0.9894251192921568, 0.9976989402483958, 0.994221734696772, 0.9674754938389758, 0.029516201506951806, 0.9921734947334404, 0.9961720490145662, 0.9835308524803593, 0.1656609549078354, 0.03549877605167901, 0.791622705952442, 0.007099755210335803, 0.1773634768803475, 0.37950567479544944, 0.06520716061777482, 0.3273399463012296, 0.05086158528186436, 0.9985179117925845, 0.9941223870967495, 0.17824045351542994, 0.4112381623428102, 0.4101206673364438, 0.10589531018279735, 0.8919069787227157, 0.8946628180913724, 0.08278535816754581, 0.020333245865713008, 0.9974717976209833, 0.9800921824768436, 0.019853210916789776, 0.8818592575467757, 0.037422071814715574, 0.08053880673167048, 0.9973763410083469, 0.9931272652492901, 0.9943052730802063, 0.6091057295410266, 0.3076115018629001, 0.0830201496504986, 0.9961511229578297, 0.61413779709154, 0.3855629932660589, 0.1805960467971791, 0.29445007629974856, 0.5241211358135525, 0.4495912961884886, 0.032896924111352824, 0.23027846877946978, 0.2851066756317245, 0.9885010046410398, 0.9960987491855094, 0.9988885406256357, 0.9982419089025464, 0.9010768539025085, 0.09594799833221154, 0.9939616056330296, 0.9994618582560076, 0.9942229578028021, 0.24984109665927723, 0.36608295426285675, 0.3809857565197259, 0.0029805604513738334, 0.33194882534195586, 0.5488917584394546, 0.013068851391415585, 0.06926491237450261, 0.03659278389596364, 0.10653176927445886, 0.610398245572575, 0.22781962821193397, 0.0014396185037089035, 0.053625789263156656, 0.9959001684020007, 0.996817631841305, 0.9953110587051558, 0.9899525768858607, 0.394461132789935, 0.037825040130541714, 0.5673756019581256, 0.9960954477337406, 0.020310562861703966, 0.9749070173617903, 0.9981419532617595, 0.9985857146926974, 0.9996823542015906, 0.3031485186375682, 0.5848351952476979, 0.07265727769705727, 0.02749798509765552, 0.011848725285981647, 0.07791939571143033, 0.7078041197027135, 0.20720465004827285, 0.003047127206592248, 0.003482431093248283, 0.9981346473559076, 0.9959051573948012, 0.16889417844075927, 0.19141340223286052, 0.033778835688151855, 0.6035151976283132, 0.9969682106485879, 0.9957386371321755, 0.9987715601576549, 0.19454270274973579, 0.48998929696717686, 0.31482014137924047, 0.9948514377887715, 0.9946789532956072, 0.99371237007137, 0.9960119323512479, 0.9920602698549256, 0.0978841846667565, 0.6991727476196893, 0.20276009680970988, 0.9965049981166975, 0.19262775545056715, 0.8047559561045916, 0.9941714961088821, 0.9955828226037009, 0.9956952426578166, 0.9975402627136996, 0.9940660703064415, 0.9928763264511757, 0.9958928234131235, 0.996261102090132, 0.9983026119333961, 0.6107614519602909, 0.3869420378878861, 0.9982502930476652, 0.9968329127875688, 0.9086330381410826, 0.08995075987336398, 0.970376767867154, 0.027874377532988263, 0.9901970850852474, 0.9940991380554037, 0.9955792756214403, 0.9957827798524657, 0.9911490858684429, 0.9970990081767911, 0.9926931128871795, 0.9979623096111963, 0.9985721644594663, 0.9973000915369651, 0.9957702590023372, 0.9952264154275288, 0.9967498979420846, 0.996143687996996, 0.8396249523908966, 0.1588479639658453, 0.99947076706176, 0.9810521207316099, 0.9973992070017104, 0.5558275610683583, 0.15602797863217444, 0.287997221330136, 0.12928118637555444, 0.8680308228072942, 0.0860402269985648, 0.8104268087948647, 0.06852305503478513, 0.022154070424780157, 0.012365062562667993, 0.9929186640935428, 0.9937753296725418, 0.996872133580241, 0.6944502418724539, 0.30429744557791405, 0.001086776591349693, 0.9830304456009511, 0.9970372580246193, 0.5839394031695838, 0.09523080985093894, 0.06338513710335807, 0.13963102666246996, 0.01684146154920142, 0.10074256090340486, 0.9959665473089455, 0.8552081772054274, 0.144251981697301, 0.9950736161087738, 0.1764583742345638, 0.04028962879922121, 0.736433215013613, 0.04589957711303682, 0.4361807389066621, 0.1749183532941983, 0.003504739319191587, 0.012425893949861083, 0.20104459185544468, 0.037277681849583244, 0.10641663023727183, 0.027719301888151644, 0.9908000891541944, 0.33630325525851856, 0.49765105980451296, 0.16329175399835583, 0.39997032281356565, 0.34444124379115915, 0.2543070865373979, 0.997351427954982, 0.9932136442377101, 0.9980671387401685, 0.9988021468339515, 0.9885422262117362, 0.9998551932161001, 0.9978963722379542, 0.24308353358686663, 0.024062814435871646, 0.7323812220264914, 0.0004296931149262794, 0.9938180765489117, 0.9756750818702988, 0.020612853842330258, 0.9954223657730441, 0.9933721115214209, 0.9972976438807237, 0.9980142777981105, 0.2646698928685149, 0.7347060511578276, 0.9954507369791237, 0.9988250003771613, 0.9959350329351586, 0.9961000275422853, 0.9903894093067203, 0.9975596845604456, 0.0023334729463402237, 0.9964550425550068, 0.992068253123202, 0.9868656279303459, 0.9968198713777072, 0.9980792314619087, 0.3431035555656871, 0.6556118896159626, 0.9954611070154641, 0.9917847012196914, 0.9946056652989607, 0.13284124710132003, 0.6754852093170897, 0.12970819882062853, 0.05764808836472379, 0.004386267592968115, 0.9963951182134663, 0.9966440728020994, 0.9974037812034618, 0.998766815934561, 0.5436258386961589, 0.45607560999228314, 0.9987535614985318, 0.9973388907703854, 0.9918425993506733, 0.9812290556971386, 0.3503967610735511, 0.5966054518674595, 0.034861407546040134, 0.01802493231073666, 0.17469860412672156, 0.8243590382229673, 0.39083641740553837, 0.07374272026519592, 0.5334056765849171, 0.9976865690515517, 0.9990744276568924, 0.994387337010327, 0.20117362115258106, 0.6979743319257233, 0.09936014215462845, 0.9954525393490612, 0.35197766423397703, 0.6446332502262726, 0.9970540049213471, 0.8990911696752546, 0.09381820900959179, 0.99639377250261, 0.9931983366319904, 0.49781896243460544, 0.5004669356390449, 0.9945047757469833, 0.9922684547850514, 0.14741197219447316, 0.11869535423451086, 0.7332309785777041, 0.9987826954166654, 0.996552724456107, 0.9965520613965598, 0.08306160109043371, 0.6516842440693374, 0.21231166260031423, 0.052398673585086694, 0.9989599922918143, 0.9984285197754877, 0.9963582350117444, 0.9938351265905033, 0.15567330353995942, 0.15255983746916024, 0.6911894677174198, 0.9980186795653881, 0.9883884816666995, 0.36087817016732454, 0.3792668667363602, 0.25935724119244025, 0.9961446794575815, 0.9879599256271391, 0.33566706704395555, 0.1761093487844027, 0.08606847872921937, 0.34957043668482946, 0.05164108723753162, 0.9881587209171457, 0.9962157236123669, 0.9795152073114861, 0.0016083993551912743, 0.016083993551912742, 0.9995290881870788, 0.04822966518788028, 0.9453014376824534, 0.19660088834646358, 0.04694946587378235, 0.7551039094699994, 0.9973390407818447, 0.9961655413067876, 0.996689344472003, 0.8555917144078771, 0.1421341284521229, 0.9976139424603061, 0.40555049261508747, 0.16202139778494914, 0.07720037972166288, 0.3548566810382015, 0.9978012541260537, 0.2689782329473489, 0.7139698717865113, 0.003718593082221413, 0.013015075787774945, 0.9929842627209857, 0.3206403873847093, 0.6775436757236417, 0.998050179373957, 0.2059692909863335, 0.7935875623296967, 0.9987405179513477, 0.10015633344311145, 0.8974007476502786, 0.9959369650778271, 0.08133623346424794, 0.7558847296610776, 0.16158798381563924, 0.742621320193108, 0.2549666532663004, 0.9971507467245997, 0.9974255450347203, 0.984931899056263, 0.9909987762514094, 0.35890079858680013, 0.6321955184687647, 0.0046563975864554906, 0.0039400287270008, 0.9951574357674756, 0.9979607653949802, 0.9972026322168189, 0.9931728960851794, 0.9919814086293323, 0.19710270345789746, 0.8022568715125166, 0.9948244378759242, 0.9516034175440582, 0.043406471677448266, 0.39345281557644024, 0.5060750588556916, 0.06138637294620136, 0.007733716276686786, 0.013050646216908952, 0.01740086162254527, 0.9973080804872893, 0.06333849107131477, 0.8272390803556564, 0.10812328273790096, 0.9895735413360124, 0.506817511849737, 0.14089947424868204, 0.05047145346221447, 0.27654150542838346, 0.0241842381173111, 0.994330842307992, 0.08395001761966166, 0.8628196255354115, 0.04663889867758981, 0.9984051696288695, 0.9353818448146215, 0.010694443305352961, 0.005729166056439087, 0.02520833064833198, 0.022916664225756347, 0.3772628553974496, 0.26548126861302007, 0.04890444421818791, 0.3062349721281767, 0.25908993324689994, 0.4689410556504976, 0.27081345963816233, 0.9966549970107891, 0.9954927289606362, 0.9932582569786043, 0.9982473423932703, 0.992676476999217, 0.09096917623649171, 0.2053698069581404, 0.22190965718295708, 0.01516152937274862, 0.12267055583405702, 0.07029436345547087, 0.04824122982238197, 0.0220531336330889, 0.20261316525400427, 0.9977923411322397, 0.13250389024483653, 0.8666470659256874, 0.9956795903384935, 0.9974255447401261, 0.17398605491379768, 0.11610159304955141, 0.439788842439848, 0.269794819378757, 0.9980620236810253, 0.9944022276664423, 0.522978651747309, 0.07293239701237983, 0.40201760304384976, 0.996927957586185, 0.001613152034929102, 0.8656498347357279, 0.12947753938354903, 0.5069251136163044, 0.49140699789335635, 0.9931332458291346, 0.9820320733831357, 0.01711315945573829, 0.34630220503610626, 0.07722701755500022, 0.4194646427197907, 0.09064013113034237, 0.0044710378584473815, 0.04227163066168434, 0.018697067408052687, 0.9976132255104467, 0.10949821280604212, 0.8904426792002349, 0.9871210973347941, 0.4433699472359741, 0.5559579850183376, 0.9953176616021161, 0.9185901103525991, 0.07845609483438569, 0.992799703748316, 0.9955603189546731, 0.0007240785284943578, 0.18362631482616915, 0.7505798026372513, 0.06487743615309446, 0.12775751908993294, 0.8697338799583897, 0.9979474428206164, 0.10000643106731602, 0.8988077992175028, 0.11245787754010651, 0.884994601511273, 0.9905079020940796, 0.9981666322933472, 0.9990451726059024, 0.9952701859378474, 0.9945735956052231, 0.9974609100690516, 0.9934487419229628, 0.9958817638995267, 0.998317286255952, 0.9950762786707997, 0.43216662299400344, 0.337501553195317, 0.0559758673592233, 0.014817141359794405, 0.15887268235779556, 0.9888749081079266, 0.9952419984848507, 0.1144030287482389, 0.7261090191980061, 0.15642863114555114, 0.19131810651238268, 0.23260491487531432, 0.5638018256774108, 0.012182992631684746, 0.9922282035978954, 0.16880135325273068, 0.07800668597285282, 0.04731553083599269, 0.7046177700170804, 0.997164717271367, 0.006931653934724019, 0.14903055959656641, 0.8435822838559132, 0.9852428325386954, 0.011927879328555635, 0.9979606147476151, 0.9993799155302086, 0.0054443770001402535, 0.14482042820373076, 0.7110356362183171, 0.10235428760263678, 0.03484401280089763, 0.20553918095609341, 0.18672712032621366, 0.4027174460766847, 0.08430590134131288, 0.012541373753253158, 0.10799516287523551, 0.9983871826507857, 0.9960279885937574, 0.9934240585967398, 0.12378110975454996, 0.8718495556624823, 0.1223533820764215, 0.8687090127425926, 0.9935473064114165, 0.9931673496505685, 0.9965824179340561, 0.9971141149455555, 0.9953489672603131, 0.9912867095618192, 0.9672820565681836, 0.030227564267755736, 0.5327152081054107, 0.0050414688464234456, 0.04201224038686205, 0.09074643923562202, 0.14620259654627993, 0.18149287847124404, 0.9936982604271679, 0.9947543371206737, 0.9680218142213104, 0.03006278926153138, 0.35847694677823044, 0.6411068780911338, 0.9956039081814166, 0.9950091377585348, 0.46221293290075816, 0.08179076590424939, 0.4527023787258454, 0.9926625196201503, 0.9146601843384705, 0.05473557008639666, 0.028808194782314032, 0.7778776737657224, 0.06977327013171328, 0.0009428820288069361, 0.12351754577370863, 0.027343578835401148, 0.9909892813381737, 0.9994171240783408, 0.993624047734059, 0.9984460733340632, 0.9972075460064266, 0.9960090977167875, 0.9974306331647566, 0.9985839559698082, 0.3361914133140958, 0.5104156092763485, 0.15233673415794965, 0.12206183033463254, 0.7888712178832147, 0.07142482648402079, 0.01758969607442303, 0.9972764316331728, 0.28403657513738734, 0.27823991033866513, 0.39003273145687883, 0.04720141336102355, 0.9982053875557444, 0.9978907847190663, 0.9951262990138525, 0.9969368836194894, 0.9841432591089724, 0.9969934839861276, 0.9946599530958412, 0.9935923114490309, 0.18562113877047778, 0.787699960679848, 0.026177340083016098, 0.27949188201226544, 0.7197277997932432, 0.9952995417212471, 0.9971370047670188, 0.9931263026063577, 0.9968746406570833, 0.995592192077974, 0.9983498186174752, 0.9964579902239727, 0.2610812680468147, 0.14918929602675127, 0.5855679869049987, 0.30723967799039487, 0.042419679406957865, 0.34117542151596114, 0.21452237871518692, 0.09392929011540671, 0.9983791661492046, 0.014494639673675236, 0.2011501015938604, 0.38070614816367404, 0.12631043144202705, 0.1973045849457425, 0.07986842269167987, 0.04176322436017434, 0.956757503523994, 0.15046127026381217, 0.12212196304907473, 0.7271807799740359, 0.0015723310536335134, 0.1399374637733827, 0.8372662860598459, 0.020440303697235675, 0.991683050153278, 0.9984091467182078, 0.9958431751480155, 0.9956849526612986, 0.9367142982672978, 0.06244761988448652, 0.9970514236199504, 0.9990119383345464, 0.3907696776158051, 0.45082114255008254, 0.15752630656672767, 0.994038764795864, 0.13884199196321373, 0.05270489213334458, 0.8047329052598733, 0.0007866401810946952, 0.002359920543284086, 0.991726060222449, 0.006370831221985754, 0.9954849882696049, 0.9926250859521482, 0.9954218248189686, 0.9965828220326305, 0.2358023898017644, 0.761662586527823, 0.6690508873233546, 0.14384594077452123, 0.1869160916459622, 0.1021936370159894, 0.8966380847750721, 0.9977460783906762, 0.298968801900612, 0.19629264771252303, 0.48952366452615353, 0.015099434439424847, 0.18269681501905075, 0.10611274866069997, 0.6787786776985171, 0.032195789090948466, 0.9910023469045632, 0.005214790337796006, 0.9508301049248051, 0.04171832270236805, 0.9963812263823084, 0.9916455229639028, 0.29703710825192936, 0.18469495835577074, 0.4516005628276046, 0.018785690628331162, 0.0476152158500275, 0.9930665192026864, 0.9947539556242204, 0.9944731872974999, 0.2888507258844255, 0.3855529254196462, 0.10298156314140387, 0.0577701451768851, 0.16451932648199885, 0.9943190761175318, 0.9898137419538185, 0.9954177973705979, 0.993316147759695, 0.10974951800450534, 0.11562895646903242, 0.7074924285647577, 0.06859344875281584, 0.6787891763153522, 0.08317179630741468, 0.23610058306620943, 0.9936616593164445, 0.9964552536088813, 0.9934085352282038, 0.9976245696677353, 0.059788407373228956, 0.8528852328903986, 0.025211979012807393, 0.06194943414575531, 0.2043581655147, 0.7940328721143688, 0.46711739488884935, 0.1822502379226765, 0.2596175680532621, 0.09096326262215292, 0.9985264641610556, 0.9976114346035431, 0.9970812777729411, 0.01684821813029047, 0.41067531692583026, 0.5707333891635897, 0.03656411918189702, 0.9611139899241502, 0.9218922687494919, 0.04594543993120445, 0.026851231128625978, 0.0023867761003223092, 0.0019889800836019244, 0.0009944900418009622, 0.9984894166066015, 0.9941572054669671, 0.6046879075363752, 0.018733876653450526, 0.34241363438806793, 0.015611563877875437, 0.01769310572825883, 0.27097632026647617, 0.1689796154470722, 0.28641718602804905, 0.04197305763357135, 0.03392640927894886, 0.15897567424943346, 0.03871090289521088, 0.9977140870386846, 0.9975862589793699, 0.13423459085199654, 0.7043856365326417, 0.16052796431785155, 0.42116602199945713, 0.0011570495109875197, 0.5762106564717848, 0.9981883671952549, 0.9952093656536656, 0.006363477428424983, 0.006363477428424983, 0.006363477428424983, 0.9608850916921725, 0.9953558111084446, 0.4940453472148317, 0.5045773216709618, 0.996794518842639, 0.9903687879138389, 0.9966321804528555, 0.9975801514533957, 0.8947984096972545, 0.06898225625419363, 0.03646204973435949, 0.9967473535597284, 0.9969787102599249, 0.9970676971832326, 0.9904326916992774, 0.42193090328358074, 0.5742948405804293, 0.9902697463956215, 0.1788448488780819, 0.2031324209479449, 0.028703494264383518, 0.5851096907739717, 0.9958571032923281, 0.4404713768423199, 0.05433852499363199, 0.4852046070138452, 0.019759463634047996, 0.9538202036427706, 0.041890752187013575, 0.996310876598009, 0.9956811970306757, 0.2557615831506994, 0.3903393737861049, 0.35366533131437117, 0.9977450634927654, 0.9958059568846152, 0.211894441574781, 0.26947081432495845, 0.5181873547515972, 0.9929250489415038, 0.3095311248379381, 0.0009157725586921245, 0.6886609641364777, 0.993811812275348, 0.9994563846963685, 0.9946200289476305, 0.17794951970010953, 0.8193954628051555, 0.9847719973181511, 0.9987236908363298, 0.9987505708820309, 0.9982533457639431, 0.5519359261748469, 0.4463933196022273, 0.96845276786918, 0.02954601664685634, 0.6341868054672424, 0.04918718760087196, 0.03344728756859293, 0.2833182005810225, 0.3791106044966482, 0.12043645762806213, 0.2556145601851942, 0.2163962217889892, 0.004728452147060176, 0.020860818295853716, 0.002781442439447162, 0.6468672086044973, 0.24242738165250813, 0.012417012230982124, 0.07509335968260618, 0.021877592978397076, 0.9962224383059157, 0.42817628255731444, 0.19834449402109888, 0.37114269249219745, 0.0022915281722591654, 0.8310579864094949, 0.13712871061891468, 0.013153584779911, 0.018539304532315504, 0.9979987399728069, 0.9946422819639675, 0.9937700738257189, 0.9956203225778272, 0.00526985581484125, 0.026349279074206255, 0.00526985581484125, 0.0105397116296825, 0.00526985581484125, 0.00526985581484125, 0.00526985581484125, 0.00526985581484125, 0.0105397116296825, 0.00526985581484125, 0.9011453443378539, 0.00526985581484125, 0.00526985581484125, 0.034380946721471094, 0.4267282210723765, 0.149658238669933, 0.20975266655284044, 0.14012402655389478, 0.039292510538824106, 0.9930860036704839, 0.9048661990219001, 0.09420843460253717, 0.9152973677160208, 0.08320885161054735, 0.9933324230267108], \"Term\": [\"_\", \"accept\", \"accept\", \"accept\", \"access\", \"advance\", \"advice\", \"aerospace\", \"agency\", \"agency\", \"ago\", \"ago\", \"ahl\", \"air\", \"alan\", \"algorithm\", \"also\", \"also\", \"also\", \"also\", \"also\", \"also\", \"also\", \"amendment\", \"american\", \"american\", \"american\", \"amp\", \"anaheim\", \"analysis\", \"analysis\", \"anger\", \"animal\", \"announcement\", \"annual\", \"answer\", \"answer\", \"answer\", \"anybody\", \"anyone\", \"apartment\", \"apple\", \"application\", \"application\", \"april\", \"april\", \"arab\", \"area\", \"area\", \"area\", \"area\", \"area\", \"area\", \"area\", \"argument\", \"armenia\", \"armenian\", \"army\", \"army\", \"arrest\", \"art\", \"art\", \"art\", \"art\", \"article\", \"article\", \"article\", \"associate\", \"astronomy\", \"atheist\", \"ati\", \"attack\", \"attack\", \"attack\", \"attempt\", \"audio\", \"authority\", \"auto\", \"automatically\", \"available\", \"available\", \"average\", \"average\", \"away\", \"away\", \"away\", \"ax\", \"azerbaijani\", \"background\", \"bag\", \"ban\", \"band\", \"band\", \"baseball\", \"battery\", \"battery_charger\", \"bay\", \"be\", \"be\", \"belief\", \"believe\", \"believe\", \"believe\", \"bible\", \"bike\", \"bit\", \"bit\", \"bit\", \"bit\", \"bitmap\", \"block\", \"block\", \"block\", \"blood\", \"blood\", \"blue\", \"board\", \"board\", \"board\", \"bolt\", \"bomb\", \"book\", \"book\", \"book\", \"book\", \"border\", \"bos\", \"boston\", \"bottle\", \"bounce\", \"boy\", \"boy\", \"bradley\", \"brake\", \"brand\", \"brave\", \"breaker\", \"brian_kendig\", \"broadcast\", \"brother\", \"buffalo\", \"build\", \"build\", \"build\", \"build\", \"build\", \"build\", \"building\", \"building\", \"burn\", \"burn\", \"bus\", \"button\", \"buy\", \"ca\", \"ca\", \"cable\", \"cable\", \"cal\", \"call\", \"call\", \"call\", \"call\", \"call\", \"call\", \"callback\", \"canada\", \"canada\", \"canada\", \"canadian\", \"canuck\", \"capital\", \"captain\", \"car\", \"card\", \"card\", \"carry\", \"carry\", \"carry\", \"case\", \"case\", \"case\", \"case\", \"case\", \"case_western\", \"catch\", \"catch\", \"catch\", \"catch\", \"cc\", \"cell\", \"center\", \"center\", \"center\", \"center\", \"center\", \"center\", \"chain\", \"channel\", \"character\", \"character\", \"character\", \"chi\", \"chicago\", \"chief\", \"child\", \"child\", \"chip\", \"chris\", \"christ\", \"christian\", \"christianity\", \"church\", \"cigarette\", \"circuit\", \"cirrus_logic\", \"citizen\", \"civil\", \"civilian\", \"claim\", \"claim\", \"clean\", \"clear\", \"clear\", \"clearly\", \"cleveland_ohio\", \"client\", \"clipper\", \"clipper_chip\", \"coach\", \"code\", \"code\", \"code\", \"cold\", \"color\", \"come\", \"come\", \"come\", \"come\", \"come\", \"comet\", \"committee\", \"committee\", \"communication\", \"communication\", \"comparison\", \"compatible\", \"compile\", \"compile\", \"complain\", \"computer_science\", \"computing\", \"concept\", \"concern\", \"concern\", \"conductor\", \"conference\", \"confuse\", \"congress\", \"congress\", \"congress\", \"connect\", \"consider\", \"consider\", \"consider\", \"consider\", \"constitution\", \"construction\", \"contact\", \"contain\", \"contain\", \"contain\", \"contain\", \"context\", \"control\", \"control\", \"control\", \"control\", \"control\", \"control\", \"control\", \"controller\", \"cool\", \"cop\", \"copy\", \"copy\", \"copy\", \"copy\", \"corporation\", \"cost\", \"cost\", \"could\", \"could\", \"could\", \"could\", \"count\", \"countersteer\", \"country\", \"country\", \"country\", \"court\", \"cover\", \"cover\", \"cover\", \"coverage\", \"cpu\", \"crime\", \"criminal\", \"crowd\", \"crypto\", \"csa\", \"cubs_suck\", \"cubs_suck\", \"cubs_suck\", \"cubs_suck\", \"cubs_suck\", \"cubs_suck\", \"cubs_suck\", \"cubs_suck\", \"current\", \"current\", \"current\", \"current\", \"current\", \"cylinder\", \"czar\", \"damn\", \"darin\", \"darren\", \"datum\", \"datum\", \"datum\", \"datum\", \"datum\", \"david\", \"david\", \"david\", \"david\", \"david\", \"davidian\", \"day\", \"day\", \"day\", \"day\", \"day\", \"dealer\", \"dear\", \"death\", \"death\", \"death\", \"decision\", \"default\", \"defenseman\", \"deity\", \"demonstrate\", \"department\", \"department\", \"department\", \"department\", \"depend\", \"depend\", \"description\", \"description\", \"design\", \"design\", \"design\", \"det\", \"detect\", \"detector\", \"detroit\", \"develop\", \"develop\", \"develop\", \"development\", \"device\", \"device\", \"devil\", \"die\", \"die\", \"directory\", \"discharge\", \"discipline\", \"discuss\", \"discussion\", \"discussion\", \"disease\", \"disk\", \"disk\", \"display\", \"distribution_na\", \"distribution_na\", \"distribution_usa\", \"distribution_usa\", \"distribution_world\", \"distribution_world\", \"distribution_world\", \"distribution_world\", \"div\", \"division\", \"division\", \"division\", \"do\", \"do\", \"do\", \"do\", \"do\", \"doc\", \"doctor\", \"dod\", \"dog\", \"dollar\", \"door\", \"draft\", \"drawing\", \"dress\", \"drive\", \"drive\", \"driver\", \"driver\", \"drug\", \"earth\", \"earth\", \"earth\", \"ease\", \"economic\", \"edge\", \"edition\", \"editor\", \"edward\", \"eeg\", \"eg\", \"electronic\", \"electronic\", \"email\", \"email\", \"email\", \"emergency\", \"encrypt\", \"encryption\", \"energy\", \"engine\", \"engineering\", \"enjoy\", \"enjoy\", \"enjoyment\", \"ensure\", \"ensure\", \"entry\", \"ep\", \"equal\", \"equal\", \"equal\", \"error\", \"error\", \"error\", \"error\", \"espn\", \"establish\", \"estimate\", \"even\", \"even\", \"even\", \"even\", \"even\", \"example\", \"example\", \"example\", \"excellent\", \"exist\", \"exist\", \"expand\", \"extra\", \"extra\", \"eye\", \"eye\", \"face\", \"face\", \"fact\", \"fact\", \"faith\", \"familiar\", \"fan\", \"faq\", \"faq\", \"father\", \"fax\", \"fax\", \"fax\", \"fd\", \"february\", \"federal\", \"fight\", \"fight\", \"file\", \"file\", \"final\", \"final\", \"final\", \"final_standing\", \"finger\", \"finland\", \"fire\", \"fire\", \"fire\", \"firearm\", \"firm\", \"first\", \"first\", \"first\", \"first\", \"first\", \"first\", \"first\", \"first\", \"first\", \"flight\", \"fly\", \"fly\", \"fly\", \"follow\", \"follow\", \"follow\", \"follow\", \"follow\", \"font\", \"food\", \"food\", \"food\", \"foot\", \"foot\", \"forget\", \"forget\", \"format\", \"forum\", \"fox\", \"fp\", \"frame\", \"france\", \"frank\", \"frequency\", \"friday\", \"ftp\", \"fuel\", \"function\", \"function\", \"function\", \"game\", \"gas\", \"gay\", \"gd\", \"gene\", \"genoa\", \"genocide\", \"george\", \"george\", \"german\", \"get\", \"get\", \"get\", \"gfci\", \"gif\", \"girl\", \"give\", \"give\", \"give\", \"go\", \"go\", \"go\", \"goal\", \"god\", \"gold\", \"good\", \"good\", \"good\", \"good\", \"good\", \"gordon_bank\", \"gov\", \"government\", \"government\", \"government\", \"gps\", \"gq\", \"gr\", \"graphic\", \"greek\", \"greek\", \"ground\", \"ground\", \"ground\", \"group\", \"group\", \"group\", \"group\", \"guard\", \"guide\", \"guide\", \"gun\", \"gun_control\", \"guru\", \"hall\", \"ham\", \"handgun\", \"hang\", \"happen\", \"happen\", \"hard_drive\", \"harry\", \"hat\", \"hate\", \"have\", \"have\", \"hawk\", \"hawk\", \"hd\", \"health\", \"heart\", \"heart\", \"heat\", \"heavy\", \"hell\", \"helmet\", \"help\", \"help\", \"help\", \"help\", \"help\", \"henry\", \"henry_spencer\", \"hi\", \"high\", \"high\", \"high\", \"high\", \"high\", \"high\", \"high\", \"high\", \"hill\", \"hit\", \"hit\", \"hit\", \"hitter\", \"hockey\", \"hockey_league\", \"hole\", \"homeopathic\", \"homeopathy\", \"homosexual\", \"honor\", \"hospital\", \"host\", \"host\", \"hour\", \"hour\", \"house\", \"house\", \"house\", \"house\", \"however\", \"however\", \"however\", \"hug\", \"human\", \"human\", \"hunt\", \"hurt\", \"ibm\", \"ice\", \"ide\", \"illegal\", \"illinois\", \"image\", \"image\", \"image\", \"imagine\", \"implement\", \"imply\", \"inc\", \"inc\", \"inc\", \"include\", \"include\", \"include\", \"include\", \"include\", \"info\", \"info\", \"info\", \"information\", \"information\", \"information\", \"information\", \"ins_cwru\", \"instal\", \"instal\", \"installation\", \"instance\", \"insurance\", \"int\", \"interactive\", \"internal\", \"international\", \"internet\", \"interview\", \"israel\", \"israeli\", \"issue\", \"issue\", \"issue\", \"issue\", \"jack\", \"jeff\", \"jew\", \"jewish\", \"jewish\", \"job\", \"ken\", \"key\", \"key_escrow\", \"kid\", \"kill\", \"kill\", \"king\", \"km\", \"know\", \"know\", \"know\", \"know\", \"know\", \"kurt\", \"la\", \"lamp\", \"land\", \"land\", \"lane\", \"laptop\", \"large\", \"large\", \"large\", \"large\", \"large\", \"large\", \"large\", \"large\", \"last_night\", \"lately\", \"laugh\", \"launch\", \"law\", \"law\", \"law_enforcement\", \"lawrence\", \"league\", \"lebanon\", \"legal\", \"legal\", \"legend\", \"lemieux\", \"lens\", \"let\", \"let\", \"let\", \"let\", \"level\", \"level\", \"level\", \"level\", \"level\", \"library\", \"libxmu\", \"life\", \"life\", \"life\", \"light\", \"light\", \"like\", \"like\", \"like\", \"limit\", \"line\", \"line\", \"list\", \"list\", \"list\", \"lock\", \"logical\", \"logo\", \"look\", \"look\", \"look\", \"lord\", \"lot\", \"lot\", \"love\", \"love\", \"love\", \"low\", \"low\", \"low\", \"low\", \"ltd\", \"lunar\", \"mac\", \"machine\", \"magazine\", \"magazine\", \"magic\", \"mail\", \"mailing_list\", \"make\", \"make\", \"make\", \"make\", \"man\", \"man\", \"man\", \"man\", \"man\", \"many\", \"many\", \"many\", \"many\", \"many\", \"mar\", \"march\", \"marriage\", \"married\", \"mass\", \"mass\", \"mass\", \"massacre\", \"master\", \"master\", \"material\", \"matthew\", \"max\", \"may\", \"may\", \"may\", \"may\", \"may\", \"mean\", \"mean\", \"mean\", \"mean\", \"mean\", \"medical\", \"medicine\", \"medium\", \"medium\", \"medium\", \"medium\", \"meg\", \"membership\", \"memory\", \"message\", \"message\", \"message\", \"metal\", \"mf\", \"mg\", \"mhz\", \"mid\", \"mike\", \"mike\", \"mike\", \"mile\", \"military\", \"military\", \"militia\", \"miller\", \"million\", \"min\", \"minnesota\", \"misc\", \"mission\", \"mit\", \"mode\", \"model\", \"model\", \"modem\", \"mon\", \"money\", \"money\", \"monitor\", \"monitor\", \"mont_pierce\", \"monthly\", \"moon\", \"moral\", \"mormon\", \"morning\", \"morris\", \"mother\", \"motif\", \"motor\", \"motorcycle\", \"mount\", \"mouse\", \"movement\", \"mr\", \"mr\", \"mr_stephanopoulo\", \"ms_window\", \"msg\", \"much\", \"much\", \"much\", \"multi\", \"multi\", \"must\", \"must\", \"must\", \"must\", \"must\", \"mutlu\", \"mystery\", \"nasa\", \"national\", \"national\", \"national\", \"nc\", \"nec\", \"need\", \"need\", \"need\", \"need\", \"need\", \"need\", \"neighbor\", \"network\", \"network\", \"neutral\", \"never\", \"never\", \"never\", \"never\", \"new\", \"new\", \"new\", \"new\", \"new\", \"new\", \"new\", \"new\", \"new_brunswick\", \"new_york\", \"new_york\", \"new_york\", \"news\", \"news\", \"news\", \"newsgroup\", \"newsletter\", \"nhl\", \"nice\", \"nick\", \"nntp_post\", \"normal\", \"not\", \"not\", \"not\", \"not\", \"nsa\", \"nt\", \"nt\", \"nyi\", \"nyr\", \"object\", \"obvious\", \"offer\", \"offer\", \"ohio\", \"oil\", \"ontario\", \"orbit\", \"org\", \"organization\", \"organization\", \"originator\", \"ott\", \"ought\", \"outlet\", \"package\", \"page\", \"page\", \"pain\", \"painful\", \"panel\", \"part\", \"part\", \"part\", \"part\", \"part\", \"party\", \"passage\", \"patient\", \"paul\", \"pay\", \"pay\", \"pc\", \"peace\", \"penguin\", \"penn_state\", \"people\", \"people\", \"people\", \"people\", \"perhaps\", \"perhaps\", \"period\", \"period\", \"period\", \"permit\", \"peter\", \"phi\", \"phone\", \"phone\", \"phone\", \"physical\", \"pick\", \"pick\", \"pin\", \"pipe\", \"pipe\", \"pit\", \"pitch\", \"pittsburgh\", \"pittsburgh\", \"plane\", \"plate\", \"play\", \"play\", \"play\", \"player\", \"playoff\", \"pm\", \"point\", \"point\", \"point\", \"point\", \"police\", \"policy\", \"pool\", \"pop\", \"population\", \"population\", \"population\", \"port\", \"portion\", \"post\", \"post\", \"post\", \"posting\", \"postscript\", \"power\", \"power\", \"power\", \"power\", \"power\", \"praise\", \"pray\", \"present\", \"present\", \"present\", \"president\", \"pressure\", \"pressure\", \"price\", \"price\", \"price\", \"principle\", \"printer\", \"privacy\", \"private\", \"private\", \"probe\", \"problem\", \"problem\", \"problem\", \"problem\", \"professional\", \"program\", \"program\", \"program\", \"program\", \"prohibit\", \"project\", \"project\", \"promise\", \"properly\", \"properly\", \"protect\", \"prove\", \"prove\", \"pub\", \"public\", \"public\", \"public\", \"pull\", \"pull\", \"punishment\", \"purchase\", \"pure\", \"qax\", \"question\", \"question\", \"question\", \"question\", \"quick\", \"radio\", \"ram\", \"ranger\", \"rat\", \"rather\", \"rather\", \"rating\", \"rd\", \"rd\", \"read\", \"read\", \"read\", \"read\", \"read\", \"read\", \"reader\", \"reason\", \"reason\", \"reason\", \"ref\", \"reference\", \"reference\", \"reference\", \"reference\", \"reference\", \"regulation\", \"relative\", \"relative\", \"relative\", \"religion\", \"reply\", \"reply\", \"reply\", \"reply\", \"reply\", \"report\", \"report\", \"report\", \"report\", \"research\", \"research\", \"research\", \"reserve\", \"reserve_university\", \"resource\", \"respect\", \"restriction\", \"return\", \"return\", \"return\", \"return\", \"return\", \"return\", \"return\", \"return\", \"return\", \"review\", \"richard\", \"richard\", \"rid\", \"ride\", \"right\", \"right\", \"right\", \"right\", \"rise\", \"risk\", \"road\", \"road\", \"road\", \"robert\", \"robert\", \"rocket\", \"rocket\", \"room\", \"room\", \"rough\", \"rule\", \"rule\", \"run\", \"run\", \"run\", \"run\", \"run\", \"run\", \"run\", \"russian\", \"s\", \"s\", \"safely\", \"sale\", \"sale\", \"san_francisco\", \"san_jose\", \"san_jose\", \"satan\", \"satellite\", \"say\", \"say\", \"say\", \"say\", \"scale\", \"scale\", \"schedule\", \"science\", \"science\", \"scientific\", \"scientific\", \"scoop\", \"score\", \"screen\", \"screw\", \"scripture\", \"scsi\", \"seal\", \"search\", \"season\", \"seat\", \"second\", \"second\", \"second\", \"second\", \"second\", \"secretary\", \"secure\", \"security\", \"security\", \"security\", \"see\", \"see\", \"see\", \"see\", \"seize\", \"sell\", \"sell\", \"sell\", \"sell\", \"senate\", \"send\", \"send\", \"send\", \"sense\", \"sense\", \"serdar_argic\", \"server\", \"service\", \"service\", \"service\", \"service\", \"service\", \"set\", \"set\", \"set\", \"set\", \"set\", \"set\", \"setup\", \"sex\", \"shape\", \"shell\", \"shell\", \"shift\", \"shift\", \"shipping\", \"shk\", \"should\", \"signal\", \"sin\", \"sinner\", \"site\", \"site\", \"size\", \"size\", \"size\", \"size\", \"size\", \"size\", \"slap\", \"slave\", \"smith\", \"smith\", \"software\", \"software\", \"soldier\", \"somewhere\", \"soon\", \"soon\", \"soon\", \"soul\", \"sound\", \"sound\", \"sound\", \"source\", \"source\", \"source\", \"source\", \"source\", \"soviet\", \"space\", \"spacecraft\", \"spank\", \"spanking\", \"speaker\", \"specifically\", \"stand\", \"standard\", \"standard\", \"standard\", \"start\", \"start\", \"start\", \"start\", \"stat\", \"state\", \"state\", \"state\", \"state\", \"statement\", \"station\", \"statistic\", \"stay\", \"steer\", \"stick\", \"stl\", \"string\", \"student\", \"student\", \"student\", \"study\", \"study\", \"stupid\", \"success\", \"suck\", \"sumgait\", \"summer\", \"sun\", \"sunday\", \"supply\", \"supply\", \"supply\", \"support\", \"support\", \"support\", \"support\", \"support\", \"switch\", \"system\", \"system\", \"system\", \"system\", \"system\", \"system\", \"table\", \"table\", \"take\", \"take\", \"take\", \"talk\", \"talk\", \"talk\", \"talk\", \"tampa_bay\", \"tank\", \"tap\", \"tape\", \"tax\", \"tax\", \"teach\", \"team\", \"technology\", \"technology\", \"technology\", \"tel\", \"tell\", \"tell\", \"tell\", \"tell\", \"tell\", \"term\", \"term\", \"terminal\", \"territory\", \"terrorist\", \"texas\", \"text\", \"text\", \"thank\", \"thank\", \"thank\", \"that\", \"that\", \"theory\", \"thing\", \"thing\", \"thing\", \"thing\", \"think\", \"think\", \"think\", \"think\", \"thinking\", \"thus\", \"thus\", \"thus\", \"ticket\", \"tiger\", \"time\", \"time\", \"time\", \"time\", \"time\", \"timeout\", \"timer\", \"tm\", \"today\", \"today\", \"today\", \"today\", \"today\", \"tomorrow\", \"tonight\", \"tor\", \"toronto_zoology\", \"total\", \"total\", \"total\", \"total\", \"trade\", \"trade\", \"trade\", \"train\", \"treatment\", \"tree\", \"trial\", \"true\", \"true\", \"true\", \"true\", \"truth\", \"truth\", \"try\", \"try\", \"try\", \"try\", \"turk\", \"turkey\", \"turkish\", \"unit\", \"unit\", \"unit\", \"univ\", \"univ\", \"university\", \"university\", \"university\", \"university\", \"university\", \"university\", \"upgrade\", \"urbana\", \"usa\", \"usa\", \"usa\", \"usa\", \"usa\", \"use\", \"use\", \"use\", \"use\", \"use\", \"use\", \"use\", \"useful\", \"usenet\", \"user\", \"user\", \"user\", \"value\", \"value\", \"value\", \"van\", \"vancouver\", \"vay\", \"vay\", \"vay\", \"vay\", \"verse\", \"version\", \"version\", \"vesa\", \"vesa_local\", \"vga\", \"video\", \"view\", \"view\", \"view\", \"vlb\", \"voice\", \"volt\", \"voltage\", \"vote\", \"vote\", \"vram\", \"wait\", \"wait\", \"wait\", \"wait\", \"wall\", \"want\", \"want\", \"want\", \"want\", \"washington\", \"washington\", \"water\", \"wave\", \"way\", \"way\", \"way\", \"weapon\", \"weekend\", \"well\", \"well\", \"well\", \"widget\", \"win\", \"win\", \"win\", \"wind\", \"window\", \"window_manager\", \"wing\", \"wing\", \"winnipeg_jet\", \"wire\", \"wiretap\", \"wiring\", \"woman\", \"woman\", \"wonder\", \"wonder\", \"word\", \"word\", \"word\", \"word\", \"work\", \"work\", \"work\", \"work\", \"work\", \"work\", \"work\", \"world\", \"world\", \"world\", \"world\", \"world\", \"worship\", \"would\", \"would\", \"would\", \"would\", \"write\", \"write\", \"write\", \"write\", \"xfree\", \"xga\", \"xlib\", \"xterm\", \"yalanci\", \"yalanci\", \"yalanci\", \"yalanci\", \"yalanci\", \"yalanci\", \"yalanci\", \"yalanci\", \"yalanci\", \"yalanci\", \"yalanci\", \"yalanci\", \"yalanci\", \"year\", \"year\", \"year\", \"year\", \"year\", \"year\", \"yesterday\", \"yet\", \"yet\", \"young\", \"young\", \"zoroastrian\"]}, \"R\": 30, \"lambda.step\": 0.01, \"plot.opts\": {\"xlab\": \"PC1\", \"ylab\": \"PC2\"}, \"topic.order\": [8, 14, 19, 3, 16, 11, 18, 13, 6, 17, 7, 10, 15, 4, 9, 20, 12, 5, 1, 2]};\n",
       "\n",
       "function LDAvis_load_lib(url, callback){\n",
       "  var s = document.createElement('script');\n",
       "  s.src = url;\n",
       "  s.async = true;\n",
       "  s.onreadystatechange = s.onload = callback;\n",
       "  s.onerror = function(){console.warn(\"failed to load library \" + url);};\n",
       "  document.getElementsByTagName(\"head\")[0].appendChild(s);\n",
       "}\n",
       "\n",
       "if(typeof(LDAvis) !== \"undefined\"){\n",
       "   // already loaded: just create the visualization\n",
       "   !function(LDAvis){\n",
       "       new LDAvis(\"#\" + \"ldavis_el199441402364856357929458496390\", ldavis_el199441402364856357929458496390_data);\n",
       "   }(LDAvis);\n",
       "}else if(typeof define === \"function\" && define.amd){\n",
       "   // require.js is available: use it to load d3/LDAvis\n",
       "   require.config({paths: {d3: \"https://cdnjs.cloudflare.com/ajax/libs/d3/3.5.5/d3.min\"}});\n",
       "   require([\"d3\"], function(d3){\n",
       "      window.d3 = d3;\n",
       "      LDAvis_load_lib(\"https://cdn.rawgit.com/bmabey/pyLDAvis/files/ldavis.v1.0.0.js\", function(){\n",
       "        new LDAvis(\"#\" + \"ldavis_el199441402364856357929458496390\", ldavis_el199441402364856357929458496390_data);\n",
       "      });\n",
       "    });\n",
       "}else{\n",
       "    // require.js not available: dynamically load d3 & LDAvis\n",
       "    LDAvis_load_lib(\"https://cdnjs.cloudflare.com/ajax/libs/d3/3.5.5/d3.min.js\", function(){\n",
       "         LDAvis_load_lib(\"https://cdn.rawgit.com/bmabey/pyLDAvis/files/ldavis.v1.0.0.js\", function(){\n",
       "                 new LDAvis(\"#\" + \"ldavis_el199441402364856357929458496390\", ldavis_el199441402364856357929458496390_data);\n",
       "            })\n",
       "         });\n",
       "}\n",
       "</script>"
      ],
      "text/plain": [
       "PreparedData(topic_coordinates=            Freq  cluster  topics         x         y\n",
       "topic                                                \n",
       "7      16.240297        1       1  0.336844 -0.001183\n",
       "13     15.222848        1       2  0.291032 -0.003257\n",
       "18     14.586536        1       3  0.328829 -0.128129\n",
       "2       6.162463        1       4  0.091776  0.226468\n",
       "15      5.973768        1       5  0.059629  0.222469\n",
       "10      4.344135        1       6 -0.085008 -0.113108\n",
       "17      4.177517        1       7  0.060723 -0.183180\n",
       "12      3.603783        1       8 -0.021465 -0.036603\n",
       "5       3.365287        1       9 -0.022902 -0.021308\n",
       "16      3.271751        1      10 -0.029244  0.219701\n",
       "6       3.222690        1      11 -0.063024 -0.016668\n",
       "9       2.968356        1      12 -0.062885  0.139429\n",
       "14      2.740080        1      13 -0.088886 -0.062646\n",
       "3       2.731134        1      14 -0.047754 -0.117440\n",
       "8       2.291939        1      15 -0.111454  0.003707\n",
       "19      2.124448        1      16 -0.113686 -0.023385\n",
       "11      2.077255        1      17 -0.092451 -0.110475\n",
       "4       1.694720        1      18 -0.134207  0.001640\n",
       "0       1.679193        1      19 -0.164228 -0.027999\n",
       "1       1.521799        1      20 -0.131641  0.031965, topic_info=      Category          Freq          Term         Total  loglift  logprob\n",
       "term                                                                      \n",
       "4146   Default  57084.000000            ax  57084.000000  30.0000  30.0000\n",
       "21     Default  12491.000000          line  12491.000000  29.0000  29.0000\n",
       "82     Default  16290.000000           not  16290.000000  28.0000  28.0000\n",
       "30     Default  11142.000000  organization  11142.000000  27.0000  27.0000\n",
       "3721   Default   3844.000000           max   3844.000000  26.0000  26.0000\n",
       "65     Default  10452.000000            do  10452.000000  25.0000  25.0000\n",
       "322    Default   9655.000000         write   9655.000000  24.0000  24.0000\n",
       "55     Default   7586.000000       article   7586.000000  23.0000  23.0000\n",
       "244    Default   8046.000000            be   8046.000000  22.0000  22.0000\n",
       "154    Default  11782.000000         would  11782.000000  21.0000  21.0000\n",
       "303    Default   6905.000000           say   6905.000000  20.0000  20.0000\n",
       "226    Default   5803.000000            go   5803.000000  19.0000  19.0000\n",
       "29     Default   4407.000000     nntp_post   4407.000000  18.0000  18.0000\n",
       "16     Default   4083.000000          host   4083.000000  17.0000  17.0000\n",
       "118    Default   6852.000000           get   6852.000000  16.0000  16.0000\n",
       "46     Default   5027.000000    university   5027.000000  15.0000  15.0000\n",
       "1911   Default   1863.000000         space   1863.000000  14.0000  14.0000\n",
       "215    Default   2294.000000        window   2294.000000  13.0000  13.0000\n",
       "36     Default   3735.000000             s   3735.000000  12.0000  12.0000\n",
       "18     Default   7291.000000          know   7291.000000  11.0000  11.0000\n",
       "50     Default   3461.000000          year   3461.000000  10.0000  10.0000\n",
       "317    Default   4598.000000           use   4598.000000   9.0000   9.0000\n",
       "2726   Default   1540.000000          game   1540.000000   8.0000   8.0000\n",
       "23     Default   1949.000000          mail   1949.000000   7.0000   7.0000\n",
       "681    Default   3005.000000         right   3005.000000   6.0000   6.0000\n",
       "967    Default   1685.000000     christian   1685.000000   5.0000   5.0000\n",
       "1362   Default   1746.000000    government   1746.000000   4.0000   4.0000\n",
       "567    Default   1464.000000          team   1464.000000   3.0000   3.0000\n",
       "206    Default   3380.000000        system   3380.000000   2.0000   2.0000\n",
       "60     Default   2012.000000          card   2012.000000   1.0000   1.0000\n",
       "...        ...           ...           ...           ...      ...      ...\n",
       "11736  Topic20    119.370117          guru    120.322030   4.1773  -5.3260\n",
       "3548   Topic20    117.622623  countersteer    118.574536   4.1772  -5.3407\n",
       "10436  Topic20    113.025322       bradley    113.977235   4.1769  -5.3806\n",
       "280    Topic20    112.215976          lane    113.167889   4.1768  -5.3878\n",
       "4913   Topic20    107.556193         forum    108.508106   4.1765  -5.4302\n",
       "7111   Topic20    101.311697           int    102.263610   4.1759  -5.4900\n",
       "6768   Topic20     97.987227         scoop     98.939140   4.1756  -5.5234\n",
       "1548   Topic20     92.961892          vram     93.913805   4.1751  -5.5760\n",
       "23677  Topic20     92.559185     enjoyment     93.511099   4.1750  -5.5803\n",
       "20303  Topic20     91.102829          nick     92.054742   4.1749  -5.5962\n",
       "13531  Topic20     88.574287        libxmu     89.526200   4.1746  -5.6244\n",
       "10134  Topic20     87.897128      callback     88.849041   4.1745  -5.6320\n",
       "4748   Topic20     85.061807           ati     86.013720   4.1741  -5.6648\n",
       "3568   Topic20     83.130982        safely     84.082895   4.1739  -5.6878\n",
       "6308   Topic20     80.992467      detector     81.944380   4.1736  -5.7138\n",
       "5064   Topic20     75.670497       drawing     76.622409   4.1728  -5.7818\n",
       "4044   Topic20     71.419369     ms_window     72.371282   4.1720  -5.8396\n",
       "3571   Topic20     71.192055         steer     72.143968   4.1720  -5.8428\n",
       "2237   Topic20    261.735496      properly    330.146303   3.9531  -4.5409\n",
       "3553   Topic20    378.350608      function    519.986009   3.8673  -4.1724\n",
       "306    Topic20    142.240278         shift    163.460949   4.0462  -5.1507\n",
       "2350   Topic20    497.673559         value    864.267251   3.6333  -3.8982\n",
       "161    Topic20    247.965535          code    911.075899   2.8839  -4.5949\n",
       "397    Topic20    184.922926         error    663.465269   2.9077  -4.8883\n",
       "1131   Topic20    147.244698        return    725.520476   2.5905  -5.1161\n",
       "535    Topic20    154.629965           set   1435.249467   1.9572  -5.0672\n",
       "10030  Topic20    102.329859       compile    240.646282   3.3302  -5.4800\n",
       "7388   Topic20    104.815623     character    416.527765   2.8055  -5.4560\n",
       "945    Topic20    107.796542          size    595.064671   2.4769  -5.4279\n",
       "1281   Topic20     99.079391         build   1050.702997   1.8240  -5.5123\n",
       "\n",
       "[998 rows x 6 columns], token_table=       Topic      Freq         Term\n",
       "term                               \n",
       "2128      19  0.998896            _\n",
       "2647       2  0.810066       accept\n",
       "2647       7  0.176539       accept\n",
       "2647      20  0.012291       accept\n",
       "2079       5  0.998571       access\n",
       "338        5  0.998738      advance\n",
       "2653       1  0.997629       advice\n",
       "20220     12  0.996578    aerospace\n",
       "4672      10  0.856125       agency\n",
       "4672      13  0.141872       agency\n",
       "3662       8  0.185779          ago\n",
       "3662      16  0.812329          ago\n",
       "14829     14  0.994177          ahl\n",
       "637        1  0.997043          air\n",
       "9530      11  0.992298         alan\n",
       "501       10  0.996905    algorithm\n",
       "384        1  0.260700         also\n",
       "384        2  0.373181         also\n",
       "384        3  0.058323         also\n",
       "384        4  0.064901         also\n",
       "384        5  0.203254         also\n",
       "384        7  0.015129         also\n",
       "384       12  0.024557         also\n",
       "2139       9  0.990381    amendment\n",
       "1250       3  0.307611     american\n",
       "1250       8  0.152386     american\n",
       "1250       9  0.539503     american\n",
       "5348      12  0.995579          amp\n",
       "12918      6  0.986723      anaheim\n",
       "3084       9  0.269069     analysis\n",
       "...      ...       ...          ...\n",
       "322        7  0.018539        write\n",
       "28759      4  0.997999        xfree\n",
       "31839     19  0.994642          xga\n",
       "3414      19  0.993770         xlib\n",
       "2103      17  0.995620        xterm\n",
       "71892      1  0.005270      yalanci\n",
       "71892      2  0.026349      yalanci\n",
       "71892      3  0.005270      yalanci\n",
       "71892      5  0.010540      yalanci\n",
       "71892      7  0.005270      yalanci\n",
       "71892      8  0.005270      yalanci\n",
       "71892      9  0.005270      yalanci\n",
       "71892     11  0.005270      yalanci\n",
       "71892     13  0.010540      yalanci\n",
       "71892     15  0.005270      yalanci\n",
       "71892     17  0.901145      yalanci\n",
       "71892     18  0.005270      yalanci\n",
       "71892     20  0.005270      yalanci\n",
       "50         2  0.034381         year\n",
       "50         3  0.426728         year\n",
       "50         8  0.149658         year\n",
       "50        11  0.209753         year\n",
       "50        14  0.140124         year\n",
       "50        17  0.039293         year\n",
       "1140      11  0.993086    yesterday\n",
       "830        2  0.904866          yet\n",
       "830        4  0.094208          yet\n",
       "3395       3  0.915297        young\n",
       "3395      14  0.083209        young\n",
       "23559      7  0.993332  zoroastrian\n",
       "\n",
       "[1606 rows x 3 columns], R=30, lambda_step=0.01, plot_opts={'xlab': 'PC1', 'ylab': 'PC2'}, topic_order=[8, 14, 19, 3, 16, 11, 18, 13, 6, 17, 7, 10, 15, 4, 9, 20, 12, 5, 1, 2])"
      ]
     },
     "execution_count": 33,
     "metadata": {},
     "output_type": "execute_result"
    }
   ],
   "source": [
    "# Visualize the topics\n",
    "pyLDAvis.enable_notebook()\n",
    "vis = pyLDAvis.gensim.prepare(lda_model, corpus, id2word)\n",
    "vis"
   ]
  },
  {
   "cell_type": "markdown",
   "metadata": {},
   "source": [
    "- Gensim 의 LDA 알고리즘보다 Mallet 버젼이 더 나은 퀄리티를 보여준다.\n",
    "- https://www.machinelearningplus.com/wp-content/uploads/2018/03/mallet-2.0.8.zip 깔고 해당 경로를 아래에 넣어주면 된다."
   ]
  },
  {
   "cell_type": "code",
   "execution_count": 39,
   "metadata": {},
   "outputs": [
    {
     "name": "stdout",
     "output_type": "stream",
     "text": [
      "[(11,\n",
      "  [('armenian', 0.020657466848641091),\n",
      "   ('people', 0.010075991170870612),\n",
      "   ('turkish', 0.0079698057254545141),\n",
      "   ('world', 0.0068914387774014728),\n",
      "   ('history', 0.0065712985896982257),\n",
      "   ('turk', 0.0064533522047549247),\n",
      "   ('greek', 0.0060489645992350335),\n",
      "   ('turkey', 0.005711974927968458),\n",
      "   ('war', 0.0056782759608418002),\n",
      "   ('government', 0.0053581357731385532)]),\n",
      " (8,\n",
      "  [('work', 0.012249956306900333),\n",
      "   ('power', 0.011614420311730406),\n",
      "   ('line', 0.010788223518009501),\n",
      "   ('point', 0.0084367403358807727),\n",
      "   ('problem', 0.0081507491380543064),\n",
      "   ('good', 0.0076582087417976135),\n",
      "   ('high', 0.0075311015427636284),\n",
      "   ('ground', 0.0073722175439711463),\n",
      "   ('time', 0.0067525699486804683),\n",
      "   ('find', 0.0067049047490427239)]),\n",
      " (7,\n",
      "  [('god', 0.021306849989923191),\n",
      "   ('christian', 0.016873054616297557),\n",
      "   ('people', 0.008834001388360168),\n",
      "   ('religion', 0.0080950354927558955),\n",
      "   ('bible', 0.007893499339409275),\n",
      "   ('church', 0.0071209440849138994),\n",
      "   ('word', 0.0068186398548939695),\n",
      "   ('faith', 0.0064827462659829364),\n",
      "   ('atheist', 0.0059229236177978815),\n",
      "   ('life', 0.0058557449000156752)]),\n",
      " (9,\n",
      "  [('write', 0.016513761467889909),\n",
      "   ('people', 0.011320445609436436),\n",
      "   ('israel', 0.010714285714285714),\n",
      "   ('article', 0.010370249017038008),\n",
      "   ('state', 0.0099442988204456097),\n",
      "   ('israeli', 0.0089941022280471822),\n",
      "   ('arab', 0.0083060288335517693),\n",
      "   ('organization', 0.0075688073394495417),\n",
      "   ('jew', 0.0074868938401048491),\n",
      "   ('line', 0.0072411533420707729)]),\n",
      " (5,\n",
      "  [('people', 0.013245513324067919),\n",
      "   ('write', 0.012363284790621791),\n",
      "   ('make', 0.012266602211613995),\n",
      "   ('article', 0.010332950631458095),\n",
      "   ('post', 0.0093056982295002724),\n",
      "   ('exist', 0.0091969303281165017),\n",
      "   ('thing', 0.0090156504924768874),\n",
      "   ('question', 0.0085443229198138865),\n",
      "   ('reason', 0.0083388724394223221),\n",
      "   ('argument', 0.0077708622877515256)]),\n",
      " (16,\n",
      "  [('drive', 0.023383709967717051),\n",
      "   ('card', 0.017569922578064737),\n",
      "   ('system', 0.016441447875896353),\n",
      "   ('problem', 0.015884352769762591),\n",
      "   ('window', 0.013027454789589464),\n",
      "   ('scsi', 0.012641773562266092),\n",
      "   ('driver', 0.012256092334942719),\n",
      "   ('mac', 0.011084764163071737),\n",
      "   ('bit', 0.010341970688226723),\n",
      "   ('work', 0.010184841299317201)]),\n",
      " (12,\n",
      "  [('_', 0.052802948855782524),\n",
      "   ('organization', 0.030164337275380124),\n",
      "   ('line', 0.018706803870373215),\n",
      "   ('ca', 0.01474427891260943),\n",
      "   ('newsreader_tin', 0.0070956842266932879),\n",
      "   ('air', 0.0059898633082475809),\n",
      "   ('cx', 0.0052833666103517122),\n",
      "   ('md', 0.0041775456919060051),\n",
      "   ('ms', 0.0039932422054983875),\n",
      "   ('ed', 0.0036553524804177544)]),\n",
      " (6,\n",
      "  [('car', 0.027885998803731066),\n",
      "   ('article', 0.013918750707253593),\n",
      "   ('write', 0.013837921725213793),\n",
      "   ('bike', 0.011332223281979987),\n",
      "   ('organization', 0.010329943904686464),\n",
      "   ('line', 0.0099257989944874642),\n",
      "   ('good', 0.0096994778447760232),\n",
      "   ('drive', 0.0076464217009650981),\n",
      "   ('engine', 0.0064824843595919753),\n",
      "   ('dod', 0.0060136762637611344)]),\n",
      " (0,\n",
      "  [('game', 0.021562927496580026),\n",
      "   ('team', 0.018621751025991791),\n",
      "   ('play', 0.014825581395348838),\n",
      "   ('hockey', 0.0095417236662106702),\n",
      "   ('player', 0.0092510259917920664),\n",
      "   ('win', 0.0081395348837209301),\n",
      "   ('year', 0.0075752393980848152),\n",
      "   ('goal', 0.0070622435020519835),\n",
      "   ('line', 0.0067373461012311901),\n",
      "   ('season', 0.0066176470588235293)]),\n",
      " (1,\n",
      "  [('line', 0.04087163320612798),\n",
      "   ('organization', 0.035285658979038771),\n",
      "   ('sale', 0.016997584941835814),\n",
      "   ('mail', 0.016868536032299097),\n",
      "   ('price', 0.01616798480909979),\n",
      "   ('sell', 0.01436130007558579),\n",
      "   ('good', 0.01091385063510499),\n",
      "   ('buy', 0.010821672842578766),\n",
      "   ('university', 0.010305477204431908),\n",
      "   ('interested', 0.0099367660343270096)])]\n"
     ]
    }
   ],
   "source": [
    "# Download File: http://mallet.cs.umass.edu/dist/mallet-2.0.8.zip\n",
    "mallet_path = '/home/hskimim/Documents/mallet-2.0.8/bin/mallet' # update this path\n",
    "ldamallet = gensim.models.wrappers.LdaMallet(mallet_path, corpus=corpus, num_topics=20, id2word=id2word)\n",
    "# Show Topics\n",
    "pprint(ldamallet.show_topics(formatted=False))\n"
   ]
  },
  {
   "cell_type": "code",
   "execution_count": 40,
   "metadata": {},
   "outputs": [
    {
     "name": "stdout",
     "output_type": "stream",
     "text": [
      "\n",
      "Coherence Score:  0.629787393251\n"
     ]
    }
   ],
   "source": [
    "# Compute Coherence Score\n",
    "coherence_model_ldamallet = CoherenceModel(model=ldamallet, texts=data_lemmatized, dictionary=id2word, coherence='c_v')\n",
    "coherence_ldamallet = coherence_model_ldamallet.get_coherence()\n",
    "print('\\nCoherence Score: ', coherence_ldamallet)"
   ]
  },
  {
   "cell_type": "markdown",
   "metadata": {},
   "source": [
    "51에서 62로 Coherence Score 가 올라갔다."
   ]
  },
  {
   "cell_type": "markdown",
   "metadata": {},
   "source": [
    "#### LDA 에서 최적의 토픽 갯수 찾기\n",
    "- 많은 LDA 모델을 토픽 갯수(k)를 다르게 해서, 많이 시행해본 후, Coherance value 가 가장 높은 것을 선택한다.\n",
    "- 높은 Coherance Value 를 가지는 k를 선택하는 것은 유의미하고, 세부적인 토픽을 할당할 수 있게끔 한다.\n",
    "- 여러개의 토픽에 키워드가 많이 중첩되면, 이것은 k를 너무 높게 할당했다는 신호가 될 수 있다.\n",
    "- compute_coherence_values라는 메소드는 다수의 LDA 모델에 대한 Coherance value 를 알려준다."
   ]
  },
  {
   "cell_type": "code",
   "execution_count": 41,
   "metadata": {
    "collapsed": true
   },
   "outputs": [],
   "source": [
    "def compute_coherence_values(dictionary, corpus, texts, limit, start=2, step=3):\n",
    "    \"\"\"\n",
    "    Compute c_v coherence for various number of topics\n",
    "\n",
    "    Parameters:\n",
    "    ----------\n",
    "    dictionary : Gensim dictionary\n",
    "    corpus : Gensim corpus\n",
    "    texts : List of input texts\n",
    "    limit : Max num of topics\n",
    "\n",
    "    Returns:\n",
    "    -------\n",
    "    model_list : List of LDA topic models\n",
    "    coherence_values : Coherence values corresponding to the LDA model with respective number of topics\n",
    "    \"\"\"\n",
    "    coherence_values = []\n",
    "    model_list = []\n",
    "    for num_topics in range(start, limit, step):\n",
    "        model = gensim.models.wrappers.LdaMallet(mallet_path, corpus=corpus, num_topics=num_topics, id2word=id2word)\n",
    "        model_list.append(model)\n",
    "        coherencemodel = CoherenceModel(model=model, texts=texts, dictionary=dictionary, coherence='c_v')\n",
    "        coherence_values.append(coherencemodel.get_coherence())\n",
    "\n",
    "    return model_list, coherence_values"
   ]
  },
  {
   "cell_type": "code",
   "execution_count": 42,
   "metadata": {},
   "outputs": [],
   "source": [
    "# Can take a long time to run.\n",
    "model_list, coherence_values = compute_coherence_values(dictionary=id2word, corpus=corpus, texts=data_lemmatized, start=2, limit=40, step=6)"
   ]
  },
  {
   "cell_type": "code",
   "execution_count": 43,
   "metadata": {},
   "outputs": [
    {
     "data": {
      "image/png": "[encoded data removed]",
      "text/plain": [
       "<matplotlib.figure.Figure at 0x7f8b28ea53c8>"
      ]
     },
     "metadata": {},
     "output_type": "display_data"
    }
   ],
   "source": [
    "# Show graph\n",
    "limit=40; start=2; step=6;\n",
    "x = range(start, limit, step)\n",
    "plt.plot(x, coherence_values)\n",
    "plt.xlabel(\"Num Topics\")\n",
    "plt.ylabel(\"Coherence score\")\n",
    "plt.legend((\"coherence_values\"), loc='best')\n",
    "plt.show()"
   ]
  },
  {
   "cell_type": "code",
   "execution_count": 44,
   "metadata": {},
   "outputs": [
    {
     "name": "stdout",
     "output_type": "stream",
     "text": [
      "Num Topics = 2  has Coherence Value of 0.4377\n",
      "Num Topics = 8  has Coherence Value of 0.5654\n",
      "Num Topics = 14  has Coherence Value of 0.6136\n",
      "Num Topics = 20  has Coherence Value of 0.6137\n",
      "Num Topics = 26  has Coherence Value of 0.6316\n",
      "Num Topics = 32  has Coherence Value of 0.6373\n",
      "Num Topics = 38  has Coherence Value of 0.6356\n"
     ]
    }
   ],
   "source": [
    "# Print the coherence scores\n",
    "for m, cv in zip(x, coherence_values):\n",
    "    print(\"Num Topics =\", m, \" has Coherence Value of\", round(cv, 4))"
   ]
  },
  {
   "cell_type": "code",
   "execution_count": 47,
   "metadata": {},
   "outputs": [],
   "source": [
    "optimal_model= gensim.models.wrappers.LdaMallet(mallet_path, corpus=corpus, num_topics=32, id2word=id2word)"
   ]
  },
  {
   "cell_type": "markdown",
   "metadata": {},
   "source": [
    "#### 해당 문장에서 지배적인 토픽을 찾기\n",
    "- 토픽 모델링의 주요 활용점은 해당 문서의 토픽이 무엇이냐에 관한 것이다.\n",
    "- 이를 알아내기 위해서는 해당 문서에서 가장 기여를 많이 한, 즉 중요도가 가장 높은 토픽의 넘버를 찾아야 한다.\n",
    "- format_topics_sentences() 메소드는 보여지는 테이블로 훌륭하게 정보를 병합해준다."
   ]
  },
  {
   "cell_type": "code",
   "execution_count": 48,
   "metadata": {},
   "outputs": [
    {
     "data": {
      "text/html": [
       "<div>\n",
       "<style>\n",
       "    .dataframe thead tr:only-child th {\n",
       "        text-align: right;\n",
       "    }\n",
       "\n",
       "    .dataframe thead th {\n",
       "        text-align: left;\n",
       "    }\n",
       "\n",
       "    .dataframe tbody tr th {\n",
       "        vertical-align: top;\n",
       "    }\n",
       "</style>\n",
       "<table border=\"1\" class=\"dataframe\">\n",
       "  <thead>\n",
       "    <tr style=\"text-align: right;\">\n",
       "      <th></th>\n",
       "      <th>Document_No</th>\n",
       "      <th>Dominant_Topic</th>\n",
       "      <th>Topic_Perc_Contrib</th>\n",
       "      <th>Keywords</th>\n",
       "      <th>Text</th>\n",
       "    </tr>\n",
       "  </thead>\n",
       "  <tbody>\n",
       "    <tr>\n",
       "      <th>0</th>\n",
       "      <td>0</td>\n",
       "      <td>13.0</td>\n",
       "      <td>0.1650</td>\n",
       "      <td>car, bike, engine, dod, road, drive, speed, ri...</td>\n",
       "      <td>From: (wheres my thing) Subject: WHAT car is t...</td>\n",
       "    </tr>\n",
       "    <tr>\n",
       "      <th>1</th>\n",
       "      <td>1</td>\n",
       "      <td>22.0</td>\n",
       "      <td>0.1328</td>\n",
       "      <td>drive, scsi, system, disk, problem, speed, mem...</td>\n",
       "      <td>From: (Guy Kuo) Subject: SI Clock Poll - Final...</td>\n",
       "    </tr>\n",
       "    <tr>\n",
       "      <th>2</th>\n",
       "      <td>2</td>\n",
       "      <td>13.0</td>\n",
       "      <td>0.3219</td>\n",
       "      <td>car, bike, engine, dod, road, drive, speed, ri...</td>\n",
       "      <td>From: (Irwin Arnstein) Subject: Re: Recommenda...</td>\n",
       "    </tr>\n",
       "    <tr>\n",
       "      <th>3</th>\n",
       "      <td>3</td>\n",
       "      <td>19.0</td>\n",
       "      <td>0.2672</td>\n",
       "      <td>window, server, application, run, set, display...</td>\n",
       "      <td>From: (Tsung-Kun Chen) Subject: ** Software fo...</td>\n",
       "    </tr>\n",
       "    <tr>\n",
       "      <th>4</th>\n",
       "      <td>4</td>\n",
       "      <td>15.0</td>\n",
       "      <td>0.2223</td>\n",
       "      <td>card, window, mac, driver, monitor, apple, pro...</td>\n",
       "      <td>From: (Don A.B. Lindbergh) Subject: Diamond SS...</td>\n",
       "    </tr>\n",
       "    <tr>\n",
       "      <th>5</th>\n",
       "      <td>5</td>\n",
       "      <td>13.0</td>\n",
       "      <td>0.3812</td>\n",
       "      <td>car, bike, engine, dod, road, drive, speed, ri...</td>\n",
       "      <td>From: (Robert Loper) Subject: Re: SHO and SC N...</td>\n",
       "    </tr>\n",
       "    <tr>\n",
       "      <th>6</th>\n",
       "      <td>6</td>\n",
       "      <td>30.0</td>\n",
       "      <td>0.0949</td>\n",
       "      <td>price, sale, sell, organization, line, buy, of...</td>\n",
       "      <td>From: (Kim Richard Man) Subject: SyQuest 44M c...</td>\n",
       "    </tr>\n",
       "    <tr>\n",
       "      <th>7</th>\n",
       "      <td>7</td>\n",
       "      <td>30.0</td>\n",
       "      <td>0.2020</td>\n",
       "      <td>price, sale, sell, organization, line, buy, of...</td>\n",
       "      <td>From: (Kirtley Wilson) Subject: Mirosoft Offic...</td>\n",
       "    </tr>\n",
       "    <tr>\n",
       "      <th>8</th>\n",
       "      <td>8</td>\n",
       "      <td>18.0</td>\n",
       "      <td>0.2575</td>\n",
       "      <td>write, fire, article, people, start, news, day...</td>\n",
       "      <td>Subject: Re: Dont more innocents die without t...</td>\n",
       "    </tr>\n",
       "    <tr>\n",
       "      <th>9</th>\n",
       "      <td>9</td>\n",
       "      <td>10.0</td>\n",
       "      <td>0.2490</td>\n",
       "      <td>question, exist, claim, argument, reason, evid...</td>\n",
       "      <td>From: (Jon Livesey) Subject: Re: Genocide is C...</td>\n",
       "    </tr>\n",
       "  </tbody>\n",
       "</table>\n",
       "</div>"
      ],
      "text/plain": [
       "   Document_No  Dominant_Topic  Topic_Perc_Contrib  \\\n",
       "0            0            13.0              0.1650   \n",
       "1            1            22.0              0.1328   \n",
       "2            2            13.0              0.3219   \n",
       "3            3            19.0              0.2672   \n",
       "4            4            15.0              0.2223   \n",
       "5            5            13.0              0.3812   \n",
       "6            6            30.0              0.0949   \n",
       "7            7            30.0              0.2020   \n",
       "8            8            18.0              0.2575   \n",
       "9            9            10.0              0.2490   \n",
       "\n",
       "                                            Keywords  \\\n",
       "0  car, bike, engine, dod, road, drive, speed, ri...   \n",
       "1  drive, scsi, system, disk, problem, speed, mem...   \n",
       "2  car, bike, engine, dod, road, drive, speed, ri...   \n",
       "3  window, server, application, run, set, display...   \n",
       "4  card, window, mac, driver, monitor, apple, pro...   \n",
       "5  car, bike, engine, dod, road, drive, speed, ri...   \n",
       "6  price, sale, sell, organization, line, buy, of...   \n",
       "7  price, sale, sell, organization, line, buy, of...   \n",
       "8  write, fire, article, people, start, news, day...   \n",
       "9  question, exist, claim, argument, reason, evid...   \n",
       "\n",
       "                                                Text  \n",
       "0  From: (wheres my thing) Subject: WHAT car is t...  \n",
       "1  From: (Guy Kuo) Subject: SI Clock Poll - Final...  \n",
       "2  From: (Irwin Arnstein) Subject: Re: Recommenda...  \n",
       "3  From: (Tsung-Kun Chen) Subject: ** Software fo...  \n",
       "4  From: (Don A.B. Lindbergh) Subject: Diamond SS...  \n",
       "5  From: (Robert Loper) Subject: Re: SHO and SC N...  \n",
       "6  From: (Kim Richard Man) Subject: SyQuest 44M c...  \n",
       "7  From: (Kirtley Wilson) Subject: Mirosoft Offic...  \n",
       "8  Subject: Re: Dont more innocents die without t...  \n",
       "9  From: (Jon Livesey) Subject: Re: Genocide is C...  "
      ]
     },
     "execution_count": 48,
     "metadata": {},
     "output_type": "execute_result"
    }
   ],
   "source": [
    "def format_topics_sentences(ldamodel=lda_model, corpus=corpus, texts=data):\n",
    "    # Init output\n",
    "    sent_topics_df = pd.DataFrame()\n",
    "\n",
    "    # Get main topic in each document\n",
    "    for i, row in enumerate(ldamodel[corpus]):\n",
    "        row = sorted(row, key=lambda x: (x[1]), reverse=True)\n",
    "        # Get the Dominant topic, Perc Contribution and Keywords for each document\n",
    "        for j, (topic_num, prop_topic) in enumerate(row):\n",
    "            if j == 0:  # => dominant topic\n",
    "                wp = ldamodel.show_topic(topic_num)\n",
    "                topic_keywords = \", \".join([word for word, prop in wp])\n",
    "                sent_topics_df = sent_topics_df.append(pd.Series([int(topic_num), round(prop_topic,4), topic_keywords]), ignore_index=True)\n",
    "            else:\n",
    "                break\n",
    "    sent_topics_df.columns = ['Dominant_Topic', 'Perc_Contribution', 'Topic_Keywords']\n",
    "\n",
    "    # Add original text to the end of the output\n",
    "    contents = pd.Series(texts)\n",
    "    sent_topics_df = pd.concat([sent_topics_df, contents], axis=1)\n",
    "    return(sent_topics_df)\n",
    "\n",
    "\n",
    "df_topic_sents_keywords = format_topics_sentences(ldamodel=optimal_model, corpus=corpus, texts=data)\n",
    "\n",
    "# Format\n",
    "df_dominant_topic = df_topic_sents_keywords.reset_index()\n",
    "df_dominant_topic.columns = ['Document_No', 'Dominant_Topic', 'Topic_Perc_Contrib', 'Keywords', 'Text']\n",
    "\n",
    "# Show\n",
    "df_dominant_topic.head(10)"
   ]
  },
  {
   "cell_type": "markdown",
   "metadata": {},
   "source": [
    "#### 각각의 토픽을 대표하는 문서찾기\n",
    "- 가끔 토픽 키워드(단어)는 단지 토픽들을 구성하는 것에 그치지 않는 경우가 있다.\n",
    "- 토픽을 이해하는 것을 넘어서, 토픽을 형성하는데 가장 많은 기여를 한 문서를 찾아낼 수도 있다."
   ]
  },
  {
   "cell_type": "code",
   "execution_count": 49,
   "metadata": {},
   "outputs": [
    {
     "data": {
      "text/html": [
       "<div>\n",
       "<style>\n",
       "    .dataframe thead tr:only-child th {\n",
       "        text-align: right;\n",
       "    }\n",
       "\n",
       "    .dataframe thead th {\n",
       "        text-align: left;\n",
       "    }\n",
       "\n",
       "    .dataframe tbody tr th {\n",
       "        vertical-align: top;\n",
       "    }\n",
       "</style>\n",
       "<table border=\"1\" class=\"dataframe\">\n",
       "  <thead>\n",
       "    <tr style=\"text-align: right;\">\n",
       "      <th></th>\n",
       "      <th>Topic_Num</th>\n",
       "      <th>Topic_Perc_Contrib</th>\n",
       "      <th>Keywords</th>\n",
       "      <th>Text</th>\n",
       "    </tr>\n",
       "  </thead>\n",
       "  <tbody>\n",
       "    <tr>\n",
       "      <th>0</th>\n",
       "      <td>0.0</td>\n",
       "      <td>0.8453</td>\n",
       "      <td>armenian, people, turkish, turk, turkey, greek...</td>\n",
       "      <td>From: (Serdar Argic) Subject: To be exact, 2.5...</td>\n",
       "    </tr>\n",
       "    <tr>\n",
       "      <th>1</th>\n",
       "      <td>1.0</td>\n",
       "      <td>0.8592</td>\n",
       "      <td>organization, line, good, drug, water, cover, ...</td>\n",
       "      <td>From: (Jeff Mason) Subject: Marvel, DC, Valian...</td>\n",
       "    </tr>\n",
       "    <tr>\n",
       "      <th>2</th>\n",
       "      <td>2.0</td>\n",
       "      <td>0.8197</td>\n",
       "      <td>president, make, work, money, year, government...</td>\n",
       "      <td>From: (Clinton/Gore 92) Subject: CLINTON: Back...</td>\n",
       "    </tr>\n",
       "    <tr>\n",
       "      <th>3</th>\n",
       "      <td>3.0</td>\n",
       "      <td>0.9179</td>\n",
       "      <td>government, encryption, technology, key, syste...</td>\n",
       "      <td>From: (Clipper Chip Announcement) Subject: tex...</td>\n",
       "    </tr>\n",
       "    <tr>\n",
       "      <th>4</th>\n",
       "      <td>4.0</td>\n",
       "      <td>0.7373</td>\n",
       "      <td>year, game, run, good, hit, win, team, player,...</td>\n",
       "      <td>From: Subject: ALL-TIME PEAK PLAYERS Organizat...</td>\n",
       "    </tr>\n",
       "  </tbody>\n",
       "</table>\n",
       "</div>"
      ],
      "text/plain": [
       "   Topic_Num  Topic_Perc_Contrib  \\\n",
       "0        0.0              0.8453   \n",
       "1        1.0              0.8592   \n",
       "2        2.0              0.8197   \n",
       "3        3.0              0.9179   \n",
       "4        4.0              0.7373   \n",
       "\n",
       "                                            Keywords  \\\n",
       "0  armenian, people, turkish, turk, turkey, greek...   \n",
       "1  organization, line, good, drug, water, cover, ...   \n",
       "2  president, make, work, money, year, government...   \n",
       "3  government, encryption, technology, key, syste...   \n",
       "4  year, game, run, good, hit, win, team, player,...   \n",
       "\n",
       "                                                Text  \n",
       "0  From: (Serdar Argic) Subject: To be exact, 2.5...  \n",
       "1  From: (Jeff Mason) Subject: Marvel, DC, Valian...  \n",
       "2  From: (Clinton/Gore 92) Subject: CLINTON: Back...  \n",
       "3  From: (Clipper Chip Announcement) Subject: tex...  \n",
       "4  From: Subject: ALL-TIME PEAK PLAYERS Organizat...  "
      ]
     },
     "execution_count": 49,
     "metadata": {},
     "output_type": "execute_result"
    }
   ],
   "source": [
    "# Group top 5 sentences under each topic\n",
    "sent_topics_sorteddf_mallet = pd.DataFrame()\n",
    "\n",
    "sent_topics_outdf_grpd = df_topic_sents_keywords.groupby('Dominant_Topic')\n",
    "\n",
    "for i, grp in sent_topics_outdf_grpd:\n",
    "    sent_topics_sorteddf_mallet = pd.concat([sent_topics_sorteddf_mallet, \n",
    "                                             grp.sort_values(['Perc_Contribution'], ascending=[0]).head(1)], \n",
    "                                            axis=0)\n",
    "\n",
    "# Reset Index    \n",
    "sent_topics_sorteddf_mallet.reset_index(drop=True, inplace=True)\n",
    "\n",
    "# Format\n",
    "sent_topics_sorteddf_mallet.columns = ['Topic_Num', \"Topic_Perc_Contrib\", \"Keywords\", \"Text\"]\n",
    "\n",
    "# Show\n",
    "sent_topics_sorteddf_mallet.head()"
   ]
  },
  {
   "cell_type": "markdown",
   "metadata": {},
   "source": [
    "#### 문서를 넘어선 토픽 분배\n",
    "- 마지막으로 우리는 해당 정보에서 어떤 것들이 가장 많이 거론되었는지를 토픽의 크기(volume)과 분포(distribution)로 이해할 수 있게 된다."
   ]
  },
  {
   "cell_type": "code",
   "execution_count": 52,
   "metadata": {},
   "outputs": [
    {
     "data": {
      "text/html": [
       "<div>\n",
       "<style>\n",
       "    .dataframe thead tr:only-child th {\n",
       "        text-align: right;\n",
       "    }\n",
       "\n",
       "    .dataframe thead th {\n",
       "        text-align: left;\n",
       "    }\n",
       "\n",
       "    .dataframe tbody tr th {\n",
       "        vertical-align: top;\n",
       "    }\n",
       "</style>\n",
       "<table border=\"1\" class=\"dataframe\">\n",
       "  <thead>\n",
       "    <tr style=\"text-align: right;\">\n",
       "      <th></th>\n",
       "      <th>Dominant_Topic</th>\n",
       "      <th>Topic_Keywords</th>\n",
       "      <th>Num_Documents</th>\n",
       "      <th>Perc_Documents</th>\n",
       "    </tr>\n",
       "  </thead>\n",
       "  <tbody>\n",
       "    <tr>\n",
       "      <th>0</th>\n",
       "      <td>13.0</td>\n",
       "      <td>car, bike, engine, dod, road, drive, speed, ri...</td>\n",
       "      <td>163.0</td>\n",
       "      <td>0.0144</td>\n",
       "    </tr>\n",
       "    <tr>\n",
       "      <th>1</th>\n",
       "      <td>22.0</td>\n",
       "      <td>drive, scsi, system, disk, problem, speed, mem...</td>\n",
       "      <td>202.0</td>\n",
       "      <td>0.0179</td>\n",
       "    </tr>\n",
       "    <tr>\n",
       "      <th>2</th>\n",
       "      <td>13.0</td>\n",
       "      <td>car, bike, engine, dod, road, drive, speed, ri...</td>\n",
       "      <td>231.0</td>\n",
       "      <td>0.0204</td>\n",
       "    </tr>\n",
       "    <tr>\n",
       "      <th>3</th>\n",
       "      <td>19.0</td>\n",
       "      <td>window, server, application, run, set, display...</td>\n",
       "      <td>370.0</td>\n",
       "      <td>0.0327</td>\n",
       "    </tr>\n",
       "    <tr>\n",
       "      <th>4</th>\n",
       "      <td>15.0</td>\n",
       "      <td>card, window, mac, driver, monitor, apple, pro...</td>\n",
       "      <td>542.0</td>\n",
       "      <td>0.0479</td>\n",
       "    </tr>\n",
       "    <tr>\n",
       "      <th>5</th>\n",
       "      <td>13.0</td>\n",
       "      <td>car, bike, engine, dod, road, drive, speed, ri...</td>\n",
       "      <td>179.0</td>\n",
       "      <td>0.0158</td>\n",
       "    </tr>\n",
       "    <tr>\n",
       "      <th>6</th>\n",
       "      <td>30.0</td>\n",
       "      <td>price, sale, sell, organization, line, buy, of...</td>\n",
       "      <td>241.0</td>\n",
       "      <td>0.0213</td>\n",
       "    </tr>\n",
       "    <tr>\n",
       "      <th>7</th>\n",
       "      <td>30.0</td>\n",
       "      <td>price, sale, sell, organization, line, buy, of...</td>\n",
       "      <td>88.0</td>\n",
       "      <td>0.0078</td>\n",
       "    </tr>\n",
       "    <tr>\n",
       "      <th>8</th>\n",
       "      <td>18.0</td>\n",
       "      <td>write, fire, article, people, start, news, day...</td>\n",
       "      <td>451.0</td>\n",
       "      <td>0.0399</td>\n",
       "    </tr>\n",
       "    <tr>\n",
       "      <th>9</th>\n",
       "      <td>10.0</td>\n",
       "      <td>question, exist, claim, argument, reason, evid...</td>\n",
       "      <td>466.0</td>\n",
       "      <td>0.0412</td>\n",
       "    </tr>\n",
       "  </tbody>\n",
       "</table>\n",
       "</div>"
      ],
      "text/plain": [
       "   Dominant_Topic                                     Topic_Keywords  \\\n",
       "0            13.0  car, bike, engine, dod, road, drive, speed, ri...   \n",
       "1            22.0  drive, scsi, system, disk, problem, speed, mem...   \n",
       "2            13.0  car, bike, engine, dod, road, drive, speed, ri...   \n",
       "3            19.0  window, server, application, run, set, display...   \n",
       "4            15.0  card, window, mac, driver, monitor, apple, pro...   \n",
       "5            13.0  car, bike, engine, dod, road, drive, speed, ri...   \n",
       "6            30.0  price, sale, sell, organization, line, buy, of...   \n",
       "7            30.0  price, sale, sell, organization, line, buy, of...   \n",
       "8            18.0  write, fire, article, people, start, news, day...   \n",
       "9            10.0  question, exist, claim, argument, reason, evid...   \n",
       "\n",
       "   Num_Documents  Perc_Documents  \n",
       "0          163.0          0.0144  \n",
       "1          202.0          0.0179  \n",
       "2          231.0          0.0204  \n",
       "3          370.0          0.0327  \n",
       "4          542.0          0.0479  \n",
       "5          179.0          0.0158  \n",
       "6          241.0          0.0213  \n",
       "7           88.0          0.0078  \n",
       "8          451.0          0.0399  \n",
       "9          466.0          0.0412  "
      ]
     },
     "execution_count": 52,
     "metadata": {},
     "output_type": "execute_result"
    }
   ],
   "source": [
    "# Number of Documents for Each Topic\n",
    "topic_counts = df_topic_sents_keywords['Dominant_Topic'].value_counts()\n",
    "\n",
    "# Percentage of Documents for Each Topic\n",
    "topic_contribution = round(topic_counts/topic_counts.sum(), 4)\n",
    "\n",
    "# Topic Number and Keywords\n",
    "topic_num_keywords = df_topic_sents_keywords[['Dominant_Topic', 'Topic_Keywords']]\n",
    "\n",
    "# Concatenate Column wise\n",
    "df_dominant_topics = pd.concat([topic_num_keywords, topic_counts, topic_contribution], axis=1)\n",
    "\n",
    "# Change Column names\n",
    "df_dominant_topics.columns = ['Dominant_Topic', 'Topic_Keywords', 'Num_Documents', 'Perc_Documents']\n",
    "\n",
    "# Show\n",
    "df_dominant_topics.iloc[:10]"
   ]
  }
 ],
 "metadata": {
  "kernelspec": {
   "display_name": "Python 3",
   "language": "python",
   "name": "python3"
  },
  "language_info": {
   "codemirror_mode": {
    "name": "ipython",
    "version": 3
   },
   "file_extension": ".py",
   "mimetype": "text/x-python",
   "name": "python",
   "nbconvert_exporter": "python",
   "pygments_lexer": "ipython3",
   "version": "3.6.3"
  }
 },
 "nbformat": 4,
 "nbformat_minor": 2
}
