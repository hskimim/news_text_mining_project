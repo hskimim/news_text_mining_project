{
 "cells": [
  {
   "cell_type": "code",
   "execution_count": 2,
   "metadata": {
    "collapsed": true
   },
   "outputs": [],
   "source": [
    "from korean_crawling_bundles import *"
   ]
  },
  {
   "cell_type": "code",
   "execution_count": 17,
   "metadata": {
    "collapsed": false
   },
   "outputs": [
    {
     "name": "stdout",
     "output_type": "stream",
     "text": [
      "7 7 7\n"
     ]
    }
   ],
   "source": [
    "title_ls1 , link_ls1 , ls1 = light_crawling1()\n",
    "print(len(title_ls1),len(link_ls1) , len(ls1))"
   ]
  },
  {
   "cell_type": "code",
   "execution_count": 4,
   "metadata": {
    "collapsed": false,
    "scrolled": true
   },
   "outputs": [
    {
     "name": "stdout",
     "output_type": "stream",
     "text": [
      "8 8 5\n",
      "8 8 5\n"
     ]
    }
   ],
   "source": [
    "title_ls2 , link_ls2 , ls2 = light_crawling2(1)\n",
    "title_ls5 , link_ls5 , ls5 = light_crawling2(2)\n",
    "print(len(title_ls2),len(link_ls2) , len(ls2))\n",
    "print(len(title_ls5),len(link_ls5) , len(ls5))"
   ]
  },
  {
   "cell_type": "code",
   "execution_count": 20,
   "metadata": {
    "collapsed": false
   },
   "outputs": [
    {
     "name": "stdout",
     "output_type": "stream",
     "text": [
      "5\n",
      "5\n"
     ]
    }
   ],
   "source": [
    "for idx in range(len(title_ls2)):\n",
    "    if title_ls2[idx] == '':\n",
    "        title_ls2[idx+1] = '0'\n",
    "        \n",
    "\n",
    "for idx,title in enumerate(title_ls2) : \n",
    "    if title == '0':\n",
    "        title_ls2.pop(idx)\n",
    "print(len(title_ls2))\n",
    "\n",
    "for idx in range(len(title_ls5)):\n",
    "    if title_ls5[idx] == '':\n",
    "        title_ls5[idx+1] = '0'\n",
    "        \n",
    "\n",
    "for idx,title in enumerate(title_ls5) : \n",
    "    if title == '0':\n",
    "        title_ls5.pop(idx)\n",
    "print(len(title_ls5))"
   ]
  },
  {
   "cell_type": "code",
   "execution_count": 6,
   "metadata": {
    "collapsed": false
   },
   "outputs": [
    {
     "name": "stdout",
     "output_type": "stream",
     "text": [
      "5\n",
      "5\n"
     ]
    }
   ],
   "source": [
    "for idx in range(len(link_ls2)-1):\n",
    "    if link_ls2[idx] == link_ls2[idx+1]:\n",
    "        link_ls2[idx+1] = '0'\n",
    "        \n",
    "\n",
    "for idx,link in enumerate(link_ls2) : \n",
    "    if link == '0':\n",
    "        link_ls2.pop(idx)\n",
    "print(len(link_ls2))\n",
    "\n",
    "\n",
    "for idx in range(len(link_ls5)-1):\n",
    "    if link_ls5[idx] == link_ls5[idx+1]:\n",
    "        link_ls5[idx+1] = '0'\n",
    "        \n",
    "\n",
    "for idx,link in enumerate(link_ls5) : \n",
    "    if link == '0':\n",
    "        link_ls5.pop(idx)\n",
    "print(len(link_ls5))"
   ]
  },
  {
   "cell_type": "code",
   "execution_count": 7,
   "metadata": {
    "collapsed": false
   },
   "outputs": [
    {
     "name": "stdout",
     "output_type": "stream",
     "text": [
      "20 20 20\n"
     ]
    }
   ],
   "source": [
    "title_ls3,link_ls3 , ls3 = light_crawling3()\n",
    "print(len(title_ls3),len(link_ls3) , len(ls3))"
   ]
  },
  {
   "cell_type": "code",
   "execution_count": 10,
   "metadata": {
    "collapsed": false,
    "scrolled": true
   },
   "outputs": [
    {
     "name": "stdout",
     "output_type": "stream",
     "text": [
      "No data.\n",
      "No data.\n",
      "No data.\n",
      "No data.\n",
      "No data.\n",
      "No data.\n",
      "No data.\n",
      "No data.\n",
      "No data.\n",
      "No data.\n",
      "No data.\n",
      "No data.\n",
      "No data.\n",
      "No data.\n",
      "No data.\n",
      "20 20 20\n"
     ]
    }
   ],
   "source": [
    "title_ls4 , link_ls4 , ls4 = light_crawling4()\n",
    "print(len(title_ls4),len(link_ls4) , len(ls4))"
   ]
  },
  {
   "cell_type": "code",
   "execution_count": 21,
   "metadata": {
    "collapsed": false
   },
   "outputs": [
    {
     "name": "stdout",
     "output_type": "stream",
     "text": [
      "57 57 57\n"
     ]
    }
   ],
   "source": [
    "ls = ls1 + ls2 + ls3 + ls4 + ls5\n",
    "link_ls = link_ls1 + link_ls2 + link_ls3 + link_ls4 + link_ls5\n",
    "title_ls = title_ls1 + title_ls2 + title_ls3 + title_ls4 + title_ls5\n",
    "print(len(title_ls) , len(ls) , len(link_ls))"
   ]
  },
  {
   "cell_type": "code",
   "execution_count": 22,
   "metadata": {
    "collapsed": false
   },
   "outputs": [],
   "source": [
    "df = pd.DataFrame(columns=['Title','Link','Doc'])\n",
    "df['Title'] = title_ls\n",
    "df['Link'] = link_ls\n",
    "df['Doc'] = ls\n",
    "df.to_csv('0920_with_link.csv',index=False)"
   ]
  }
 ],
 "metadata": {
  "kernelspec": {
   "display_name": "Python 3",
   "language": "python",
   "name": "python3"
  },
  "language_info": {
   "codemirror_mode": {
    "name": "ipython",
    "version": 3
   },
   "file_extension": ".py",
   "mimetype": "text/x-python",
   "name": "python",
   "nbconvert_exporter": "python",
   "pygments_lexer": "ipython3",
   "version": "3.6.0"
  }
 },
 "nbformat": 4,
 "nbformat_minor": 2
}
