{
 "cells": [
  {
   "cell_type": "code",
   "execution_count": 11,
   "metadata": {
    "collapsed": true
   },
   "outputs": [],
   "source": [
    "from korean_crawling_bundles import *"
   ]
  },
  {
   "cell_type": "code",
   "execution_count": 12,
   "metadata": {
    "collapsed": true
   },
   "outputs": [],
   "source": [
    "def send_email():\n",
    "    pw = pickle.load(open(\"pw.pickle\", \"rb\"))\n",
    "    url = \"http://mail.google.com\"\n",
    "    driver = webdriver.Chrome()\n",
    "    driver.get(url)\n",
    "    driver.find_element_by_css_selector( \"#identifierId\" ).send_keys( \"hskimim8855@gmail.com\" )\n",
    "    driver.find_element_by_css_selector('#identifierNext > content > span').click()\n",
    "    time.sleep(2)\n",
    "    driver.find_element_by_css_selector( \"#password > div.aCsJod.oJeWuf > div > div.Xb9hP > input\" ).send_keys( pw )\n",
    "    driver.find_element_by_css_selector('#passwordNext > content > span').click()\n",
    "    time.sleep(10)\n",
    "    driver.find_element_by_xpath('//*[@id=\":ix\"]/div/div').click()\n",
    "    time.sleep(1)\n",
    "    driver.find_element_by_xpath('//*[@id=\":ol\"]').send_keys( \"hskimim8855@gmail.com\" )\n",
    "    time.sleep(1)\n",
    "    driver.find_element_by_xpath('//*[@id=\":o3\"]').send_keys( \"report_message\" )\n",
    "    driver.find_element_by_xpath('//*[@id=\":pt\"]').click()\n",
    "    time.sleep(10)\n",
    "    driver.find_element_by_xpath('//*[@id=\":nt\"]').click()\n",
    "    driver.close()"
   ]
  },
  {
   "cell_type": "code",
   "execution_count": 13,
   "metadata": {
    "collapsed": true
   },
   "outputs": [],
   "source": [
    "send_email()"
   ]
  }
 ],
 "metadata": {
  "kernelspec": {
   "display_name": "Python 3",
   "language": "python",
   "name": "python3"
  },
  "language_info": {
   "codemirror_mode": {
    "name": "ipython",
    "version": 3
   },
   "file_extension": ".py",
   "mimetype": "text/x-python",
   "name": "python",
   "nbconvert_exporter": "python",
   "pygments_lexer": "ipython3",
   "version": "3.6.0"
  }
 },
 "nbformat": 4,
 "nbformat_minor": 2
}
