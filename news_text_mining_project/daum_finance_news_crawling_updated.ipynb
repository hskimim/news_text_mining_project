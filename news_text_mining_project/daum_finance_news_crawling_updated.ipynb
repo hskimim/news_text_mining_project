{
 "cells": [
  {
   "cell_type": "code",
   "execution_count": 1,
   "metadata": {
    "collapsed": true
   },
   "outputs": [],
   "source": [
    "import requests\n",
    "from scrapy.http import TextResponse\n",
    "import pandas as pd\n",
    "import datetime"
   ]
  },
  {
   "cell_type": "code",
   "execution_count": 2,
   "metadata": {
    "collapsed": true
   },
   "outputs": [],
   "source": [
    "title_ls,link_ls = [],[]\n",
    "for page in range(1,21+1):\n",
    "    url = 'http://m.finance.daum.net/m/news/news_list.daum?type=main&page={}'.format(page)\n",
    "    req = requests.get(url)\n",
    "    response = TextResponse(req.url , body=req.text , encoding='utf-8')\n",
    "    for content in range(1,10+1):\n",
    "        try : \n",
    "            title_ls.append(response.xpath('//*[@id=\"mArticle\"]/div[2]/ul/li[{}]/a/strong/text()'.format(content)).extract()[0])\n",
    "            link_ls.append(response.xpath('//*[@id=\"mArticle\"]/div[2]/ul/li[{}]/a/@href'.format(content)).extract()[0])\n",
    "        except : pass"
   ]
  },
  {
   "cell_type": "code",
   "execution_count": 3,
   "metadata": {},
   "outputs": [
    {
     "data": {
      "text/plain": [
       "True"
      ]
     },
     "execution_count": 3,
     "metadata": {},
     "output_type": "execute_result"
    }
   ],
   "source": [
    "len(title_ls) == len(link_ls)"
   ]
  },
  {
   "cell_type": "code",
   "execution_count": 4,
   "metadata": {},
   "outputs": [
    {
     "data": {
      "text/html": [
       "<div>\n",
       "<style>\n",
       "    .dataframe thead tr:only-child th {\n",
       "        text-align: right;\n",
       "    }\n",
       "\n",
       "    .dataframe thead th {\n",
       "        text-align: left;\n",
       "    }\n",
       "\n",
       "    .dataframe tbody tr th {\n",
       "        vertical-align: top;\n",
       "    }\n",
       "</style>\n",
       "<table border=\"1\" class=\"dataframe\">\n",
       "  <thead>\n",
       "    <tr style=\"text-align: right;\">\n",
       "      <th></th>\n",
       "      <th>title</th>\n",
       "      <th>link</th>\n",
       "    </tr>\n",
       "  </thead>\n",
       "  <tbody>\n",
       "    <tr>\n",
       "      <th>184</th>\n",
       "      <td>유류세 인하 일주일..휘발유 110원·경유 73원 내려</td>\n",
       "      <td>http://m.finance.daum.net/m/news/news_content....</td>\n",
       "    </tr>\n",
       "    <tr>\n",
       "      <th>185</th>\n",
       "      <td>[단독]'라면 마케팅' 비용 메우려 과자 54개 제품 가격 올리는 농심(종합)</td>\n",
       "      <td>http://m.finance.daum.net/m/news/news_content....</td>\n",
       "    </tr>\n",
       "    <tr>\n",
       "      <th>186</th>\n",
       "      <td>10월 코스닥 개인 거래비중 80%..약 20년만에 최저</td>\n",
       "      <td>http://m.finance.daum.net/m/news/news_content....</td>\n",
       "    </tr>\n",
       "    <tr>\n",
       "      <th>187</th>\n",
       "      <td>[단독]새우깡도 오른다..농심, 과자 20개 브랜드 '가격 최대 9.1% 인상'</td>\n",
       "      <td>http://m.finance.daum.net/m/news/news_content....</td>\n",
       "    </tr>\n",
       "    <tr>\n",
       "      <th>188</th>\n",
       "      <td>대의원에게 소주 1박스·쌀 1포대 전달..조합 임원 '당선무효형'</td>\n",
       "      <td>http://m.finance.daum.net/m/news/news_content....</td>\n",
       "    </tr>\n",
       "  </tbody>\n",
       "</table>\n",
       "</div>"
      ],
      "text/plain": [
       "                                            title  \\\n",
       "184                유류세 인하 일주일..휘발유 110원·경유 73원 내려   \n",
       "185   [단독]'라면 마케팅' 비용 메우려 과자 54개 제품 가격 올리는 농심(종합)   \n",
       "186               10월 코스닥 개인 거래비중 80%..약 20년만에 최저   \n",
       "187  [단독]새우깡도 오른다..농심, 과자 20개 브랜드 '가격 최대 9.1% 인상'   \n",
       "188          대의원에게 소주 1박스·쌀 1포대 전달..조합 임원 '당선무효형'   \n",
       "\n",
       "                                                  link  \n",
       "184  http://m.finance.daum.net/m/news/news_content....  \n",
       "185  http://m.finance.daum.net/m/news/news_content....  \n",
       "186  http://m.finance.daum.net/m/news/news_content....  \n",
       "187  http://m.finance.daum.net/m/news/news_content....  \n",
       "188  http://m.finance.daum.net/m/news/news_content....  "
      ]
     },
     "execution_count": 4,
     "metadata": {},
     "output_type": "execute_result"
    }
   ],
   "source": [
    "df = pd.DataFrame()\n",
    "df['title'] = title_ls\n",
    "df['link'] = link_ls\n",
    "df['link'] = ['http://m.finance.daum.net' + i for i in df['link']]\n",
    "df.tail()"
   ]
  },
  {
   "cell_type": "code",
   "execution_count": 5,
   "metadata": {
    "collapsed": true
   },
   "outputs": [],
   "source": [
    "content_ls = []\n",
    "\n",
    "for i in df['link'].values:\n",
    "    req = requests.get(i)\n",
    "    response = TextResponse(req.url , body=req.text , encoding='utf-8')\n",
    "    content_ls.append(','.join(response.xpath('//*[@id=\"dmcfContents\"]/section/p/text()').extract()).replace(',',''))"
   ]
  },
  {
   "cell_type": "code",
   "execution_count": 6,
   "metadata": {},
   "outputs": [
    {
     "data": {
      "text/plain": [
       "True"
      ]
     },
     "execution_count": 6,
     "metadata": {},
     "output_type": "execute_result"
    }
   ],
   "source": [
    "len(title_ls) == len(link_ls) == len(content_ls)"
   ]
  },
  {
   "cell_type": "code",
   "execution_count": 7,
   "metadata": {},
   "outputs": [
    {
     "data": {
      "text/html": [
       "<div>\n",
       "<style>\n",
       "    .dataframe thead tr:only-child th {\n",
       "        text-align: right;\n",
       "    }\n",
       "\n",
       "    .dataframe thead th {\n",
       "        text-align: left;\n",
       "    }\n",
       "\n",
       "    .dataframe tbody tr th {\n",
       "        vertical-align: top;\n",
       "    }\n",
       "</style>\n",
       "<table border=\"1\" class=\"dataframe\">\n",
       "  <thead>\n",
       "    <tr style=\"text-align: right;\">\n",
       "      <th></th>\n",
       "      <th>title</th>\n",
       "      <th>link</th>\n",
       "      <th>content</th>\n",
       "    </tr>\n",
       "  </thead>\n",
       "  <tbody>\n",
       "    <tr>\n",
       "      <th>184</th>\n",
       "      <td>유류세 인하 일주일..휘발유 110원·경유 73원 내려</td>\n",
       "      <td>http://m.finance.daum.net/m/news/news_content....</td>\n",
       "      <td>【서울=뉴시스】김지은 기자 = 휘발유와 경유 등에 붙는 세금이 15% 인하된지 일주...</td>\n",
       "    </tr>\n",
       "    <tr>\n",
       "      <th>185</th>\n",
       "      <td>[단독]'라면 마케팅' 비용 메우려 과자 54개 제품 가격 올리는 농심(종합)</td>\n",
       "      <td>http://m.finance.daum.net/m/news/news_content....</td>\n",
       "      <td>[아시아경제 이선애 기자] 주요 식품 가격이 줄줄이 오르고 있는 가운데 과자 가격도...</td>\n",
       "    </tr>\n",
       "    <tr>\n",
       "      <th>186</th>\n",
       "      <td>10월 코스닥 개인 거래비중 80%..약 20년만에 최저</td>\n",
       "      <td>http://m.finance.daum.net/m/news/news_content....</td>\n",
       "      <td>(서울=연합뉴스) 권수현 기자 = 국내 증시가 글로벌 금융위기 이후 최악의 급락을 ...</td>\n",
       "    </tr>\n",
       "    <tr>\n",
       "      <th>187</th>\n",
       "      <td>[단독]새우깡도 오른다..농심, 과자 20개 브랜드 '가격 최대 9.1% 인상'</td>\n",
       "      <td>http://m.finance.daum.net/m/news/news_content....</td>\n",
       "      <td>[아시아경제 이선애 기자] 주요 식품 가격이 줄줄이 오르고 있는 가운데 과자 가격도...</td>\n",
       "    </tr>\n",
       "    <tr>\n",
       "      <th>188</th>\n",
       "      <td>대의원에게 소주 1박스·쌀 1포대 전달..조합 임원 '당선무효형'</td>\n",
       "      <td>http://m.finance.daum.net/m/news/news_content....</td>\n",
       "      <td>(춘천=연합뉴스) 이재현 기자 = 대의원을 찾아가 소주 1박스와 쌀 1포대를 기부한...</td>\n",
       "    </tr>\n",
       "  </tbody>\n",
       "</table>\n",
       "</div>"
      ],
      "text/plain": [
       "                                            title  \\\n",
       "184                유류세 인하 일주일..휘발유 110원·경유 73원 내려   \n",
       "185   [단독]'라면 마케팅' 비용 메우려 과자 54개 제품 가격 올리는 농심(종합)   \n",
       "186               10월 코스닥 개인 거래비중 80%..약 20년만에 최저   \n",
       "187  [단독]새우깡도 오른다..농심, 과자 20개 브랜드 '가격 최대 9.1% 인상'   \n",
       "188          대의원에게 소주 1박스·쌀 1포대 전달..조합 임원 '당선무효형'   \n",
       "\n",
       "                                                  link  \\\n",
       "184  http://m.finance.daum.net/m/news/news_content....   \n",
       "185  http://m.finance.daum.net/m/news/news_content....   \n",
       "186  http://m.finance.daum.net/m/news/news_content....   \n",
       "187  http://m.finance.daum.net/m/news/news_content....   \n",
       "188  http://m.finance.daum.net/m/news/news_content....   \n",
       "\n",
       "                                               content  \n",
       "184  【서울=뉴시스】김지은 기자 = 휘발유와 경유 등에 붙는 세금이 15% 인하된지 일주...  \n",
       "185  [아시아경제 이선애 기자] 주요 식품 가격이 줄줄이 오르고 있는 가운데 과자 가격도...  \n",
       "186  (서울=연합뉴스) 권수현 기자 = 국내 증시가 글로벌 금융위기 이후 최악의 급락을 ...  \n",
       "187  [아시아경제 이선애 기자] 주요 식품 가격이 줄줄이 오르고 있는 가운데 과자 가격도...  \n",
       "188  (춘천=연합뉴스) 이재현 기자 = 대의원을 찾아가 소주 1박스와 쌀 1포대를 기부한...  "
      ]
     },
     "execution_count": 7,
     "metadata": {},
     "output_type": "execute_result"
    }
   ],
   "source": [
    "df['content'] = content_ls\n",
    "df['content'] = [i.replace(\"\\t\",'').replace('\\n','') for i in df['content'].values]\n",
    "df.tail()"
   ]
  },
  {
   "cell_type": "code",
   "execution_count": 8,
   "metadata": {
    "collapsed": true
   },
   "outputs": [],
   "source": [
    "df.to_csv('{}_with_link_daum.csv'.format(str(datetime.datetime.now().month) + str(datetime.datetime.now().day),index=False),index=False)"
   ]
  }
 ],
 "metadata": {
  "kernelspec": {
   "display_name": "Python 3",
   "language": "python",
   "name": "python3"
  },
  "language_info": {
   "codemirror_mode": {
    "name": "ipython",
    "version": 3
   },
   "file_extension": ".py",
   "mimetype": "text/x-python",
   "name": "python",
   "nbconvert_exporter": "python",
   "pygments_lexer": "ipython3",
   "version": "3.6.3"
  }
 },
 "nbformat": 4,
 "nbformat_minor": 2
}
