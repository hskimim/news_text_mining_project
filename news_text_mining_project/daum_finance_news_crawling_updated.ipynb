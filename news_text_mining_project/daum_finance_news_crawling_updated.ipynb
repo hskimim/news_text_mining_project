{
 "cells": [
  {
   "cell_type": "code",
   "execution_count": 1,
   "metadata": {
    "collapsed": true
   },
   "outputs": [],
   "source": [
    "import requests\n",
    "from scrapy.http import TextResponse\n",
    "import pandas as pd\n",
    "import datetime"
   ]
  },
  {
   "cell_type": "code",
   "execution_count": 2,
   "metadata": {
    "collapsed": true
   },
   "outputs": [],
   "source": [
    "title_ls,link_ls = [],[]\n",
    "for page in range(1,21+1):\n",
    "    url = 'http://m.finance.daum.net/m/news/news_list.daum?type=main&page={}'.format(page)\n",
    "    req = requests.get(url)\n",
    "    response = TextResponse(req.url , body=req.text , encoding='utf-8')\n",
    "    for content in range(1,10+1):\n",
    "        try : \n",
    "            title_ls.append(response.xpath('//*[@id=\"mArticle\"]/div[2]/ul/li[{}]/a/strong/text()'.format(content)).extract()[0])\n",
    "            link_ls.append(response.xpath('//*[@id=\"mArticle\"]/div[2]/ul/li[{}]/a/@href'.format(content)).extract()[0])\n",
    "        except : pass"
   ]
  },
  {
   "cell_type": "code",
   "execution_count": 3,
   "metadata": {},
   "outputs": [
    {
     "data": {
      "text/plain": [
       "True"
      ]
     },
     "execution_count": 3,
     "metadata": {},
     "output_type": "execute_result"
    }
   ],
   "source": [
    "len(title_ls) == len(link_ls)"
   ]
  },
  {
   "cell_type": "code",
   "execution_count": 4,
   "metadata": {},
   "outputs": [
    {
     "data": {
      "text/html": [
       "<div>\n",
       "<style>\n",
       "    .dataframe thead tr:only-child th {\n",
       "        text-align: right;\n",
       "    }\n",
       "\n",
       "    .dataframe thead th {\n",
       "        text-align: left;\n",
       "    }\n",
       "\n",
       "    .dataframe tbody tr th {\n",
       "        vertical-align: top;\n",
       "    }\n",
       "</style>\n",
       "<table border=\"1\" class=\"dataframe\">\n",
       "  <thead>\n",
       "    <tr style=\"text-align: right;\">\n",
       "      <th></th>\n",
       "      <th>title</th>\n",
       "      <th>link</th>\n",
       "    </tr>\n",
       "  </thead>\n",
       "  <tbody>\n",
       "    <tr>\n",
       "      <th>184</th>\n",
       "      <td>[앵커의 눈] \"수수료 때문에 못살겠다\" vs \"인하 여력 없다\"..정부는 '진퇴양난'</td>\n",
       "      <td>http://m.finance.daum.net/m/news/news_content....</td>\n",
       "    </tr>\n",
       "    <tr>\n",
       "      <th>185</th>\n",
       "      <td>영국 3분기 임금 3.2% 증가..금융위기 후 최고</td>\n",
       "      <td>http://m.finance.daum.net/m/news/news_content....</td>\n",
       "    </tr>\n",
       "    <tr>\n",
       "      <th>186</th>\n",
       "      <td>OPEC, 2019년 석유 공급과잉 경고..감산 바닥다지기?</td>\n",
       "      <td>http://m.finance.daum.net/m/news/news_content....</td>\n",
       "    </tr>\n",
       "    <tr>\n",
       "      <th>187</th>\n",
       "      <td>또 감원 바람 부나.. 조선업계 뒤숭숭</td>\n",
       "      <td>http://m.finance.daum.net/m/news/news_content....</td>\n",
       "    </tr>\n",
       "    <tr>\n",
       "      <th>188</th>\n",
       "      <td>李총리 \"캐나다 세이프가드 조치 우려..양국간 공정무역 지속\"</td>\n",
       "      <td>http://m.finance.daum.net/m/news/news_content....</td>\n",
       "    </tr>\n",
       "  </tbody>\n",
       "</table>\n",
       "</div>"
      ],
      "text/plain": [
       "                                                title  \\\n",
       "184  [앵커의 눈] \"수수료 때문에 못살겠다\" vs \"인하 여력 없다\"..정부는 '진퇴양난'   \n",
       "185                      영국 3분기 임금 3.2% 증가..금융위기 후 최고   \n",
       "186                 OPEC, 2019년 석유 공급과잉 경고..감산 바닥다지기?   \n",
       "187                             또 감원 바람 부나.. 조선업계 뒤숭숭   \n",
       "188                李총리 \"캐나다 세이프가드 조치 우려..양국간 공정무역 지속\"   \n",
       "\n",
       "                                                  link  \n",
       "184  http://m.finance.daum.net/m/news/news_content....  \n",
       "185  http://m.finance.daum.net/m/news/news_content....  \n",
       "186  http://m.finance.daum.net/m/news/news_content....  \n",
       "187  http://m.finance.daum.net/m/news/news_content....  \n",
       "188  http://m.finance.daum.net/m/news/news_content....  "
      ]
     },
     "execution_count": 4,
     "metadata": {},
     "output_type": "execute_result"
    }
   ],
   "source": [
    "df = pd.DataFrame()\n",
    "df['title'] = title_ls\n",
    "df['link'] = link_ls\n",
    "df['link'] = ['http://m.finance.daum.net' + i for i in df['link']]\n",
    "df.tail()"
   ]
  },
  {
   "cell_type": "code",
   "execution_count": 5,
   "metadata": {
    "collapsed": true
   },
   "outputs": [],
   "source": [
    "content_ls = []\n",
    "\n",
    "for i in df['link'].values:\n",
    "    req = requests.get(i)\n",
    "    response = TextResponse(req.url , body=req.text , encoding='utf-8')\n",
    "    content_ls.append(','.join(response.xpath('//*[@id=\"dmcfContents\"]/section/p/text()').extract()).replace(',',''))"
   ]
  },
  {
   "cell_type": "code",
   "execution_count": 6,
   "metadata": {},
   "outputs": [
    {
     "data": {
      "text/plain": [
       "True"
      ]
     },
     "execution_count": 6,
     "metadata": {},
     "output_type": "execute_result"
    }
   ],
   "source": [
    "len(title_ls) == len(link_ls) == len(content_ls)"
   ]
  },
  {
   "cell_type": "code",
   "execution_count": 7,
   "metadata": {},
   "outputs": [
    {
     "data": {
      "text/html": [
       "<div>\n",
       "<style>\n",
       "    .dataframe thead tr:only-child th {\n",
       "        text-align: right;\n",
       "    }\n",
       "\n",
       "    .dataframe thead th {\n",
       "        text-align: left;\n",
       "    }\n",
       "\n",
       "    .dataframe tbody tr th {\n",
       "        vertical-align: top;\n",
       "    }\n",
       "</style>\n",
       "<table border=\"1\" class=\"dataframe\">\n",
       "  <thead>\n",
       "    <tr style=\"text-align: right;\">\n",
       "      <th></th>\n",
       "      <th>title</th>\n",
       "      <th>link</th>\n",
       "      <th>content</th>\n",
       "    </tr>\n",
       "  </thead>\n",
       "  <tbody>\n",
       "    <tr>\n",
       "      <th>184</th>\n",
       "      <td>[앵커의 눈] \"수수료 때문에 못살겠다\" vs \"인하 여력 없다\"..정부는 '진퇴양난'</td>\n",
       "      <td>http://m.finance.daum.net/m/news/news_content....</td>\n",
       "      <td>[앵커] 가맹점들이 내는 카드수수료는 연매출액에 따라 이렇게 세 구간으로 나뉘어있습...</td>\n",
       "    </tr>\n",
       "    <tr>\n",
       "      <th>185</th>\n",
       "      <td>영국 3분기 임금 3.2% 증가..금융위기 후 최고</td>\n",
       "      <td>http://m.finance.daum.net/m/news/news_content....</td>\n",
       "      <td>(런던=연합뉴스) 박대한 특파원 = 영국의 3분기 임금 상승률이 2008년 금융위기...</td>\n",
       "    </tr>\n",
       "    <tr>\n",
       "      <th>186</th>\n",
       "      <td>OPEC, 2019년 석유 공급과잉 경고..감산 바닥다지기?</td>\n",
       "      <td>http://m.finance.daum.net/m/news/news_content....</td>\n",
       "      <td>(서울=뉴스1) 이창규 기자 = 석유수출국기구(OPEC)는 13일 세계 경제가 둔화...</td>\n",
       "    </tr>\n",
       "    <tr>\n",
       "      <th>187</th>\n",
       "      <td>또 감원 바람 부나.. 조선업계 뒤숭숭</td>\n",
       "      <td>http://m.finance.daum.net/m/news/news_content....</td>\n",
       "      <td>연말을 앞두고 조선업계에 또다시 ‘구조조정’ 바람이 불 조짐이다. 국내 조선사 ‘빅...</td>\n",
       "    </tr>\n",
       "    <tr>\n",
       "      <th>188</th>\n",
       "      <td>李총리 \"캐나다 세이프가드 조치 우려..양국간 공정무역 지속\"</td>\n",
       "      <td>http://m.finance.daum.net/m/news/news_content....</td>\n",
       "      <td>(서울=뉴스1) 박승주 기자 = 이낙연 국무총리는 13일 오후 정부서울청사에서 조지...</td>\n",
       "    </tr>\n",
       "  </tbody>\n",
       "</table>\n",
       "</div>"
      ],
      "text/plain": [
       "                                                title  \\\n",
       "184  [앵커의 눈] \"수수료 때문에 못살겠다\" vs \"인하 여력 없다\"..정부는 '진퇴양난'   \n",
       "185                      영국 3분기 임금 3.2% 증가..금융위기 후 최고   \n",
       "186                 OPEC, 2019년 석유 공급과잉 경고..감산 바닥다지기?   \n",
       "187                             또 감원 바람 부나.. 조선업계 뒤숭숭   \n",
       "188                李총리 \"캐나다 세이프가드 조치 우려..양국간 공정무역 지속\"   \n",
       "\n",
       "                                                  link  \\\n",
       "184  http://m.finance.daum.net/m/news/news_content....   \n",
       "185  http://m.finance.daum.net/m/news/news_content....   \n",
       "186  http://m.finance.daum.net/m/news/news_content....   \n",
       "187  http://m.finance.daum.net/m/news/news_content....   \n",
       "188  http://m.finance.daum.net/m/news/news_content....   \n",
       "\n",
       "                                               content  \n",
       "184  [앵커] 가맹점들이 내는 카드수수료는 연매출액에 따라 이렇게 세 구간으로 나뉘어있습...  \n",
       "185  (런던=연합뉴스) 박대한 특파원 = 영국의 3분기 임금 상승률이 2008년 금융위기...  \n",
       "186  (서울=뉴스1) 이창규 기자 = 석유수출국기구(OPEC)는 13일 세계 경제가 둔화...  \n",
       "187  연말을 앞두고 조선업계에 또다시 ‘구조조정’ 바람이 불 조짐이다. 국내 조선사 ‘빅...  \n",
       "188  (서울=뉴스1) 박승주 기자 = 이낙연 국무총리는 13일 오후 정부서울청사에서 조지...  "
      ]
     },
     "execution_count": 7,
     "metadata": {},
     "output_type": "execute_result"
    }
   ],
   "source": [
    "df['content'] = content_ls\n",
    "df['content'] = [i.replace(\"\\t\",'').replace('\\n','') for i in df['content'].values]\n",
    "df.tail()"
   ]
  },
  {
   "cell_type": "code",
   "execution_count": 8,
   "metadata": {
    "collapsed": true
   },
   "outputs": [],
   "source": [
    "df.to_csv('{}_with_link_daum.csv'.format(str(datetime.datetime.now().month) + str(datetime.datetime.now().day),index=False),index=False)"
   ]
  }
 ],
 "metadata": {
  "kernelspec": {
   "display_name": "Python 3",
   "language": "python",
   "name": "python3"
  },
  "language_info": {
   "codemirror_mode": {
    "name": "ipython",
    "version": 3
   },
   "file_extension": ".py",
   "mimetype": "text/x-python",
   "name": "python",
   "nbconvert_exporter": "python",
   "pygments_lexer": "ipython3",
   "version": "3.6.3"
  }
 },
 "nbformat": 4,
 "nbformat_minor": 2
}
